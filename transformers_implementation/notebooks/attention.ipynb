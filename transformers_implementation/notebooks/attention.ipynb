{
 "cells": [
  {
   "cell_type": "code",
   "execution_count": 1,
   "metadata": {},
   "outputs": [],
   "source": [
    "import torch\n",
    "from torch import nn\n",
    "import torch.nn.functional as F\n",
    "import numpy as np"
   ]
  },
  {
   "cell_type": "markdown",
   "metadata": {},
   "source": [
    "# Compute self attention"
   ]
  },
  {
   "attachments": {},
   "cell_type": "markdown",
   "metadata": {},
   "source": [
    "In transformers models, attention provides context for each sequence. This helps the model understand how different words relate to each other to create meaningful sentences. According to Wikipedia’s description, “the attention layer can access all previous states and weigh them according to a learned measure of relevance, providing relevant information about far-away tokens.”"
   ]
  },
  {
   "cell_type": "markdown",
   "metadata": {},
   "source": [
    "According to “Attention Is All You Need”:\n",
    "\n",
    "An attention function can be described as mapping a query and a set of key-value pairs to an output, where the query, keys, values, and output are all vectors. The output is computed as a weighted sum of the values, where the weight assigned to each value is computed by a compatibility function of the query with the corresponding key.\n",
    "\n",
    "We call our particular attention “Scaled Dot-Product Attention”. The input consists of queries and keys of dimension d_key, and values of dimension d_value. We compute the dot products of the query with all keys, divide each by √(d_key), and apply a softmax function to obtain the weights on the values."
   ]
  },
  {
   "attachments": {},
   "cell_type": "markdown",
   "metadata": {},
   "source": [
    "Let's consider an input sequence with t k-dimensional vectors."
   ]
  },
  {
   "attachments": {},
   "cell_type": "markdown",
   "metadata": {},
   "source": [
    "<img src=\"../images/self_attention.png\" alt=\"drawing\" width=\"600\"/>"
   ]
  },
  {
   "attachments": {},
   "cell_type": "markdown",
   "metadata": {},
   "source": [
    "To compute the attention:\n",
    "1. we need to compute the dot product of the matrix in order to obtain the weights.\n",
    "2. Then we apply softmax function to these weights to have the normalized weights\n",
    "3. Then we multiply these weights by initial vectors and sum them all to have the self attention"
   ]
  },
  {
   "cell_type": "code",
   "execution_count": 35,
   "metadata": {},
   "outputs": [],
   "source": [
    "t = 10\n",
    "k = 5\n",
    "X = torch.rand(t, k)\n",
    "\n",
    "raw_weights = torch.mm(X, X.transpose(1, 0))\n",
    "weights = nn.Softmax(dim=1)(raw_weights)\n",
    "\n",
    "attention = torch.mm(weights, X)"
   ]
  },
  {
   "cell_type": "code",
   "execution_count": 40,
   "metadata": {},
   "outputs": [
    {
     "data": {
      "text/plain": [
       "tensor([[0.5358, 0.4512, 0.4647, 0.6081, 0.5569],\n",
       "        [0.5740, 0.4100, 0.4658, 0.5725, 0.6087],\n",
       "        [0.5454, 0.3678, 0.4956, 0.5380, 0.6225],\n",
       "        [0.6130, 0.3393, 0.4469, 0.4723, 0.6416],\n",
       "        [0.6616, 0.3441, 0.4753, 0.4769, 0.6055],\n",
       "        [0.6666, 0.3788, 0.4809, 0.4748, 0.5598],\n",
       "        [0.6471, 0.3382, 0.4975, 0.4762, 0.5990],\n",
       "        [0.5740, 0.3639, 0.5166, 0.5478, 0.5777],\n",
       "        [0.6477, 0.4312, 0.4594, 0.5385, 0.6006],\n",
       "        [0.6579, 0.3818, 0.5083, 0.4755, 0.5660]])"
      ]
     },
     "execution_count": 40,
     "metadata": {},
     "output_type": "execute_result"
    }
   ],
   "source": [
    "attention"
   ]
  },
  {
   "attachments": {},
   "cell_type": "markdown",
   "metadata": {},
   "source": [
    "Every input vector 𝐱i is used in three different ways in the self attention operation:  \n",
    "\n",
    "- It is compared to every other vector to establish the weights for its own output 𝐲i  \n",
    "- It is compared to every other vector to establish the weights for the output of the j-th vector 𝐲j  \n",
    "- It is used as part of the weighted sum to compute each output vector once the weights have been established.  \n",
    "\n",
    "These roles are often called the query, the key and the value"
   ]
  },
  {
   "attachments": {},
   "cell_type": "markdown",
   "metadata": {},
   "source": [
    "We make its life a little easier by deriving new vectors for each role, by applying a linear transformation to the original input vector. In other words, we add three k×k weight matrices 𝐖q, 𝐖k,𝐖v and compute three linear transformations of each xi, for the three different parts of the self attention:\n",
    "- 𝐪i=𝐖q𝐱i \n",
    "- 𝐤i=𝐖k𝐱i\n",
    "- 𝐯i=𝐖v𝐱i\n",
    "\n",
    "w′ij=𝐪iT𝐤j    \n",
    "\n",
    "wij=softmax(w′ij)   \n",
    "\n",
    "𝐲i=∑jwij𝐯j  "
   ]
  },
  {
   "attachments": {},
   "cell_type": "markdown",
   "metadata": {},
   "source": [
    "<img src=\"../images/key-query-value.png\" alt=\"drawing\" width=\"600\"/>"
   ]
  },
  {
   "cell_type": "markdown",
   "metadata": {},
   "source": [
    "# Mutli head attention"
   ]
  },
  {
   "attachments": {},
   "cell_type": "markdown",
   "metadata": {},
   "source": [
    "The simplest way to understand multi-head self-attention is to see it as a small number of copies of the self-attention mechanism applied in parallel, each with their own key, value and query transformation.  \n",
    "Each head receives low-dimensional keys queries and values. If the input vector has k=256 dimensions, and we have h=4 attention heads, we multiply the input vectors by a 256×64 matrix to project them down to a sequence of 64 dimansional vectors. For every head, we do this 3 times: for the keys, the queries and the values.  \n",
    "We project the initial vectors in lower dimension. The objective is to have multiple representations of the same vector that we will concatenate in the end to have all these representations in one place."
   ]
  },
  {
   "attachments": {},
   "cell_type": "markdown",
   "metadata": {},
   "source": [
    "<img src=\"../images/multihead_attention.png\" alt=\"drawing\" width=\"800\"/>"
   ]
  },
  {
   "attachments": {},
   "cell_type": "markdown",
   "metadata": {},
   "source": [
    "This requires 3h matrices of size k by k/h. In total, this gives us 3hk(k/h)=3k^2 parameters to compute the inputs to the multi-head self-attention: the same as we had for the single-head self-attention.\n",
    "\n",
    "We can even implement this with just three k×k matrix multiplications as in the single-head self-attention. The only extra operation we need is to slice the resulting sequence of vectors into chunks."
   ]
  },
  {
   "attachments": {},
   "cell_type": "markdown",
   "metadata": {},
   "source": [
    "<img src=\"../images/compute_query_sequentially.png\" alt=\"drawing\" width=\"800\"/>"
   ]
  },
  {
   "attachments": {},
   "cell_type": "markdown",
   "metadata": {},
   "source": [
    "<img src=\"../images/compute_query_in_once.png\" alt=\"drawing\" width=\"800\"/>"
   ]
  },
  {
   "attachments": {},
   "cell_type": "markdown",
   "metadata": {},
   "source": [
    "\n",
    "How to build a multihead selfAttention Module:\n",
    "1. Define a head number that is divisible from the input \n",
    "2. Define linear transformations to key, queries and values for each head\n",
    "3. Apply the linear transformation associated to every input to obtain the key, query and value\n",
    "4. Reshape the matrix of key, query and value to have them in different heads. One dimension for heads: we can access to the input of each head\n",
    "5. Merge heads and batch because it's the same operation for each head \n",
    "6. Compute the raw weights w′ij=𝐪iT𝐤j and normalize them (because the softmax function can be sensitive to very large input values. These kill the gradient, and slow down learning, or cause it to stop altogether)\n",
    "7. We apply the Softmax function\n",
    "8. Multiply weights of self attention to the values\n",
    "9. Reshape in order to concatenatre heads and have b x t x k\n",
    "10. Apply the unifyheads an return it"
   ]
  },
  {
   "attachments": {},
   "cell_type": "markdown",
   "metadata": {},
   "source": [
    "### What Contiguous means?\n",
    "\n",
    "\n",
    "torch.tensor.contiguous is a method in PyTorch that checks whether a tensor is contiguous in memory. A contiguous tensor means that its elements are stored in a single, contiguous block of memory, without any gaps or strides.\n",
    "\n",
    "### Why do we need Contiguous\n",
    "\n",
    "1. View and Slicing Operations: Some slicing and view operations may require contiguous memory to work efficiently. For example, using tensor.view() to reshape a non-contiguous tensor may result in a runtime error, and you would need to use tensor.contiguous().view() instead.\n",
    "\n",
    "2. Certain Math Operations: Some mathematical operations, especially those involving linear algebra operations or reductions, may benefit from contiguous memory layouts.\n",
    "\n",
    "3. Data Transfer between CPU and GPU: When transferring data between CPU and GPU, having a contiguous memory layout can improve the efficiency of the transfer.\n",
    "\n",
    "4. Interfacing with External Libraries: If you're working with external libraries or APIs that expect contiguous memory, ensuring your tensors are contiguous becomes important."
   ]
  },
  {
   "cell_type": "code",
   "execution_count": 124,
   "metadata": {},
   "outputs": [],
   "source": [
    "class MultHeadsSelfAttentionOpt(nn.Module):\n",
    "    # 1.Define a head number that is divisible from the input \n",
    "    def __init__(self, k, heads=4, mask=False):\n",
    "        super().__init__()\n",
    "        # Check if input is divisible by number of heads\n",
    "        assert k % heads == 0\n",
    "\n",
    "        self.k = k\n",
    "        self.heads = heads\n",
    "            \n",
    "        # 2. Define linear transformations to key, queries and values for each head\n",
    "        # biais = False because we want only weights\n",
    "        self.to_queries = nn.Linear(k, k, bias=False)\n",
    "        self.to_keys    = nn.Linear(k, k, bias=False) \n",
    "        self.to_values  = nn.Linear(k, k, bias=False)\n",
    "\n",
    "        # This will be applied after the multi-head self-attention operation.\n",
    "        self.unifyheads = nn.Linear(k, k)\n",
    "\n",
    "    def forward(self, x):\n",
    "        b, t, k = x.size() #as the training will be done by batch\n",
    "\n",
    "        # 3. Apply the linear transformation associated to every input to obtain the key, query and value\n",
    "        query = self.to_queries(x)\n",
    "        key = self.to_keys(x)\n",
    "        value = self.to_values(x)\n",
    "        \n",
    "        s = self.k // self.heads # number of elements per head\n",
    "        h = self.heads\n",
    "\n",
    "        # 4. Reshape the matrix of key, query and value to have them in different heads. \n",
    "        queries = query.view(b, t, h, s)\n",
    "        keys = key.view(b, t, h, s)\n",
    "        values = value.view(b, t, h, s)\n",
    "\n",
    "        # 5. Merge heads and batch because it's the same operation for each head\n",
    "        keys = keys.transpose(1, 2).contiguous().view(b * h, t, s)\n",
    "        queries = queries.transpose(1, 2).contiguous().view(b * h, t, s)\n",
    "        values = values.transpose(1, 2).contiguous().view(b * h, t, s)\n",
    "\n",
    "        # 6. Compute the raw weights w′ij=𝐪iT𝐤j and normalize them\n",
    "        weights_raw = torch.bmm(queries, keys.transpose(1, 2))\n",
    "        weights_raw_normalized = torch.div(weights_raw, torch.sqrt(torch.tensor(k)))\n",
    "\n",
    "        # 7. We apply the Softmax function to the similarity dimension (batch dim x input dim x sim dim)\n",
    "        weights = nn.Softmax(dim=2)(weights_raw_normalized)\n",
    "\n",
    "        # 8. Multiply weights of self attention to the values\n",
    "        self_attentions = torch.bmm(weights, values).view(b, h, t, s)\n",
    "\n",
    "        # 9. Reshape in order to concatenatre heads and have b x t x k\n",
    "        self_attention_formatted = self_attentions.transpose(1, 2).contiguous().view(b, t, s * h)\n",
    "\n",
    "        # 10. Apply the unifyheads an return it\n",
    "        return self.unifyheads(self_attention_formatted)\n"
   ]
  },
  {
   "cell_type": "code",
   "execution_count": null,
   "metadata": {},
   "outputs": [],
   "source": [
    "class OneHeadSelfAttention(nn.Module):\n",
    "    def __init__(self, k, low_dim):\n",
    "        super().__init__()\n",
    "        # Check if input is divisible by number of heads\n",
    "        self.k = k    \n",
    "        self.low_dim = low_dim \n",
    "        # 1. Define linear transformations to reduce dimensionnalité of input\n",
    "        # biais = False because we want only weights\n",
    "        self.to_reduce_dim = nn.Linear(k, low_dim, bias=False)\n",
    "        # 2. Define linear transformations to key, queries and values\n",
    "        # biais = False because we want only weights\n",
    "        self.to_queries = nn.Linear(low_dim, low_dim, bias=False)\n",
    "        self.to_keys    = nn.Linear(low_dim, low_dim, bias=False) \n",
    "        self.to_values  = nn.Linear(low_dim, low_dim, bias=False)\n",
    "\n",
    "    def forward(self, x):\n",
    "        #b, t, k = x.size() #as the training will be done by batch\n",
    "\n",
    "        # 3. Reduce dimensionnalité of input\n",
    "        low_dim_x = self.to_reduce_dim(x)\n",
    "        \n",
    "        # 4. Apply the linear transformation associated to every input to obtain the key, query and value\n",
    "        query = self.to_queries(low_dim_x) # b, t, low_dim\n",
    "        key = self.to_keys(low_dim_x)\n",
    "        value = self.to_values(low_dim_x)\n",
    "\n",
    "        # 5. Compute the raw weights w′ij=𝐪iT𝐤j and normalize them\n",
    "        weights_raw = torch.bmm(query, key.transpose(1, 2))\n",
    "        weights_raw_normalized = torch.div(weights_raw, torch.sqrt(torch.tensor(self.low_dim)))\n",
    "\n",
    "        # 6. We apply the Softmax function to the similarity dimension (batch dim x input dim x sim dim)\n",
    "        weights = nn.Softmax(dim=2)(weights_raw_normalized)\n",
    "\n",
    "        # 7. Multiply weights of self attention to the values\n",
    "        return torch.bmm(weights, value)\n",
    "    \n"
   ]
  },
  {
   "cell_type": "code",
   "execution_count": null,
   "metadata": {},
   "outputs": [],
   "source": [
    "class MultiHeadAttentionBis(nn.Module):\n",
    "    def __init__(self, k, h):\n",
    "        super().__init__()\n",
    "        low_dim = k // h\n",
    "        # Check if input is divisible by number of heads\n",
    "        assert k % h == 0\n",
    "        self.k = k    \n",
    "        self.low_dim = low_dim \n",
    "\n",
    "        self.to_final_attention = nn.Linear(k, k, bias=False)\n",
    "\n",
    "    def forward(self, x):\n",
    "        # for every head\n",
    "        list_of_heads_attentions = []\n",
    "        for j in range(self.h):\n",
    "            ohsa = OneHeadSelfAttention(self.k, self.low_dim)\n",
    "            list_of_heads_attentions.append(ohsa.forward(x))\n",
    "        \n",
    "        concat_attentions =  torch.cat(list_of_heads_attentions, dim=2)\n",
    "\n",
    "        final_attention = self.to_final_attention\n",
    "\n",
    "\n"
   ]
  },
  {
   "cell_type": "code",
   "execution_count": 7,
   "metadata": {},
   "outputs": [
    {
     "data": {
      "text/plain": [
       "torch.Size([12, 1000, 1000])"
      ]
     },
     "execution_count": 7,
     "metadata": {},
     "output_type": "execute_result"
    }
   ],
   "source": [
    "b = 12\n",
    "h = 4\n",
    "k = 256\n",
    "low_dim = 64\n",
    "t = 1000\n",
    "\n",
    "B1 = torch.rand(b, t, low_dim)\n",
    "B2 = torch.rand(b, t, low_dim)\n",
    "\n",
    "W = torch.bmm(B1, B2.transpose(1, 2))\n",
    "\n",
    "W.shape\n",
    "\n"
   ]
  },
  {
   "cell_type": "code",
   "execution_count": 19,
   "metadata": {},
   "outputs": [],
   "source": [
    "B0 = torch.rand(b, t, low_dim)\n",
    "B3 = torch.rand(b, t, low_dim)\n",
    "C = torch.bmm(W, B)"
   ]
  },
  {
   "cell_type": "code",
   "execution_count": 20,
   "metadata": {},
   "outputs": [],
   "source": [
    "A = [B0, B1, B1, B3]"
   ]
  },
  {
   "cell_type": "code",
   "execution_count": 21,
   "metadata": {},
   "outputs": [
    {
     "data": {
      "text/plain": [
       "torch.Size([12, 1000, 64])"
      ]
     },
     "execution_count": 21,
     "metadata": {},
     "output_type": "execute_result"
    }
   ],
   "source": [
    "B.shape"
   ]
  },
  {
   "cell_type": "code",
   "execution_count": 35,
   "metadata": {},
   "outputs": [],
   "source": [
    "C = torch.cat(A, dim=2)"
   ]
  },
  {
   "cell_type": "code",
   "execution_count": 36,
   "metadata": {},
   "outputs": [],
   "source": [
    "to_final_attention = nn.Linear(256, 256, bias=False)"
   ]
  },
  {
   "cell_type": "code",
   "execution_count": 37,
   "metadata": {},
   "outputs": [
    {
     "data": {
      "text/plain": [
       "torch.Size([12, 1000, 256])"
      ]
     },
     "execution_count": 37,
     "metadata": {},
     "output_type": "execute_result"
    }
   ],
   "source": [
    "to_final_attention(C).shape"
   ]
  },
  {
   "cell_type": "code",
   "execution_count": null,
   "metadata": {},
   "outputs": [],
   "source": []
  },
  {
   "cell_type": "code",
   "execution_count": null,
   "metadata": {},
   "outputs": [],
   "source": []
  },
  {
   "cell_type": "code",
   "execution_count": null,
   "metadata": {},
   "outputs": [],
   "source": []
  },
  {
   "cell_type": "code",
   "execution_count": 162,
   "metadata": {},
   "outputs": [],
   "source": [
    "class MultiHeadSelfAttention(nn.Module):\n",
    "    # 8.Define a head number that is divisible from the input \n",
    "    def __init__(self, k, heads=4):\n",
    "        super().__init__()\n",
    "        # Check if input is divisible by number of heads\n",
    "        assert k % heads == 0\n",
    "\n",
    "        self.k = k\n",
    "        self.heads = heads  \n",
    "\n",
    "        # 9. Instantiate OneHeadSelfAttention multiple times to have MultiHeadSelfAttention\n",
    "        self.list_heads = []\n",
    "        for head in range(self.heads):\n",
    "            self.list_heads.append(OneHeadSelfAttention(k, k//heads))\n",
    "\n",
    "        # This will be applied after the multi-head self-attention operation.\n",
    "        self.unifyheads = nn.Linear(k, k)\n",
    "    \n",
    "    def forward(self, x):\n",
    "        # 10. Get all heads elements \n",
    "        list_to_concat = []\n",
    "        for one_head in self.list_heads:\n",
    "            list_to_concat.append((one_head(x),))\n",
    "\n",
    "        # 11. Concatenate all the heads\n",
    "        multi_heads = sum(list_to_concat, ())        \n",
    "        concatenated = torch.cat(multi_heads, dim=2)\n",
    "\n",
    "        # 12. Linear transformation\n",
    "        return self.unifyheads(concatenated)\n",
    "          "
   ]
  },
  {
   "cell_type": "code",
   "execution_count": null,
   "metadata": {},
   "outputs": [],
   "source": [
    "class OneHeadSelfAttentionQKV(nn.Module):\n",
    "    def __init__(self, k, low_dim):\n",
    "        super().__init__()\n",
    "        # Check if input is divisible by number of heads\n",
    "        self.k = k    \n",
    "        self.low_dim = low_dim \n",
    "        # 1. Define linear transformations to reduce dimensionnalité of input\n",
    "        # biais = False because we want only weights\n",
    "        self.to_reduce_dim = nn.Linear(k, low_dim, bias=False)\n",
    "        # 2. Define linear transformations to key, queries and values\n",
    "        # biais = False because we want only weights\n",
    "        self.to_queries = nn.Linear(low_dim, low_dim, bias=False)\n",
    "        self.to_keys    = nn.Linear(low_dim, low_dim, bias=False) \n",
    "        self.to_values  = nn.Linear(low_dim, low_dim, bias=False)\n",
    "\n",
    "    def forward(self, Q, K, V):\n",
    "        # 3. Reduce dimensionnalité of input\n",
    "        low_dim_Q = self.to_reduce_dim(Q)\n",
    "        low_dim_K = self.to_reduce_dim(K)\n",
    "        low_dim_V = self.to_reduce_dim(V)\n",
    "\n",
    "        \n",
    "        # 4. Apply the linear transformation associated to every input to obtain the key, query and value\n",
    "        query = self.to_queries(low_dim_Q) \n",
    "        key = self.to_keys(low_dim_K)\n",
    "        value = self.to_values(low_dim_V)\n",
    "\n",
    "        # 5. Compute the raw weights w′ij=𝐪iT𝐤j and normalize them\n",
    "        weights_raw = torch.bmm(query, key.transpose(1, 2))\n",
    "        weights_raw_normalized = torch.div(weights_raw, torch.sqrt(torch.tensor(self.low_dim)))\n",
    "\n",
    "        # 6. We apply the Softmax function to the similarity dimension (batch dim x input dim x sim dim)\n",
    "        weights = nn.Softmax(dim=2)(weights_raw_normalized)\n",
    "\n",
    "        # 7. Multiply weights of self attention to the values\n",
    "        return torch.bmm(weights, value)\n",
    "    \n"
   ]
  },
  {
   "cell_type": "code",
   "execution_count": 188,
   "metadata": {},
   "outputs": [],
   "source": [
    "class MultiHeadSelfAttentionQKV(nn.Module):\n",
    "    # 8.Define a head number that is divisible from the input \n",
    "    def __init__(self, k, heads=4):\n",
    "        super().__init__()\n",
    "        # Check if input is divisible by number of heads\n",
    "        assert k % heads == 0\n",
    "\n",
    "        self.k = k\n",
    "        self.heads = heads  \n",
    "\n",
    "        # 9. Instantiate OneHeadSelfAttention multiple times to have MultiHeadSelfAttention\n",
    "        self.list_heads = []\n",
    "        for head in range(self.heads):\n",
    "            self.list_heads.append(OneHeadSelfAttentionQKV(k, k//heads))\n",
    "\n",
    "        # This will be applied after the multi-head self-attention operation.\n",
    "        self.unifyheads = nn.Linear(k, k)\n",
    "    \n",
    "    def forward(self, Q, K, V):\n",
    "        # 10. Get all heads elements \n",
    "        list_to_concat = []\n",
    "        for one_head in self.list_heads:\n",
    "            list_to_concat.append((one_head(Q, K, V),))\n",
    "\n",
    "        # 11. Concatenate all the heads\n",
    "        multi_heads = sum(list_to_concat, ())        \n",
    "        concatenated = torch.cat(multi_heads, dim=2)\n",
    "\n",
    "        # 12. Linear transformation\n",
    "        return self.unifyheads(concatenated)\n",
    "          "
   ]
  },
  {
   "cell_type": "code",
   "execution_count": null,
   "metadata": {},
   "outputs": [],
   "source": [
    "class MultHeadsSelfAttentionOptQKV(nn.Module):\n",
    "    # 1.Define a head number that is divisible from the input \n",
    "    def __init__(self, k, heads=4, mask=False):\n",
    "        super().__init__()\n",
    "        # Check if input is divisible by number of heads\n",
    "        assert k % heads == 0\n",
    "\n",
    "        self.k = k\n",
    "        self.heads = heads\n",
    "            \n",
    "        # 2. Define linear transformations to key, queries and values for each head\n",
    "        # biais = False because we want only weights\n",
    "        self.to_queries = nn.Linear(k, k, bias=False)\n",
    "        self.to_keys    = nn.Linear(k, k, bias=False) \n",
    "        self.to_values  = nn.Linear(k, k, bias=False)\n",
    "\n",
    "        # This will be applied after the multi-head self-attention operation.\n",
    "        self.unifyheads = nn.Linear(k, k)\n",
    "\n",
    "    def forward(self, Q, K, V):\n",
    "        b, t, k = Q.size() #as the training will be done by batch\n",
    "\n",
    "        # 3. Apply the linear transformation associated to every input to obtain the key, query and value\n",
    "        query = self.to_queries(Q)\n",
    "        key = self.to_keys(K)\n",
    "        value = self.to_values(V)\n",
    "        \n",
    "        s = self.k // self.heads # number of elements per head\n",
    "        h = self.heads\n",
    "\n",
    "        # 4. Reshape the matrix of key, query and value to have them in different heads. \n",
    "        queries = query.view(b, t, h, s)\n",
    "        keys = key.view(b, t, h, s)\n",
    "        values = value.view(b, t, h, s)\n",
    "\n",
    "        # 5. Merge heads and batch because it's the same operation for each head\n",
    "        keys = keys.transpose(1, 2).contiguous().view(b * h, t, s)\n",
    "        queries = queries.transpose(1, 2).contiguous().view(b * h, t, s)\n",
    "        values = values.transpose(1, 2).contiguous().view(b * h, t, s)\n",
    "\n",
    "        # 6. Compute the raw weights w′ij=𝐪iT𝐤j and normalize them\n",
    "        weights_raw = torch.bmm(queries, keys.transpose(1, 2))\n",
    "        weights_raw_normalized = torch.div(weights_raw, torch.sqrt(torch.tensor(k)))\n",
    "\n",
    "        # 7. We apply the Softmax function to the similarity dimension (batch dim x input dim x sim dim)\n",
    "        weights = nn.Softmax(dim=2)(weights_raw_normalized)\n",
    "\n",
    "        # 8. Multiply weights of self attention to the values\n",
    "        self_attentions = torch.bmm(weights, values).view(b, h, t, s)\n",
    "\n",
    "        # 9. Reshape in order to concatenatre heads and have b x t x k\n",
    "        self_attention_formatted = self_attentions.transpose(1, 2).contiguous().view(b, t, s * h)\n",
    "\n",
    "        # 10. Apply the unifyheads an return it\n",
    "        return self.unifyheads(self_attention_formatted)\n"
   ]
  },
  {
   "cell_type": "code",
   "execution_count": 190,
   "metadata": {},
   "outputs": [],
   "source": [
    "X = torch.rand(32, 1000, 256)"
   ]
  },
  {
   "cell_type": "code",
   "execution_count": 191,
   "metadata": {},
   "outputs": [
    {
     "data": {
      "text/plain": [
       "torch.Size([32, 1000, 256])"
      ]
     },
     "execution_count": 191,
     "metadata": {},
     "output_type": "execute_result"
    }
   ],
   "source": [
    "X.size()"
   ]
  },
  {
   "cell_type": "code",
   "execution_count": 202,
   "metadata": {},
   "outputs": [
    {
     "name": "stdout",
     "output_type": "stream",
     "text": [
      "CPU times: user 808 ms, sys: 414 ms, total: 1.22 s\n",
      "Wall time: 588 ms\n"
     ]
    },
    {
     "data": {
      "text/plain": [
       "torch.Size([32, 1000, 256])"
      ]
     },
     "execution_count": 202,
     "metadata": {},
     "output_type": "execute_result"
    }
   ],
   "source": [
    "%%time\n",
    "M_QKV = MultiHeadSelfAttentionQKV(k=256, heads=4)(X, X, X)\n",
    "M_QKV.size()"
   ]
  },
  {
   "cell_type": "code",
   "execution_count": 205,
   "metadata": {},
   "outputs": [
    {
     "name": "stdout",
     "output_type": "stream",
     "text": [
      "CPU times: user 801 ms, sys: 1.12 s, total: 1.92 s\n",
      "Wall time: 1.28 s\n"
     ]
    },
    {
     "data": {
      "text/plain": [
       "torch.Size([32, 1000, 256])"
      ]
     },
     "execution_count": 205,
     "metadata": {},
     "output_type": "execute_result"
    }
   ],
   "source": [
    "%%time\n",
    "M = MultHeadsSelfAttention(256, 4)(X)\n",
    "M.size()"
   ]
  },
  {
   "cell_type": "code",
   "execution_count": 206,
   "metadata": {},
   "outputs": [
    {
     "data": {
      "text/plain": [
       "tensor([[[-0.0867,  0.1383,  0.0365,  ...,  0.0252,  0.0853, -0.1925],\n",
       "         [-0.0865,  0.1383,  0.0365,  ...,  0.0250,  0.0852, -0.1926],\n",
       "         [-0.0867,  0.1382,  0.0364,  ...,  0.0251,  0.0853, -0.1925],\n",
       "         ...,\n",
       "         [-0.0867,  0.1382,  0.0365,  ...,  0.0252,  0.0852, -0.1925],\n",
       "         [-0.0865,  0.1384,  0.0366,  ...,  0.0251,  0.0853, -0.1925],\n",
       "         [-0.0866,  0.1382,  0.0364,  ...,  0.0252,  0.0854, -0.1926]],\n",
       "\n",
       "        [[-0.0908,  0.1407,  0.0330,  ...,  0.0198,  0.0877, -0.1955],\n",
       "         [-0.0907,  0.1405,  0.0331,  ...,  0.0198,  0.0876, -0.1956],\n",
       "         [-0.0906,  0.1406,  0.0332,  ...,  0.0198,  0.0874, -0.1956],\n",
       "         ...,\n",
       "         [-0.0906,  0.1405,  0.0329,  ...,  0.0197,  0.0875, -0.1955],\n",
       "         [-0.0907,  0.1405,  0.0330,  ...,  0.0199,  0.0874, -0.1954],\n",
       "         [-0.0906,  0.1407,  0.0331,  ...,  0.0197,  0.0874, -0.1955]],\n",
       "\n",
       "        [[-0.0892,  0.1379,  0.0378,  ...,  0.0297,  0.0849, -0.1955],\n",
       "         [-0.0892,  0.1382,  0.0377,  ...,  0.0295,  0.0851, -0.1953],\n",
       "         [-0.0892,  0.1382,  0.0379,  ...,  0.0295,  0.0849, -0.1952],\n",
       "         ...,\n",
       "         [-0.0893,  0.1380,  0.0380,  ...,  0.0294,  0.0850, -0.1952],\n",
       "         [-0.0890,  0.1380,  0.0379,  ...,  0.0295,  0.0849, -0.1953],\n",
       "         [-0.0893,  0.1379,  0.0378,  ...,  0.0296,  0.0850, -0.1955]],\n",
       "\n",
       "        ...,\n",
       "\n",
       "        [[-0.0859,  0.1400,  0.0374,  ...,  0.0294,  0.0865, -0.1962],\n",
       "         [-0.0859,  0.1401,  0.0373,  ...,  0.0294,  0.0867, -0.1963],\n",
       "         [-0.0858,  0.1399,  0.0371,  ...,  0.0295,  0.0868, -0.1963],\n",
       "         ...,\n",
       "         [-0.0859,  0.1400,  0.0372,  ...,  0.0296,  0.0867, -0.1964],\n",
       "         [-0.0859,  0.1402,  0.0372,  ...,  0.0295,  0.0867, -0.1964],\n",
       "         [-0.0858,  0.1400,  0.0373,  ...,  0.0294,  0.0867, -0.1963]],\n",
       "\n",
       "        [[-0.0909,  0.1393,  0.0385,  ...,  0.0291,  0.0830, -0.1920],\n",
       "         [-0.0909,  0.1393,  0.0386,  ...,  0.0292,  0.0831, -0.1920],\n",
       "         [-0.0909,  0.1390,  0.0385,  ...,  0.0292,  0.0828, -0.1920],\n",
       "         ...,\n",
       "         [-0.0909,  0.1393,  0.0386,  ...,  0.0291,  0.0830, -0.1919],\n",
       "         [-0.0910,  0.1393,  0.0386,  ...,  0.0290,  0.0829, -0.1921],\n",
       "         [-0.0910,  0.1392,  0.0386,  ...,  0.0292,  0.0831, -0.1919]],\n",
       "\n",
       "        [[-0.0868,  0.1428,  0.0347,  ...,  0.0224,  0.0848, -0.1882],\n",
       "         [-0.0867,  0.1427,  0.0347,  ...,  0.0225,  0.0847, -0.1882],\n",
       "         [-0.0867,  0.1426,  0.0346,  ...,  0.0224,  0.0849, -0.1881],\n",
       "         ...,\n",
       "         [-0.0867,  0.1428,  0.0349,  ...,  0.0224,  0.0849, -0.1883],\n",
       "         [-0.0867,  0.1426,  0.0346,  ...,  0.0225,  0.0848, -0.1882],\n",
       "         [-0.0864,  0.1426,  0.0347,  ...,  0.0225,  0.0847, -0.1882]]],\n",
       "       grad_fn=<ViewBackward0>)"
      ]
     },
     "execution_count": 206,
     "metadata": {},
     "output_type": "execute_result"
    }
   ],
   "source": [
    "M"
   ]
  },
  {
   "cell_type": "code",
   "execution_count": 204,
   "metadata": {},
   "outputs": [
    {
     "data": {
      "text/plain": [
       "tensor([[[0.0195, 0.1746, 0.0801,  ..., 0.0827, 0.0311, 0.1269],\n",
       "         [0.0195, 0.1746, 0.0799,  ..., 0.0829, 0.0312, 0.1271],\n",
       "         [0.0195, 0.1744, 0.0799,  ..., 0.0827, 0.0311, 0.1269],\n",
       "         ...,\n",
       "         [0.0196, 0.1746, 0.0801,  ..., 0.0829, 0.0312, 0.1271],\n",
       "         [0.0195, 0.1745, 0.0801,  ..., 0.0828, 0.0310, 0.1270],\n",
       "         [0.0194, 0.1744, 0.0801,  ..., 0.0827, 0.0311, 0.1270]],\n",
       "\n",
       "        [[0.0185, 0.1745, 0.0833,  ..., 0.0850, 0.0313, 0.1289],\n",
       "         [0.0186, 0.1746, 0.0832,  ..., 0.0848, 0.0313, 0.1290],\n",
       "         [0.0186, 0.1746, 0.0832,  ..., 0.0848, 0.0313, 0.1291],\n",
       "         ...,\n",
       "         [0.0186, 0.1745, 0.0833,  ..., 0.0849, 0.0311, 0.1289],\n",
       "         [0.0187, 0.1747, 0.0832,  ..., 0.0849, 0.0312, 0.1289],\n",
       "         [0.0186, 0.1747, 0.0833,  ..., 0.0849, 0.0311, 0.1289]],\n",
       "\n",
       "        [[0.0162, 0.1744, 0.0809,  ..., 0.0820, 0.0296, 0.1301],\n",
       "         [0.0162, 0.1746, 0.0809,  ..., 0.0823, 0.0295, 0.1302],\n",
       "         [0.0161, 0.1746, 0.0808,  ..., 0.0822, 0.0296, 0.1302],\n",
       "         ...,\n",
       "         [0.0161, 0.1744, 0.0808,  ..., 0.0821, 0.0297, 0.1300],\n",
       "         [0.0160, 0.1745, 0.0809,  ..., 0.0822, 0.0294, 0.1301],\n",
       "         [0.0161, 0.1746, 0.0808,  ..., 0.0823, 0.0295, 0.1301]],\n",
       "\n",
       "        ...,\n",
       "\n",
       "        [[0.0167, 0.1774, 0.0845,  ..., 0.0813, 0.0319, 0.1297],\n",
       "         [0.0166, 0.1774, 0.0846,  ..., 0.0812, 0.0319, 0.1297],\n",
       "         [0.0166, 0.1773, 0.0847,  ..., 0.0813, 0.0320, 0.1298],\n",
       "         ...,\n",
       "         [0.0167, 0.1774, 0.0846,  ..., 0.0814, 0.0320, 0.1298],\n",
       "         [0.0167, 0.1773, 0.0846,  ..., 0.0813, 0.0319, 0.1298],\n",
       "         [0.0166, 0.1774, 0.0847,  ..., 0.0814, 0.0319, 0.1298]],\n",
       "\n",
       "        [[0.0171, 0.1757, 0.0832,  ..., 0.0828, 0.0314, 0.1301],\n",
       "         [0.0170, 0.1756, 0.0834,  ..., 0.0826, 0.0314, 0.1301],\n",
       "         [0.0170, 0.1756, 0.0834,  ..., 0.0826, 0.0312, 0.1298],\n",
       "         ...,\n",
       "         [0.0171, 0.1756, 0.0834,  ..., 0.0827, 0.0313, 0.1299],\n",
       "         [0.0170, 0.1755, 0.0836,  ..., 0.0827, 0.0313, 0.1299],\n",
       "         [0.0170, 0.1756, 0.0833,  ..., 0.0827, 0.0313, 0.1300]],\n",
       "\n",
       "        [[0.0193, 0.1699, 0.0846,  ..., 0.0799, 0.0329, 0.1288],\n",
       "         [0.0191, 0.1698, 0.0846,  ..., 0.0800, 0.0330, 0.1287],\n",
       "         [0.0193, 0.1698, 0.0846,  ..., 0.0799, 0.0329, 0.1288],\n",
       "         ...,\n",
       "         [0.0192, 0.1700, 0.0847,  ..., 0.0800, 0.0330, 0.1288],\n",
       "         [0.0190, 0.1699, 0.0845,  ..., 0.0799, 0.0330, 0.1286],\n",
       "         [0.0192, 0.1699, 0.0846,  ..., 0.0800, 0.0330, 0.1287]]],\n",
       "       grad_fn=<ViewBackward0>)"
      ]
     },
     "execution_count": 204,
     "metadata": {},
     "output_type": "execute_result"
    }
   ],
   "source": [
    "M_QKV"
   ]
  },
  {
   "cell_type": "code",
   "execution_count": null,
   "metadata": {},
   "outputs": [],
   "source": []
  }
 ],
 "metadata": {
  "kernelspec": {
   "display_name": "transformers-implementation_env",
   "language": "python",
   "name": "python3"
  },
  "language_info": {
   "codemirror_mode": {
    "name": "ipython",
    "version": 3
   },
   "file_extension": ".py",
   "mimetype": "text/x-python",
   "name": "python",
   "nbconvert_exporter": "python",
   "pygments_lexer": "ipython3",
   "version": "3.10.9"
  },
  "orig_nbformat": 4
 },
 "nbformat": 4,
 "nbformat_minor": 2
}
