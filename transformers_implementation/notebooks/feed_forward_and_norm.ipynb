{
 "cells": [
  {
   "cell_type": "code",
   "execution_count": 30,
   "metadata": {},
   "outputs": [],
   "source": [
    "from tokenize import tokenize\n",
    "from torch import nn\n",
    "import torch\n",
    "import matplotlib.pyplot as plt\n",
    "import seaborn as sns\n",
    "import pandas as pd\n"
   ]
  },
  {
   "cell_type": "markdown",
   "metadata": {},
   "source": [
    "# Feedforward"
   ]
  },
  {
   "cell_type": "code",
   "execution_count": 3,
   "metadata": {},
   "outputs": [],
   "source": [
    "class FeedForward(nn.Module):\n",
    "    def __init__(self, embed_dim, factor=2):\n",
    "        super(FeedForward, self).__init__()\n",
    "        self.feed_forward = nn.Sequential(\n",
    "            nn.Linear(embed_dim, factor*embed_dim),\n",
    "            nn.ReLU(),\n",
    "            nn.Linear(factor*embed_dim, embed_dim)\n",
    "        )  \n",
    "    \n",
    "    def forward(self, x):\n",
    "        return self.feed_forward(x)"
   ]
  },
  {
   "cell_type": "code",
   "execution_count": 4,
   "metadata": {},
   "outputs": [],
   "source": [
    "X = torch.rand(64, 100, 256)"
   ]
  },
  {
   "cell_type": "code",
   "execution_count": 7,
   "metadata": {},
   "outputs": [
    {
     "data": {
      "text/plain": [
       "torch.Size([64, 100, 256])"
      ]
     },
     "execution_count": 7,
     "metadata": {},
     "output_type": "execute_result"
    }
   ],
   "source": [
    "ff = FeedForward(256, 2)\n",
    "Y = ff(X)\n",
    "Y.size()"
   ]
  },
  {
   "cell_type": "code",
   "execution_count": 5,
   "metadata": {},
   "outputs": [
    {
     "data": {
      "text/plain": [
       "torch.Size([64, 100, 256])"
      ]
     },
     "execution_count": 5,
     "metadata": {},
     "output_type": "execute_result"
    }
   ],
   "source": [
    "Y.size()"
   ]
  },
  {
   "cell_type": "markdown",
   "metadata": {},
   "source": [
    "# Normalization"
   ]
  },
  {
   "cell_type": "markdown",
   "metadata": {},
   "source": [
    "A key challenge in training neural networks is the instability caused by the distribution of each layer's inputs changing as the parameters of the previous layers change, a problem known as \"internal covariate shift.\" This can lead to slow training convergence and necessitates lower learning rates and careful parameter initialization. Another issue is that traditional methods like Batch Normalization, which aims to address this problem, depend heavily on the size of the mini-batch and struggle with Recurrent Neural Networks (RNNs) and online learning tasks."
   ]
  },
  {
   "cell_type": "markdown",
   "metadata": {},
   "source": [
    "Internal covariate shift refers to the phenomenon in neural networks where the distribution of each layer’s inputs changes during training, as the parameters of the previous layers change. This shift in the distribution can cause issues for the training process for several reasons:\n",
    "\n",
    "1.Learning Rate Challenges: Because the distribution of inputs is changing, the optimal learning rate for one layer might not be optimal for another. If the learning rate is too high for the changed distribution, it can lead to divergence; if it's too low, it can slow down the training process.\n",
    "\n",
    "2.Training Instability: When the input distribution to a layer changes, the layer may continually adapt to new distributions. This can lead to instability, where the network never truly converges, as it's always trying to catch up to the moving target of a shifting input distribution.\n",
    "\n",
    "3.Vanishing/Exploding Gradients: The change in distributions can exacerbate the problems of vanishing and exploding gradients, particularly in deep networks. If the input distribution to a layer has a high variance, it can lead to large gradients and possibly exploding gradient issues. Conversely, a distribution with a small variance can lead to vanishing gradients, where updates to the model become imperceptibly small.\n",
    "\n",
    "Batch Normalization was one of the first techniques proposed to mitigate internal covariate shift by normalizing the inputs to each layer so they have a mean of zero and a standard deviation of one. This normalization is intended to stabilize the distribution of inputs to a layer throughout training. Layer Normalization builds upon this concept by normalizing across all the features in a layer, rather than normalizing across the batch dimension as Batch Normalization does."
   ]
  },
  {
   "cell_type": "code",
   "execution_count": 8,
   "metadata": {},
   "outputs": [],
   "source": [
    "layer_norm = nn.LayerNorm(256)\n",
    "Y = layer_norm(X)"
   ]
  },
  {
   "cell_type": "code",
   "execution_count": 16,
   "metadata": {},
   "outputs": [
    {
     "name": "stdout",
     "output_type": "stream",
     "text": [
      "tensor(-2.0145, grad_fn=<MinBackward1>)\n",
      "tensor(2.0260, grad_fn=<MaxBackward1>)\n",
      "tensor(2.4214e-09, grad_fn=<MeanBackward0>)\n",
      "tensor(0.9999, grad_fn=<StdBackward0>)\n"
     ]
    }
   ],
   "source": [
    "print(torch.min(Y))\n",
    "print(torch.max(Y))\n",
    "print(torch.mean(Y))\n",
    "print(torch.std(Y))"
   ]
  },
  {
   "cell_type": "code",
   "execution_count": 17,
   "metadata": {},
   "outputs": [
    {
     "name": "stdout",
     "output_type": "stream",
     "text": [
      "tensor(4.7684e-07)\n",
      "tensor(1.0000)\n",
      "tensor(0.5003)\n",
      "tensor(0.2888)\n"
     ]
    }
   ],
   "source": [
    "print(torch.min(X))\n",
    "print(torch.max(X))\n",
    "print(torch.mean(X))\n",
    "print(torch.std(X))"
   ]
  },
  {
   "cell_type": "code",
   "execution_count": 71,
   "metadata": {},
   "outputs": [
    {
     "data": {
      "text/html": [
       "<div>\n",
       "<style scoped>\n",
       "    .dataframe tbody tr th:only-of-type {\n",
       "        vertical-align: middle;\n",
       "    }\n",
       "\n",
       "    .dataframe tbody tr th {\n",
       "        vertical-align: top;\n",
       "    }\n",
       "\n",
       "    .dataframe thead th {\n",
       "        text-align: right;\n",
       "    }\n",
       "</style>\n",
       "<table border=\"1\" class=\"dataframe\">\n",
       "  <thead>\n",
       "    <tr style=\"text-align: right;\">\n",
       "      <th></th>\n",
       "      <th>x</th>\n",
       "      <th>value</th>\n",
       "    </tr>\n",
       "  </thead>\n",
       "  <tbody>\n",
       "    <tr>\n",
       "      <th>0</th>\n",
       "      <td>4.768372e-07</td>\n",
       "      <td>54672.0</td>\n",
       "    </tr>\n",
       "    <tr>\n",
       "      <th>1</th>\n",
       "      <td>3.333374e-02</td>\n",
       "      <td>54771.0</td>\n",
       "    </tr>\n",
       "    <tr>\n",
       "      <th>2</th>\n",
       "      <td>6.666701e-02</td>\n",
       "      <td>54409.0</td>\n",
       "    </tr>\n",
       "    <tr>\n",
       "      <th>3</th>\n",
       "      <td>1.000003e-01</td>\n",
       "      <td>54668.0</td>\n",
       "    </tr>\n",
       "    <tr>\n",
       "      <th>4</th>\n",
       "      <td>1.333335e-01</td>\n",
       "      <td>54703.0</td>\n",
       "    </tr>\n",
       "    <tr>\n",
       "      <th>5</th>\n",
       "      <td>1.666668e-01</td>\n",
       "      <td>54450.0</td>\n",
       "    </tr>\n",
       "    <tr>\n",
       "      <th>6</th>\n",
       "      <td>2.000001e-01</td>\n",
       "      <td>54745.0</td>\n",
       "    </tr>\n",
       "    <tr>\n",
       "      <th>7</th>\n",
       "      <td>2.333333e-01</td>\n",
       "      <td>54365.0</td>\n",
       "    </tr>\n",
       "    <tr>\n",
       "      <th>8</th>\n",
       "      <td>2.666666e-01</td>\n",
       "      <td>54595.0</td>\n",
       "    </tr>\n",
       "    <tr>\n",
       "      <th>9</th>\n",
       "      <td>2.999999e-01</td>\n",
       "      <td>54576.0</td>\n",
       "    </tr>\n",
       "    <tr>\n",
       "      <th>10</th>\n",
       "      <td>3.333331e-01</td>\n",
       "      <td>54316.0</td>\n",
       "    </tr>\n",
       "    <tr>\n",
       "      <th>11</th>\n",
       "      <td>3.666664e-01</td>\n",
       "      <td>54364.0</td>\n",
       "    </tr>\n",
       "    <tr>\n",
       "      <th>12</th>\n",
       "      <td>3.999996e-01</td>\n",
       "      <td>54874.0</td>\n",
       "    </tr>\n",
       "    <tr>\n",
       "      <th>13</th>\n",
       "      <td>4.333329e-01</td>\n",
       "      <td>54249.0</td>\n",
       "    </tr>\n",
       "    <tr>\n",
       "      <th>14</th>\n",
       "      <td>4.666662e-01</td>\n",
       "      <td>54444.0</td>\n",
       "    </tr>\n",
       "    <tr>\n",
       "      <th>15</th>\n",
       "      <td>4.999994e-01</td>\n",
       "      <td>54813.0</td>\n",
       "    </tr>\n",
       "    <tr>\n",
       "      <th>16</th>\n",
       "      <td>5.333327e-01</td>\n",
       "      <td>54284.0</td>\n",
       "    </tr>\n",
       "    <tr>\n",
       "      <th>17</th>\n",
       "      <td>5.666659e-01</td>\n",
       "      <td>54645.0</td>\n",
       "    </tr>\n",
       "    <tr>\n",
       "      <th>18</th>\n",
       "      <td>5.999992e-01</td>\n",
       "      <td>54993.0</td>\n",
       "    </tr>\n",
       "    <tr>\n",
       "      <th>19</th>\n",
       "      <td>6.333325e-01</td>\n",
       "      <td>54878.0</td>\n",
       "    </tr>\n",
       "    <tr>\n",
       "      <th>20</th>\n",
       "      <td>6.666657e-01</td>\n",
       "      <td>54489.0</td>\n",
       "    </tr>\n",
       "    <tr>\n",
       "      <th>21</th>\n",
       "      <td>6.999990e-01</td>\n",
       "      <td>54070.0</td>\n",
       "    </tr>\n",
       "    <tr>\n",
       "      <th>22</th>\n",
       "      <td>7.333323e-01</td>\n",
       "      <td>54454.0</td>\n",
       "    </tr>\n",
       "    <tr>\n",
       "      <th>23</th>\n",
       "      <td>7.666656e-01</td>\n",
       "      <td>54937.0</td>\n",
       "    </tr>\n",
       "    <tr>\n",
       "      <th>24</th>\n",
       "      <td>7.999988e-01</td>\n",
       "      <td>54763.0</td>\n",
       "    </tr>\n",
       "    <tr>\n",
       "      <th>25</th>\n",
       "      <td>8.333321e-01</td>\n",
       "      <td>54739.0</td>\n",
       "    </tr>\n",
       "    <tr>\n",
       "      <th>26</th>\n",
       "      <td>8.666654e-01</td>\n",
       "      <td>54793.0</td>\n",
       "    </tr>\n",
       "    <tr>\n",
       "      <th>27</th>\n",
       "      <td>8.999986e-01</td>\n",
       "      <td>54807.0</td>\n",
       "    </tr>\n",
       "    <tr>\n",
       "      <th>28</th>\n",
       "      <td>9.333318e-01</td>\n",
       "      <td>54695.0</td>\n",
       "    </tr>\n",
       "    <tr>\n",
       "      <th>29</th>\n",
       "      <td>9.666651e-01</td>\n",
       "      <td>54839.0</td>\n",
       "    </tr>\n",
       "  </tbody>\n",
       "</table>\n",
       "</div>"
      ],
      "text/plain": [
       "               x    value\n",
       "0   4.768372e-07  54672.0\n",
       "1   3.333374e-02  54771.0\n",
       "2   6.666701e-02  54409.0\n",
       "3   1.000003e-01  54668.0\n",
       "4   1.333335e-01  54703.0\n",
       "5   1.666668e-01  54450.0\n",
       "6   2.000001e-01  54745.0\n",
       "7   2.333333e-01  54365.0\n",
       "8   2.666666e-01  54595.0\n",
       "9   2.999999e-01  54576.0\n",
       "10  3.333331e-01  54316.0\n",
       "11  3.666664e-01  54364.0\n",
       "12  3.999996e-01  54874.0\n",
       "13  4.333329e-01  54249.0\n",
       "14  4.666662e-01  54444.0\n",
       "15  4.999994e-01  54813.0\n",
       "16  5.333327e-01  54284.0\n",
       "17  5.666659e-01  54645.0\n",
       "18  5.999992e-01  54993.0\n",
       "19  6.333325e-01  54878.0\n",
       "20  6.666657e-01  54489.0\n",
       "21  6.999990e-01  54070.0\n",
       "22  7.333323e-01  54454.0\n",
       "23  7.666656e-01  54937.0\n",
       "24  7.999988e-01  54763.0\n",
       "25  8.333321e-01  54739.0\n",
       "26  8.666654e-01  54793.0\n",
       "27  8.999986e-01  54807.0\n",
       "28  9.333318e-01  54695.0\n",
       "29  9.666651e-01  54839.0"
      ]
     },
     "execution_count": 71,
     "metadata": {},
     "output_type": "execute_result"
    }
   ],
   "source": [
    "hist = torch.histogram(X, bins=30)\n",
    "df = pd.DataFrame({'x': hist.bin_edges[:-1].detach().numpy(), 'value':hist.hist.detach().numpy()})\n",
    "df"
   ]
  },
  {
   "cell_type": "code",
   "execution_count": 66,
   "metadata": {},
   "outputs": [
    {
     "data": {
      "text/plain": [
       "<Axes: xlabel='x', ylabel='value'>"
      ]
     },
     "execution_count": 66,
     "metadata": {},
     "output_type": "execute_result"
    },
    {
     "data": {
      "image/png": "[encoded data removed]",
      "text/plain": [
       "<Figure size 640x480 with 1 Axes>"
      ]
     },
     "metadata": {},
     "output_type": "display_data"
    }
   ],
   "source": [
    "sns.barplot(df, x=\"x\", y=\"value\")\n"
   ]
  },
  {
   "cell_type": "code",
   "execution_count": 69,
   "metadata": {},
   "outputs": [
    {
     "data": {
      "text/html": [
       "<div>\n",
       "<style scoped>\n",
       "    .dataframe tbody tr th:only-of-type {\n",
       "        vertical-align: middle;\n",
       "    }\n",
       "\n",
       "    .dataframe tbody tr th {\n",
       "        vertical-align: top;\n",
       "    }\n",
       "\n",
       "    .dataframe thead th {\n",
       "        text-align: right;\n",
       "    }\n",
       "</style>\n",
       "<table border=\"1\" class=\"dataframe\">\n",
       "  <thead>\n",
       "    <tr style=\"text-align: right;\">\n",
       "      <th></th>\n",
       "      <th>x</th>\n",
       "      <th>value</th>\n",
       "    </tr>\n",
       "  </thead>\n",
       "  <tbody>\n",
       "    <tr>\n",
       "      <th>0</th>\n",
       "      <td>-2.014459</td>\n",
       "      <td>491.0</td>\n",
       "    </tr>\n",
       "    <tr>\n",
       "      <th>1</th>\n",
       "      <td>-1.879778</td>\n",
       "      <td>10054.0</td>\n",
       "    </tr>\n",
       "    <tr>\n",
       "      <th>2</th>\n",
       "      <td>-1.745096</td>\n",
       "      <td>44429.0</td>\n",
       "    </tr>\n",
       "    <tr>\n",
       "      <th>3</th>\n",
       "      <td>-1.610415</td>\n",
       "      <td>63772.0</td>\n",
       "    </tr>\n",
       "    <tr>\n",
       "      <th>4</th>\n",
       "      <td>-1.475733</td>\n",
       "      <td>64347.0</td>\n",
       "    </tr>\n",
       "    <tr>\n",
       "      <th>5</th>\n",
       "      <td>-1.341052</td>\n",
       "      <td>64217.0</td>\n",
       "    </tr>\n",
       "    <tr>\n",
       "      <th>6</th>\n",
       "      <td>-1.206370</td>\n",
       "      <td>64319.0</td>\n",
       "    </tr>\n",
       "    <tr>\n",
       "      <th>7</th>\n",
       "      <td>-1.071688</td>\n",
       "      <td>63892.0</td>\n",
       "    </tr>\n",
       "    <tr>\n",
       "      <th>8</th>\n",
       "      <td>-0.937007</td>\n",
       "      <td>63901.0</td>\n",
       "    </tr>\n",
       "    <tr>\n",
       "      <th>9</th>\n",
       "      <td>-0.802325</td>\n",
       "      <td>64101.0</td>\n",
       "    </tr>\n",
       "    <tr>\n",
       "      <th>10</th>\n",
       "      <td>-0.667644</td>\n",
       "      <td>63693.0</td>\n",
       "    </tr>\n",
       "    <tr>\n",
       "      <th>11</th>\n",
       "      <td>-0.532962</td>\n",
       "      <td>63551.0</td>\n",
       "    </tr>\n",
       "    <tr>\n",
       "      <th>12</th>\n",
       "      <td>-0.398281</td>\n",
       "      <td>63420.0</td>\n",
       "    </tr>\n",
       "    <tr>\n",
       "      <th>13</th>\n",
       "      <td>-0.263599</td>\n",
       "      <td>63850.0</td>\n",
       "    </tr>\n",
       "    <tr>\n",
       "      <th>14</th>\n",
       "      <td>-0.128917</td>\n",
       "      <td>63334.0</td>\n",
       "    </tr>\n",
       "    <tr>\n",
       "      <th>15</th>\n",
       "      <td>0.005764</td>\n",
       "      <td>63785.0</td>\n",
       "    </tr>\n",
       "    <tr>\n",
       "      <th>16</th>\n",
       "      <td>0.140446</td>\n",
       "      <td>63508.0</td>\n",
       "    </tr>\n",
       "    <tr>\n",
       "      <th>17</th>\n",
       "      <td>0.275128</td>\n",
       "      <td>64121.0</td>\n",
       "    </tr>\n",
       "    <tr>\n",
       "      <th>18</th>\n",
       "      <td>0.409809</td>\n",
       "      <td>64135.0</td>\n",
       "    </tr>\n",
       "    <tr>\n",
       "      <th>19</th>\n",
       "      <td>0.544491</td>\n",
       "      <td>63867.0</td>\n",
       "    </tr>\n",
       "    <tr>\n",
       "      <th>20</th>\n",
       "      <td>0.679172</td>\n",
       "      <td>63467.0</td>\n",
       "    </tr>\n",
       "    <tr>\n",
       "      <th>21</th>\n",
       "      <td>0.813854</td>\n",
       "      <td>63956.0</td>\n",
       "    </tr>\n",
       "    <tr>\n",
       "      <th>22</th>\n",
       "      <td>0.948536</td>\n",
       "      <td>64359.0</td>\n",
       "    </tr>\n",
       "    <tr>\n",
       "      <th>23</th>\n",
       "      <td>1.083217</td>\n",
       "      <td>64058.0</td>\n",
       "    </tr>\n",
       "    <tr>\n",
       "      <th>24</th>\n",
       "      <td>1.217899</td>\n",
       "      <td>64676.0</td>\n",
       "    </tr>\n",
       "    <tr>\n",
       "      <th>25</th>\n",
       "      <td>1.352580</td>\n",
       "      <td>64721.0</td>\n",
       "    </tr>\n",
       "    <tr>\n",
       "      <th>26</th>\n",
       "      <td>1.487262</td>\n",
       "      <td>63077.0</td>\n",
       "    </tr>\n",
       "    <tr>\n",
       "      <th>27</th>\n",
       "      <td>1.621943</td>\n",
       "      <td>41242.0</td>\n",
       "    </tr>\n",
       "    <tr>\n",
       "      <th>28</th>\n",
       "      <td>1.756625</td>\n",
       "      <td>7721.0</td>\n",
       "    </tr>\n",
       "    <tr>\n",
       "      <th>29</th>\n",
       "      <td>1.891307</td>\n",
       "      <td>336.0</td>\n",
       "    </tr>\n",
       "  </tbody>\n",
       "</table>\n",
       "</div>"
      ],
      "text/plain": [
       "           x    value\n",
       "0  -2.014459    491.0\n",
       "1  -1.879778  10054.0\n",
       "2  -1.745096  44429.0\n",
       "3  -1.610415  63772.0\n",
       "4  -1.475733  64347.0\n",
       "5  -1.341052  64217.0\n",
       "6  -1.206370  64319.0\n",
       "7  -1.071688  63892.0\n",
       "8  -0.937007  63901.0\n",
       "9  -0.802325  64101.0\n",
       "10 -0.667644  63693.0\n",
       "11 -0.532962  63551.0\n",
       "12 -0.398281  63420.0\n",
       "13 -0.263599  63850.0\n",
       "14 -0.128917  63334.0\n",
       "15  0.005764  63785.0\n",
       "16  0.140446  63508.0\n",
       "17  0.275128  64121.0\n",
       "18  0.409809  64135.0\n",
       "19  0.544491  63867.0\n",
       "20  0.679172  63467.0\n",
       "21  0.813854  63956.0\n",
       "22  0.948536  64359.0\n",
       "23  1.083217  64058.0\n",
       "24  1.217899  64676.0\n",
       "25  1.352580  64721.0\n",
       "26  1.487262  63077.0\n",
       "27  1.621943  41242.0\n",
       "28  1.756625   7721.0\n",
       "29  1.891307    336.0"
      ]
     },
     "execution_count": 69,
     "metadata": {},
     "output_type": "execute_result"
    }
   ],
   "source": [
    "hist = torch.histogram(Y, bins=30)\n",
    "df = pd.DataFrame({'x': hist.bin_edges[:-1].detach().numpy(), 'value':hist.hist.detach().numpy()})\n",
    "df"
   ]
  },
  {
   "cell_type": "code",
   "execution_count": 70,
   "metadata": {},
   "outputs": [
    {
     "data": {
      "text/plain": [
       "<Axes: xlabel='x', ylabel='value'>"
      ]
     },
     "execution_count": 70,
     "metadata": {},
     "output_type": "execute_result"
    },
    {
     "data": {
      "image/png": "[encoded data removed]",
      "text/plain": [
       "<Figure size 640x480 with 1 Axes>"
      ]
     },
     "metadata": {},
     "output_type": "display_data"
    }
   ],
   "source": [
    "sns.barplot(df, x=\"x\", y=\"value\")\n"
   ]
  },
  {
   "cell_type": "code",
   "execution_count": 81,
   "metadata": {},
   "outputs": [
    {
     "name": "stdout",
     "output_type": "stream",
     "text": [
      "torch.Size([1638400])\n"
     ]
    }
   ],
   "source": [
    "X_flatten = X.view(X.size(0)*X.size(1)*X.size(2))\n",
    "print(X_flatten.size())"
   ]
  },
  {
   "cell_type": "code",
   "execution_count": 84,
   "metadata": {},
   "outputs": [
    {
     "data": {
      "text/plain": [
       "<Axes: ylabel='Count'>"
      ]
     },
     "execution_count": 84,
     "metadata": {},
     "output_type": "execute_result"
    },
    {
     "data": {
      "image/png": "[encoded data removed]",
      "text/plain": [
       "<Figure size 640x480 with 1 Axes>"
      ]
     },
     "metadata": {},
     "output_type": "display_data"
    }
   ],
   "source": [
    "sns.histplot(X_flatten, bins=30)"
   ]
  },
  {
   "cell_type": "code",
   "execution_count": 88,
   "metadata": {},
   "outputs": [],
   "source": [
    "layer_norm = nn.LayerNorm(256)\n",
    "Y = layer_norm(X)\n",
    "Y_flatten = Y.view(Y.size(0)*Y.size(1)*Y.size(2))"
   ]
  },
  {
   "cell_type": "code",
   "execution_count": 90,
   "metadata": {},
   "outputs": [
    {
     "data": {
      "text/plain": [
       "<Axes: ylabel='Count'>"
      ]
     },
     "execution_count": 90,
     "metadata": {},
     "output_type": "execute_result"
    },
    {
     "data": {
      "image/png": "[encoded data removed]",
      "text/plain": [
       "<Figure size 640x480 with 1 Axes>"
      ]
     },
     "metadata": {},
     "output_type": "display_data"
    }
   ],
   "source": [
    "sns.histplot(Y_flatten.detach().numpy(), bins=30)"
   ]
  },
  {
   "cell_type": "code",
   "execution_count": null,
   "metadata": {},
   "outputs": [],
   "source": []
  }
 ],
 "metadata": {
  "kernelspec": {
   "display_name": "transformers-implementation_env",
   "language": "python",
   "name": "python3"
  },
  "language_info": {
   "codemirror_mode": {
    "name": "ipython",
    "version": 3
   },
   "file_extension": ".py",
   "mimetype": "text/x-python",
   "name": "python",
   "nbconvert_exporter": "python",
   "pygments_lexer": "ipython3",
   "version": "3.11.6"
  },
  "orig_nbformat": 4
 },
 "nbformat": 4,
 "nbformat_minor": 2
}
