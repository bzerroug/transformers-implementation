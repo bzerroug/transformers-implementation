{
 "cells": [
  {
   "cell_type": "code",
   "execution_count": 45,
   "metadata": {},
   "outputs": [],
   "source": [
    "import os\n",
    "import torch\n",
    "import matplotlib.pyplot as plt\n",
    "import seaborn as sns\n",
    "import pandas as pd\n",
    "import numpy as np\n",
    "import math\n",
    "from transformers import AutoTokenizer, BertTokenizer\n",
    "from torch.utils.data import Dataset, DataLoader\n",
    "from torch import nn\n",
    "from sklearn.model_selection import train_test_split\n",
    "from sklearn.metrics import average_precision_score, precision_recall_curve\n",
    "from sklearn.preprocessing import StandardScaler, MinMaxScaler"
   ]
  },
  {
   "cell_type": "code",
   "execution_count": 2,
   "metadata": {},
   "outputs": [],
   "source": [
    "os.chdir('/Users/bachirzerroug/Documents/transformers-implementation')"
   ]
  },
  {
   "cell_type": "code",
   "execution_count": 3,
   "metadata": {},
   "outputs": [],
   "source": [
    "from src.local_transformers import Encoder\n",
    "from src.utils import EarlyStopping, CustomDataset, PreTrainedTokenizer"
   ]
  },
  {
   "cell_type": "markdown",
   "metadata": {},
   "source": [
    "# Import data"
   ]
  },
  {
   "cell_type": "code",
   "execution_count": 208,
   "metadata": {},
   "outputs": [],
   "source": [
    "tr_raw = pd.read_csv('src/data/transactions.csv')\n",
    "tr_raw.columns = [col.lower() for col in tr_raw.columns]\n"
   ]
  },
  {
   "cell_type": "code",
   "execution_count": 209,
   "metadata": {},
   "outputs": [
    {
     "data": {
      "text/html": [
       "<div>\n",
       "<style scoped>\n",
       "    .dataframe tbody tr th:only-of-type {\n",
       "        vertical-align: middle;\n",
       "    }\n",
       "\n",
       "    .dataframe tbody tr th {\n",
       "        vertical-align: top;\n",
       "    }\n",
       "\n",
       "    .dataframe thead th {\n",
       "        text-align: right;\n",
       "    }\n",
       "</style>\n",
       "<table border=\"1\" class=\"dataframe\">\n",
       "  <thead>\n",
       "    <tr style=\"text-align: right;\">\n",
       "      <th></th>\n",
       "      <th>customer_id</th>\n",
       "      <th>tx_datetime</th>\n",
       "      <th>tx_amount</th>\n",
       "      <th>sector_id</th>\n",
       "      <th>tx_fraud</th>\n",
       "    </tr>\n",
       "  </thead>\n",
       "  <tbody>\n",
       "    <tr>\n",
       "      <th>0</th>\n",
       "      <td>2541</td>\n",
       "      <td>2023-01-01 00:21:42</td>\n",
       "      <td>499.210846</td>\n",
       "      <td>11</td>\n",
       "      <td>False</td>\n",
       "    </tr>\n",
       "    <tr>\n",
       "      <th>1</th>\n",
       "      <td>1735</td>\n",
       "      <td>2023-01-01 00:21:59</td>\n",
       "      <td>58.824293</td>\n",
       "      <td>3</td>\n",
       "      <td>False</td>\n",
       "    </tr>\n",
       "    <tr>\n",
       "      <th>2</th>\n",
       "      <td>669</td>\n",
       "      <td>2023-01-01 00:36:40</td>\n",
       "      <td>91.967189</td>\n",
       "      <td>12</td>\n",
       "      <td>False</td>\n",
       "    </tr>\n",
       "    <tr>\n",
       "      <th>3</th>\n",
       "      <td>4235</td>\n",
       "      <td>2023-01-01 00:51:34</td>\n",
       "      <td>836.571053</td>\n",
       "      <td>16</td>\n",
       "      <td>False</td>\n",
       "    </tr>\n",
       "    <tr>\n",
       "      <th>4</th>\n",
       "      <td>2162</td>\n",
       "      <td>2023-01-01 01:15:23</td>\n",
       "      <td>1537.707662</td>\n",
       "      <td>19</td>\n",
       "      <td>False</td>\n",
       "    </tr>\n",
       "    <tr>\n",
       "      <th>...</th>\n",
       "      <td>...</td>\n",
       "      <td>...</td>\n",
       "      <td>...</td>\n",
       "      <td>...</td>\n",
       "      <td>...</td>\n",
       "    </tr>\n",
       "    <tr>\n",
       "      <th>1229916</th>\n",
       "      <td>3367</td>\n",
       "      <td>2023-06-18 13:37:35</td>\n",
       "      <td>1688.437989</td>\n",
       "      <td>19</td>\n",
       "      <td>False</td>\n",
       "    </tr>\n",
       "    <tr>\n",
       "      <th>1229917</th>\n",
       "      <td>488</td>\n",
       "      <td>2023-06-18 13:37:40</td>\n",
       "      <td>679.409104</td>\n",
       "      <td>8</td>\n",
       "      <td>False</td>\n",
       "    </tr>\n",
       "    <tr>\n",
       "      <th>1229918</th>\n",
       "      <td>292</td>\n",
       "      <td>2023-06-18 13:37:42</td>\n",
       "      <td>128.156666</td>\n",
       "      <td>2</td>\n",
       "      <td>False</td>\n",
       "    </tr>\n",
       "    <tr>\n",
       "      <th>1229919</th>\n",
       "      <td>2036</td>\n",
       "      <td>2023-06-18 13:37:42</td>\n",
       "      <td>953.330547</td>\n",
       "      <td>15</td>\n",
       "      <td>False</td>\n",
       "    </tr>\n",
       "    <tr>\n",
       "      <th>1229920</th>\n",
       "      <td>4018</td>\n",
       "      <td>2023-06-18 13:37:52</td>\n",
       "      <td>120.621936</td>\n",
       "      <td>2</td>\n",
       "      <td>False</td>\n",
       "    </tr>\n",
       "  </tbody>\n",
       "</table>\n",
       "<p>1229921 rows × 5 columns</p>\n",
       "</div>"
      ],
      "text/plain": [
       "         customer_id          tx_datetime    tx_amount  sector_id  tx_fraud\n",
       "0               2541  2023-01-01 00:21:42   499.210846         11     False\n",
       "1               1735  2023-01-01 00:21:59    58.824293          3     False\n",
       "2                669  2023-01-01 00:36:40    91.967189         12     False\n",
       "3               4235  2023-01-01 00:51:34   836.571053         16     False\n",
       "4               2162  2023-01-01 01:15:23  1537.707662         19     False\n",
       "...              ...                  ...          ...        ...       ...\n",
       "1229916         3367  2023-06-18 13:37:35  1688.437989         19     False\n",
       "1229917          488  2023-06-18 13:37:40   679.409104          8     False\n",
       "1229918          292  2023-06-18 13:37:42   128.156666          2     False\n",
       "1229919         2036  2023-06-18 13:37:42   953.330547         15     False\n",
       "1229920         4018  2023-06-18 13:37:52   120.621936          2     False\n",
       "\n",
       "[1229921 rows x 5 columns]"
      ]
     },
     "execution_count": 209,
     "metadata": {},
     "output_type": "execute_result"
    }
   ],
   "source": [
    "tr_raw"
   ]
  },
  {
   "cell_type": "code",
   "execution_count": 211,
   "metadata": {},
   "outputs": [
    {
     "data": {
      "text/html": [
       "<div>\n",
       "<style scoped>\n",
       "    .dataframe tbody tr th:only-of-type {\n",
       "        vertical-align: middle;\n",
       "    }\n",
       "\n",
       "    .dataframe tbody tr th {\n",
       "        vertical-align: top;\n",
       "    }\n",
       "\n",
       "    .dataframe thead th {\n",
       "        text-align: right;\n",
       "    }\n",
       "</style>\n",
       "<table border=\"1\" class=\"dataframe\">\n",
       "  <thead>\n",
       "    <tr style=\"text-align: right;\">\n",
       "      <th></th>\n",
       "      <th>customer_id</th>\n",
       "      <th>tx_datetime</th>\n",
       "      <th>tx_amount</th>\n",
       "      <th>sector_id</th>\n",
       "      <th>tx_fraud</th>\n",
       "    </tr>\n",
       "  </thead>\n",
       "  <tbody>\n",
       "    <tr>\n",
       "      <th>0</th>\n",
       "      <td>2541</td>\n",
       "      <td>2023-01-01 00:21:42</td>\n",
       "      <td>499.210846</td>\n",
       "      <td>11</td>\n",
       "      <td>0</td>\n",
       "    </tr>\n",
       "    <tr>\n",
       "      <th>1</th>\n",
       "      <td>1735</td>\n",
       "      <td>2023-01-01 00:21:59</td>\n",
       "      <td>58.824293</td>\n",
       "      <td>3</td>\n",
       "      <td>0</td>\n",
       "    </tr>\n",
       "    <tr>\n",
       "      <th>2</th>\n",
       "      <td>669</td>\n",
       "      <td>2023-01-01 00:36:40</td>\n",
       "      <td>91.967189</td>\n",
       "      <td>12</td>\n",
       "      <td>0</td>\n",
       "    </tr>\n",
       "    <tr>\n",
       "      <th>3</th>\n",
       "      <td>4235</td>\n",
       "      <td>2023-01-01 00:51:34</td>\n",
       "      <td>836.571053</td>\n",
       "      <td>16</td>\n",
       "      <td>0</td>\n",
       "    </tr>\n",
       "    <tr>\n",
       "      <th>4</th>\n",
       "      <td>2162</td>\n",
       "      <td>2023-01-01 01:15:23</td>\n",
       "      <td>1537.707662</td>\n",
       "      <td>19</td>\n",
       "      <td>0</td>\n",
       "    </tr>\n",
       "    <tr>\n",
       "      <th>...</th>\n",
       "      <td>...</td>\n",
       "      <td>...</td>\n",
       "      <td>...</td>\n",
       "      <td>...</td>\n",
       "      <td>...</td>\n",
       "    </tr>\n",
       "    <tr>\n",
       "      <th>1229916</th>\n",
       "      <td>3367</td>\n",
       "      <td>2023-06-18 13:37:35</td>\n",
       "      <td>1688.437989</td>\n",
       "      <td>19</td>\n",
       "      <td>0</td>\n",
       "    </tr>\n",
       "    <tr>\n",
       "      <th>1229917</th>\n",
       "      <td>488</td>\n",
       "      <td>2023-06-18 13:37:40</td>\n",
       "      <td>679.409104</td>\n",
       "      <td>8</td>\n",
       "      <td>0</td>\n",
       "    </tr>\n",
       "    <tr>\n",
       "      <th>1229918</th>\n",
       "      <td>292</td>\n",
       "      <td>2023-06-18 13:37:42</td>\n",
       "      <td>128.156666</td>\n",
       "      <td>2</td>\n",
       "      <td>0</td>\n",
       "    </tr>\n",
       "    <tr>\n",
       "      <th>1229919</th>\n",
       "      <td>2036</td>\n",
       "      <td>2023-06-18 13:37:42</td>\n",
       "      <td>953.330547</td>\n",
       "      <td>15</td>\n",
       "      <td>0</td>\n",
       "    </tr>\n",
       "    <tr>\n",
       "      <th>1229920</th>\n",
       "      <td>4018</td>\n",
       "      <td>2023-06-18 13:37:52</td>\n",
       "      <td>120.621936</td>\n",
       "      <td>2</td>\n",
       "      <td>0</td>\n",
       "    </tr>\n",
       "  </tbody>\n",
       "</table>\n",
       "<p>1229921 rows × 5 columns</p>\n",
       "</div>"
      ],
      "text/plain": [
       "         customer_id         tx_datetime    tx_amount  sector_id  tx_fraud\n",
       "0               2541 2023-01-01 00:21:42   499.210846         11         0\n",
       "1               1735 2023-01-01 00:21:59    58.824293          3         0\n",
       "2                669 2023-01-01 00:36:40    91.967189         12         0\n",
       "3               4235 2023-01-01 00:51:34   836.571053         16         0\n",
       "4               2162 2023-01-01 01:15:23  1537.707662         19         0\n",
       "...              ...                 ...          ...        ...       ...\n",
       "1229916         3367 2023-06-18 13:37:35  1688.437989         19         0\n",
       "1229917          488 2023-06-18 13:37:40   679.409104          8         0\n",
       "1229918          292 2023-06-18 13:37:42   128.156666          2         0\n",
       "1229919         2036 2023-06-18 13:37:42   953.330547         15         0\n",
       "1229920         4018 2023-06-18 13:37:52   120.621936          2         0\n",
       "\n",
       "[1229921 rows x 5 columns]"
      ]
     },
     "execution_count": 211,
     "metadata": {},
     "output_type": "execute_result"
    }
   ],
   "source": [
    "# Get datetime column\n",
    "tr_raw['tx_datetime'] = pd.to_datetime(tr_raw['tx_datetime'])\n",
    "df_tr = tr_raw.sort_values(by='tx_datetime', ascending=True)\n",
    "\n",
    "# Convert True false to 0 and 1\n",
    "df_tr['tx_fraud'] = df_tr['tx_fraud']*1\n",
    "\n",
    "df_tr"
   ]
  },
  {
   "attachments": {},
   "cell_type": "markdown",
   "metadata": {},
   "source": [
    "## Create time features"
   ]
  },
  {
   "cell_type": "code",
   "execution_count": 212,
   "metadata": {},
   "outputs": [],
   "source": [
    "# Create timestamp column that will be used in the model\n",
    "df_tr['timestamp'] = df_tr['tx_datetime'].astype(int) / 10 ** 9"
   ]
  },
  {
   "cell_type": "code",
   "execution_count": 213,
   "metadata": {},
   "outputs": [],
   "source": [
    "# Create date diff columns\n",
    "df_tr['date_diff'] = df_tr.groupby([\"customer_id\"])['tx_datetime'].transform(lambda x: x.diff().dt.seconds).fillna(-1)"
   ]
  },
  {
   "cell_type": "code",
   "execution_count": 214,
   "metadata": {},
   "outputs": [],
   "source": [
    "# Cyclical encoding for cyclic time features\n",
    "def cyclical_encoding(hour_of_day, day_of_week, month_of_year):\n",
    "    # Apply cyclical encoding for hour of the day\n",
    "    hour_sin = np.sin(2 * np.pi * hour_of_day)\n",
    "    hour_cos = np.cos(2 * np.pi * hour_of_day)\n",
    "    \n",
    "    # Apply cyclical encoding for day of the week\n",
    "    day_sin = np.sin(2 * np.pi * day_of_week)\n",
    "    day_cos = np.cos(2 * np.pi * day_of_week)\n",
    "    \n",
    "    # Apply cyclical encoding for month of the year\n",
    "    month_sin = np.sin(2 * np.pi * month_of_year)\n",
    "    month_cos = np.cos(2 * np.pi * month_of_year)\n",
    "    \n",
    "    return hour_sin, hour_cos, day_sin, day_cos, month_sin, month_cos\n",
    "\n",
    "# Extract cyclical time-related features and encode them\n",
    "def extract_cyclical_time_features(datetime):\n",
    "    # Extract cyclical time-related features\n",
    "    hour_of_day = datetime.hour / 23\n",
    "    day_of_week = datetime.weekday() / 7\n",
    "    month_of_year = datetime.month / 12\n",
    "\n",
    "    # Encode and return them    \n",
    "    return cyclical_encoding(hour_of_day, day_of_week, month_of_year)\n",
    "\n",
    "# Get all encoding for time related features\n",
    "def encode_time_related_features(df_tr_datetime):\n",
    "    # Extract cyclical time-related features\n",
    "    array_cyclical_time_features = np.array(df_tr_datetime.apply(lambda x: extract_cyclical_time_features(x)))\n",
    "    # Reshape array of tuple to bidimensional array\n",
    "    return np.stack(array_cyclical_time_features)\n",
    "\n",
    "#return np.concatenate((array_cyclical_time_features_stacked, array_interval[:, np.newaxis]), axis=1)\n",
    "\n",
    "# Normalize interval features"
   ]
  },
  {
   "cell_type": "code",
   "execution_count": 216,
   "metadata": {},
   "outputs": [
    {
     "data": {
      "text/plain": [
       "(1229921, 6)"
      ]
     },
     "execution_count": 216,
     "metadata": {},
     "output_type": "execute_result"
    }
   ],
   "source": [
    "A = encode_time_related_features(df_tr['tx_datetime'])\n",
    "A.shape"
   ]
  },
  {
   "attachments": {},
   "cell_type": "markdown",
   "metadata": {},
   "source": [
    "## Preprocessing"
   ]
  },
  {
   "cell_type": "code",
   "execution_count": 203,
   "metadata": {},
   "outputs": [],
   "source": [
    "# Normalize AMOUNT feature\n",
    "def normalize_amount(df_tr, scaler=None):\n",
    "    # Apply standard scaling\n",
    "    if scaler is None:\n",
    "        scaler = StandardScaler()\n",
    "        return scaler.fit_transform(df_tr[['tx_amount']]).flatten()\n",
    "    else:\n",
    "        return scaler.transform(df_tr[['tx_amount']]).flatten()    \n",
    "\n",
    "\n",
    "# Normalize datediff feature\n",
    "def normalize_datediff(df_tr, scaler=None):\n",
    "    # Apply standard scaling\n",
    "    if scaler is None:\n",
    "        scaler = MinMaxScaler()\n",
    "        return scaler.fit_transform(df_tr[['date_diff']]).flatten()\n",
    "    else:\n",
    "        return scaler.transform(df_tr[['date_diff']]).flatten()    \n",
    "    "
   ]
  },
  {
   "attachments": {},
   "cell_type": "markdown",
   "metadata": {},
   "source": [
    "# Train Val Test split"
   ]
  },
  {
   "cell_type": "code",
   "execution_count": 233,
   "metadata": {},
   "outputs": [],
   "source": [
    "#We keep last month as test set\n",
    "\n",
    "test_set = df_tr[df_tr['tx_datetime'] > '2023-05-24']\n",
    "val_set = df_tr[(df_tr['tx_datetime'] >= '2023-05-01' ) & (df_tr['tx_datetime'] <= '2023-05-24')]\n",
    "train_set = df_tr[df_tr['tx_datetime'] < '2023-05-01']\n",
    "\n",
    "\n",
    "assert round(np.sum(test_set['tx_fraud'])/len(test_set), 3) == round(np.sum(train_set['tx_fraud'])/len(train_set), 3)\n",
    "assert round(np.sum(val_set['tx_fraud'])/len(val_set), 3) == round(np.sum(train_set['tx_fraud'])/len(train_set), 3)"
   ]
  },
  {
   "cell_type": "code",
   "execution_count": null,
   "metadata": {},
   "outputs": [],
   "source": [
    "features = ['customer_id', 'sector_id', 'tx_datetime', 'tx_amount', 'timestamp', 'date_diff']\n",
    "target = 'tx_fraud'"
   ]
  },
  {
   "cell_type": "code",
   "execution_count": null,
   "metadata": {},
   "outputs": [],
   "source": [
    "X_train = train_set[features]\n",
    "y_train = train_set[target]\n",
    "\n",
    "X_val = val_set[features]\n",
    "y_val = val_set[target]\n",
    "\n",
    "X_test = test_set[features]\n",
    "y_test = test_set[target]"
   ]
  },
  {
   "cell_type": "code",
   "execution_count": null,
   "metadata": {},
   "outputs": [],
   "source": []
  },
  {
   "cell_type": "code",
   "execution_count": null,
   "metadata": {},
   "outputs": [],
   "source": []
  },
  {
   "cell_type": "code",
   "execution_count": null,
   "metadata": {},
   "outputs": [],
   "source": []
  },
  {
   "cell_type": "code",
   "execution_count": null,
   "metadata": {},
   "outputs": [],
   "source": []
  }
 ],
 "metadata": {
  "kernelspec": {
   "display_name": "transformers-implementation-xd7zxmCX-py3.10",
   "language": "python",
   "name": "python3"
  },
  "language_info": {
   "codemirror_mode": {
    "name": "ipython",
    "version": 3
   },
   "file_extension": ".py",
   "mimetype": "text/x-python",
   "name": "python",
   "nbconvert_exporter": "python",
   "pygments_lexer": "ipython3",
   "version": "3.10.9"
  },
  "orig_nbformat": 4
 },
 "nbformat": 4,
 "nbformat_minor": 2
}
