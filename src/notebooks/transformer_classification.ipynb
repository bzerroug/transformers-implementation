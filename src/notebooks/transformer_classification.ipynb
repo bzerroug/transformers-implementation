{
 "cells": [
  {
   "cell_type": "code",
   "execution_count": 1,
   "metadata": {},
   "outputs": [
    {
     "name": "stderr",
     "output_type": "stream",
     "text": [
      "/Users/bachirzerroug/Library/Caches/pypoetry/virtualenvs/transformers-implementation-xd7zxmCX-py3.10/lib/python3.10/site-packages/tqdm/auto.py:21: TqdmWarning: IProgress not found. Please update jupyter and ipywidgets. See https://ipywidgets.readthedocs.io/en/stable/user_install.html\n",
      "  from .autonotebook import tqdm as notebook_tqdm\n"
     ]
    }
   ],
   "source": [
    "import os\n",
    "import torch\n",
    "import matplotlib.pyplot as plt\n",
    "import seaborn as sns\n",
    "import pandas as pd\n",
    "import numpy as np\n",
    "import math\n",
    "from transformers import AutoTokenizer, BertTokenizer\n",
    "from torch.utils.data import Dataset, DataLoader\n",
    "from torch import nn\n",
    "from sklearn.model_selection import train_test_split\n",
    "from sklearn.metrics import average_precision_score, precision_recall_curve"
   ]
  },
  {
   "cell_type": "code",
   "execution_count": 2,
   "metadata": {},
   "outputs": [],
   "source": [
    "os.chdir('/Users/bachirzerroug/Documents/transformers-implementation')"
   ]
  },
  {
   "cell_type": "code",
   "execution_count": 3,
   "metadata": {},
   "outputs": [],
   "source": [
    "from src.local_transformers import Encoder\n",
    "from src.utils import EarlyStopping, CustomDataset, PreTrainedTokenizer"
   ]
  },
  {
   "cell_type": "code",
   "execution_count": 4,
   "metadata": {},
   "outputs": [],
   "source": [
    "# Import data\n",
    "emails_raw = pd.read_csv('src/data/spam.csv')"
   ]
  },
  {
   "cell_type": "code",
   "execution_count": 5,
   "metadata": {},
   "outputs": [
    {
     "data": {
      "text/html": [
       "<div>\n",
       "<style scoped>\n",
       "    .dataframe tbody tr th:only-of-type {\n",
       "        vertical-align: middle;\n",
       "    }\n",
       "\n",
       "    .dataframe tbody tr th {\n",
       "        vertical-align: top;\n",
       "    }\n",
       "\n",
       "    .dataframe thead th {\n",
       "        text-align: right;\n",
       "    }\n",
       "</style>\n",
       "<table border=\"1\" class=\"dataframe\">\n",
       "  <thead>\n",
       "    <tr style=\"text-align: right;\">\n",
       "      <th></th>\n",
       "      <th>Category</th>\n",
       "      <th>Message</th>\n",
       "    </tr>\n",
       "  </thead>\n",
       "  <tbody>\n",
       "    <tr>\n",
       "      <th>0</th>\n",
       "      <td>ham</td>\n",
       "      <td>Go until jurong point, crazy.. Available only ...</td>\n",
       "    </tr>\n",
       "    <tr>\n",
       "      <th>1</th>\n",
       "      <td>ham</td>\n",
       "      <td>Ok lar... Joking wif u oni...</td>\n",
       "    </tr>\n",
       "    <tr>\n",
       "      <th>2</th>\n",
       "      <td>spam</td>\n",
       "      <td>Free entry in 2 a wkly comp to win FA Cup fina...</td>\n",
       "    </tr>\n",
       "    <tr>\n",
       "      <th>3</th>\n",
       "      <td>ham</td>\n",
       "      <td>U dun say so early hor... U c already then say...</td>\n",
       "    </tr>\n",
       "    <tr>\n",
       "      <th>4</th>\n",
       "      <td>ham</td>\n",
       "      <td>Nah I don't think he goes to usf, he lives aro...</td>\n",
       "    </tr>\n",
       "    <tr>\n",
       "      <th>...</th>\n",
       "      <td>...</td>\n",
       "      <td>...</td>\n",
       "    </tr>\n",
       "    <tr>\n",
       "      <th>5567</th>\n",
       "      <td>spam</td>\n",
       "      <td>This is the 2nd time we have tried 2 contact u...</td>\n",
       "    </tr>\n",
       "    <tr>\n",
       "      <th>5568</th>\n",
       "      <td>ham</td>\n",
       "      <td>Will ü b going to esplanade fr home?</td>\n",
       "    </tr>\n",
       "    <tr>\n",
       "      <th>5569</th>\n",
       "      <td>ham</td>\n",
       "      <td>Pity, * was in mood for that. So...any other s...</td>\n",
       "    </tr>\n",
       "    <tr>\n",
       "      <th>5570</th>\n",
       "      <td>ham</td>\n",
       "      <td>The guy did some bitching but I acted like i'd...</td>\n",
       "    </tr>\n",
       "    <tr>\n",
       "      <th>5571</th>\n",
       "      <td>ham</td>\n",
       "      <td>Rofl. Its true to its name</td>\n",
       "    </tr>\n",
       "  </tbody>\n",
       "</table>\n",
       "<p>5572 rows × 2 columns</p>\n",
       "</div>"
      ],
      "text/plain": [
       "     Category                                            Message\n",
       "0         ham  Go until jurong point, crazy.. Available only ...\n",
       "1         ham                      Ok lar... Joking wif u oni...\n",
       "2        spam  Free entry in 2 a wkly comp to win FA Cup fina...\n",
       "3         ham  U dun say so early hor... U c already then say...\n",
       "4         ham  Nah I don't think he goes to usf, he lives aro...\n",
       "...       ...                                                ...\n",
       "5567     spam  This is the 2nd time we have tried 2 contact u...\n",
       "5568      ham               Will ü b going to esplanade fr home?\n",
       "5569      ham  Pity, * was in mood for that. So...any other s...\n",
       "5570      ham  The guy did some bitching but I acted like i'd...\n",
       "5571      ham                         Rofl. Its true to its name\n",
       "\n",
       "[5572 rows x 2 columns]"
      ]
     },
     "execution_count": 5,
     "metadata": {},
     "output_type": "execute_result"
    }
   ],
   "source": [
    "emails_raw"
   ]
  },
  {
   "cell_type": "code",
   "execution_count": 6,
   "metadata": {},
   "outputs": [
    {
     "name": "stdout",
     "output_type": "stream",
     "text": [
      "URGENT! You have won a 1 week FREE membership in our £100,000 Prize Jackpot! Txt the word: CLAIM to No: 81010 T&C www.dbuk.net LCCLTD POBOX 4403LDNW1A7RW18\n",
      "Go until jurong point, crazy.. Available only in bugis n great world la e buffet... Cine there got amore wat...\n",
      "Do you know what Mallika Sherawat did yesterday? Find out now @  &lt;URL&gt;\n",
      "K..u also dont msg or reply to his msg..\n"
     ]
    }
   ],
   "source": [
    "# Look at some examples\n",
    "print(emails_raw['Message'].iloc[12])\n",
    "print(emails_raw['Message'].iloc[0])\n",
    "print(emails_raw['Message'].iloc[55])\n",
    "print(emails_raw['Message'].iloc[700])"
   ]
  },
  {
   "cell_type": "code",
   "execution_count": 7,
   "metadata": {},
   "outputs": [
    {
     "name": "stdout",
     "output_type": "stream",
     "text": [
      "shape of the dataset: (5572, 2)\n",
      "Number unique classes 2\n",
      "Proportions of classes: \n",
      "            Message\n",
      "Category          \n",
      "ham       0.865937\n",
      "spam      0.134063\n",
      "Number of distinct emails: 5157\n"
     ]
    }
   ],
   "source": [
    "# Get some basic stats\n",
    "print(f'shape of the dataset: {emails_raw.shape}')\n",
    "\n",
    "# Number of classes\n",
    "nb_classes = emails_raw['Category'].nunique()\n",
    "print(f'Number unique classes {nb_classes}')\n",
    "\n",
    "# Proportion of classes\n",
    "proportions_classes = emails_raw.groupby('Category').count()/len(emails_raw)\n",
    "print(f'Proportions of classes: \\n {proportions_classes}')\n",
    "# Number of distinct emails\n",
    "print(f'Number of distinct emails: {emails_raw.Message.nunique()}')\n"
   ]
  },
  {
   "cell_type": "code",
   "execution_count": 8,
   "metadata": {},
   "outputs": [],
   "source": [
    "message_count = emails_raw.groupby('Message').count()\n",
    "message_count.columns = ['nb_messages']\n",
    "message_count = message_count[message_count['nb_messages']>1]"
   ]
  },
  {
   "cell_type": "code",
   "execution_count": 9,
   "metadata": {},
   "outputs": [
    {
     "data": {
      "text/html": [
       "<div>\n",
       "<style scoped>\n",
       "    .dataframe tbody tr th:only-of-type {\n",
       "        vertical-align: middle;\n",
       "    }\n",
       "\n",
       "    .dataframe tbody tr th {\n",
       "        vertical-align: top;\n",
       "    }\n",
       "\n",
       "    .dataframe thead th {\n",
       "        text-align: right;\n",
       "    }\n",
       "</style>\n",
       "<table border=\"1\" class=\"dataframe\">\n",
       "  <thead>\n",
       "    <tr style=\"text-align: right;\">\n",
       "      <th></th>\n",
       "      <th>nb_messages</th>\n",
       "    </tr>\n",
       "    <tr>\n",
       "      <th>Message</th>\n",
       "      <th></th>\n",
       "    </tr>\n",
       "  </thead>\n",
       "  <tbody>\n",
       "    <tr>\n",
       "      <th>Mila, age23, blonde, new in UK. I look sex with UK guys. if u like fun with me. Text MTALK to 69866.18 . 30pp/txt 1st 5free. £1.50 increments. Help08718728876</th>\n",
       "      <td>2</td>\n",
       "    </tr>\n",
       "    <tr>\n",
       "      <th>Ok lor.</th>\n",
       "      <td>2</td>\n",
       "    </tr>\n",
       "    <tr>\n",
       "      <th>Ok thanx...</th>\n",
       "      <td>2</td>\n",
       "    </tr>\n",
       "    <tr>\n",
       "      <th>Ok then i will come to ur home after half an hour</th>\n",
       "      <td>2</td>\n",
       "    </tr>\n",
       "    <tr>\n",
       "      <th>PRIVATE! Your 2004 Account Statement for 07742676969 shows 786 unredeemed Bonus Points. To claim call 08719180248 Identifier Code: 45239 Expires</th>\n",
       "      <td>2</td>\n",
       "    </tr>\n",
       "    <tr>\n",
       "      <th>...</th>\n",
       "      <td>...</td>\n",
       "    </tr>\n",
       "    <tr>\n",
       "      <th>Say this slowly.? GOD,I LOVE YOU &amp;amp; I NEED YOU,CLEAN MY HEART WITH YOUR BLOOD.Send this to Ten special people &amp;amp; u c miracle tomorrow, do it,pls,pls do it...</th>\n",
       "      <td>4</td>\n",
       "    </tr>\n",
       "    <tr>\n",
       "      <th>7 wonders in My WORLD 7th You 6th Ur style 5th Ur smile 4th Ur Personality 3rd Ur Nature 2nd Ur SMS and 1st \"Ur Lovely Friendship\"... good morning dear</th>\n",
       "      <td>4</td>\n",
       "    </tr>\n",
       "    <tr>\n",
       "      <th>Ok...</th>\n",
       "      <td>10</td>\n",
       "    </tr>\n",
       "    <tr>\n",
       "      <th>I cant pick the phone right now. Pls send a message</th>\n",
       "      <td>12</td>\n",
       "    </tr>\n",
       "    <tr>\n",
       "      <th>Sorry, I'll call later</th>\n",
       "      <td>30</td>\n",
       "    </tr>\n",
       "  </tbody>\n",
       "</table>\n",
       "<p>289 rows × 1 columns</p>\n",
       "</div>"
      ],
      "text/plain": [
       "                                                    nb_messages\n",
       "Message                                                        \n",
       "Mila, age23, blonde, new in UK. I look sex with...            2\n",
       "Ok lor.                                                       2\n",
       "Ok thanx...                                                   2\n",
       "Ok then i will come to ur home after half an hour             2\n",
       "PRIVATE! Your 2004 Account Statement for 077426...            2\n",
       "...                                                         ...\n",
       "Say this slowly.? GOD,I LOVE YOU &amp; I NEED Y...            4\n",
       "7 wonders in My WORLD 7th You 6th Ur style 5th ...            4\n",
       "Ok...                                                        10\n",
       "I cant pick the phone right now. Pls send a mes...           12\n",
       "Sorry, I'll call later                                       30\n",
       "\n",
       "[289 rows x 1 columns]"
      ]
     },
     "execution_count": 9,
     "metadata": {},
     "output_type": "execute_result"
    }
   ],
   "source": [
    "message_count.sort_values(by='nb_messages')"
   ]
  },
  {
   "cell_type": "markdown",
   "metadata": {},
   "source": [
    "We see that repeated emails are\n",
    "1. emails with basic answers like 'OK'\n",
    "2. emails we can send automatically when someone call us \"Sorry, I'll call later\"\n",
    "3. emails considered as chain \"Send this to Ten special people\"\n",
    "4. spams received by multiple accounts  \n",
    "...  \n",
    "\n",
    "Let's check if they belong to the same class at least"
   ]
  },
  {
   "cell_type": "code",
   "execution_count": 10,
   "metadata": {},
   "outputs": [],
   "source": [
    "def check_all_msg_same_class(message):\n",
    "    list_similar_emails = emails_raw[emails_raw['Message'] == message]['Category']\n",
    "    class_email = list_similar_emails.iloc[0]\n",
    "    return list_similar_emails.tolist() == [class_email]*len(list_similar_emails)"
   ]
  },
  {
   "cell_type": "code",
   "execution_count": 11,
   "metadata": {},
   "outputs": [],
   "source": [
    "for message in message_count.index:\n",
    "    if not check_all_msg_same_class(message):\n",
    "        print('There are similar emails that have at least 2 different classes')"
   ]
  },
  {
   "attachments": {},
   "cell_type": "markdown",
   "metadata": {},
   "source": [
    "Distinct messages have the same class in the dataset.  \n",
    "Which means that there is not incoherence in the dataset information carried by these emails.  \n",
    "The decision concerning these emails depend on how the dataset is built.\n",
    "1. If the dataset is a sample of real emails received by a representative group of persons, then we can keep them. Indeed by keeping them we give them more weight which is logical as they appear multiple times.\n",
    "2. If these emails are selected, it doesn't make sense to give more weight to specific emails, except if there is a idea behind.  \n",
    "\n",
    "As we don't have information, we suppose that these emails are a sample of real emails"
   ]
  },
  {
   "attachments": {},
   "cell_type": "markdown",
   "metadata": {},
   "source": [
    "# Transform dataframe to a pytorch Dataclass"
   ]
  },
  {
   "attachments": {},
   "cell_type": "markdown",
   "metadata": {},
   "source": [
    "## First transform the category into a binary category with 0 and 1"
   ]
  },
  {
   "cell_type": "code",
   "execution_count": 12,
   "metadata": {},
   "outputs": [
    {
     "data": {
      "text/plain": [
       "0       0\n",
       "1       0\n",
       "2       1\n",
       "3       0\n",
       "4       0\n",
       "       ..\n",
       "5567    1\n",
       "5568    0\n",
       "5569    0\n",
       "5570    0\n",
       "5571    0\n",
       "Name: category_binary, Length: 5572, dtype: int64"
      ]
     },
     "execution_count": 12,
     "metadata": {},
     "output_type": "execute_result"
    }
   ],
   "source": [
    "emails_raw['category_binary'] = [0 if msg == 'ham' else 1 for msg in emails_raw['Category']]\n",
    "emails_raw['category_binary']"
   ]
  },
  {
   "attachments": {},
   "cell_type": "markdown",
   "metadata": {},
   "source": [
    "## Train Val Test Split"
   ]
  },
  {
   "cell_type": "code",
   "execution_count": 17,
   "metadata": {},
   "outputs": [],
   "source": [
    "X_train_val, X_test, y_train_val, y_test = train_test_split(emails_raw['Message'], \n",
    "                                                            torch.tensor(emails_raw['category_binary'], dtype=float), \n",
    "                                                            test_size=0.2, \n",
    "                                                            shuffle=True,\n",
    "                                                            stratify=torch.tensor(emails_raw['category_binary'], \n",
    "                                                                     dtype=torch.float32),\n",
    "                                                            random_state=12)\n",
    "\n",
    "X_train, X_val, y_train, y_val = train_test_split(X_train_val,\n",
    "                                                  y_train_val,\n",
    "                                                  test_size=0.2, \n",
    "                                                  shuffle=True,\n",
    "                                                  stratify=y_train_val,\n",
    "                                                  random_state=24)"
   ]
  },
  {
   "attachments": {},
   "cell_type": "markdown",
   "metadata": {},
   "source": [
    "## Tokenize messages"
   ]
  },
  {
   "cell_type": "code",
   "execution_count": 18,
   "metadata": {},
   "outputs": [],
   "source": [
    "tokenizer = AutoTokenizer.from_pretrained(\"bert-base-cased\")"
   ]
  },
  {
   "cell_type": "code",
   "execution_count": 19,
   "metadata": {},
   "outputs": [
    {
     "data": {
      "text/plain": [
       "3378    Yup. Wun believe wat? U really neva c e msg i ...\n",
       "3743    Hey i'm bored... So i'm thinking of u... So wa...\n",
       "2116    Well I wasn't available as I washob nobbing wi...\n",
       "569     Love it! Daddy will make you scream with pleas...\n",
       "1988                     No calls..messages..missed calls\n",
       "                              ...                        \n",
       "992     Hi im having the most relaxing time ever! we h...\n",
       "2848    Free-message: Jamster!Get the crazy frog sound...\n",
       "999     Then ü wait 4 me at bus stop aft ur lect lar. ...\n",
       "3376                                                   :)\n",
       "3194    I will lick up every drop :) are you ready to ...\n",
       "Name: Message, Length: 3565, dtype: object"
      ]
     },
     "execution_count": 19,
     "metadata": {},
     "output_type": "execute_result"
    }
   ],
   "source": [
    "X_train"
   ]
  },
  {
   "cell_type": "code",
   "execution_count": 20,
   "metadata": {},
   "outputs": [],
   "source": [
    "#max_length = max([len(message) for message in X_train])\n",
    "#tokenizer = PreTrainedTokenizer(tokenizer_type=\"autotokenizer_best_best_cased\",\n",
    "#                                max_length=max_length,\n",
    "#                                truncation=True,\n",
    "#                                padding=\"max_length\"\n",
    "#                                )\n",
    "\n",
    "X_train_tokenized = tokenizer(X_train.tolist(), truncation=True, padding=True, return_tensors=\"pt\").input_ids\n",
    "X_val_tokenized = tokenizer(X_val.tolist(), truncation=True, padding=True, return_tensors=\"pt\").input_ids\n",
    "X_test_tokenized = tokenizer(X_test.tolist(), truncation=True, padding=True, return_tensors=\"pt\").input_ids\n",
    "\n",
    "#y_train = torch.tensor(y_train.to_numpy(), dtype=float)\n",
    "#y_val = torch.tensor(y_val.to_numpy(), dtype=float)\n",
    "#y_test = torch.tensor(y_test.to_numpy(), dtype=float)\n",
    "\n",
    "vocab_size = tokenizer.vocab_size"
   ]
  },
  {
   "cell_type": "code",
   "execution_count": 21,
   "metadata": {},
   "outputs": [],
   "source": [
    "dataset_train = CustomDataset(X_train_tokenized, y_train)\n",
    "dataset_val = CustomDataset(X_val_tokenized, y_val)\n",
    "dataset_test = CustomDataset(X_test_tokenized, y_test)"
   ]
  },
  {
   "attachments": {},
   "cell_type": "markdown",
   "metadata": {},
   "source": [
    "## Create dataset"
   ]
  },
  {
   "cell_type": "code",
   "execution_count": 22,
   "metadata": {},
   "outputs": [],
   "source": [
    "#tokenizer_input = AutoTokenizer.from_pretrained(\"bert-base-cased\")\n",
    "\n",
    "#encoded_input = tokenizer_input(emails_raw['Message'].tolist(), padding=True, return_tensors=\"pt\")\n",
    "\n",
    "#x_train_val, x_test, y_train_val, y_test = train_test_split(encoded_input.input_ids, \n",
    "#                                                            torch.tensor(emails_raw['category_binary'], \n",
    "#                                                                         dtype=torch.float32), \n",
    "#                                                            train_size=0.8, \n",
    "#                                                            shuffle=True,\n",
    "#                                                            stratify=torch.tensor(emails_raw['category_binary'], \n",
    "#                                                                     dtype=torch.float32),\n",
    "#                                                            random_state=12)\n",
    "\n",
    "#x_train, x_val, y_train, y_val = train_test_split(x_train_val,\n",
    "#                                                  y_train_val,\n",
    "#                                                  train_size=0.8, \n",
    "#                                                  shuffle=True,\n",
    "#                                                  stratify=y_train_val,\n",
    "#                                                  random_state=56)\n",
    "    \n",
    "#vocab_size = tokenizer_input.vocab_size"
   ]
  },
  {
   "cell_type": "markdown",
   "metadata": {},
   "source": [
    "## Create model"
   ]
  },
  {
   "cell_type": "code",
   "execution_count": 26,
   "metadata": {},
   "outputs": [],
   "source": [
    "class SpamClassifier(nn.Module):\n",
    "    def __init__(self,\n",
    "                 embedding_dim,\n",
    "                 latent_dim,\n",
    "                 vocab_size, \n",
    "                 num_heads, \n",
    "                 num_layers, \n",
    "                 factor):\n",
    "        super().__init__()\n",
    "        self.embedding_dim = embedding_dim\n",
    "        self.latent_dim = latent_dim\n",
    "        self.vocab_size = vocab_size\n",
    "        self.num_heads = num_heads\n",
    "        self.num_layers = num_layers\n",
    "        self.factor = factor\n",
    "\n",
    "        self.encoder = Encoder(vocab_size=self.vocab_size, \n",
    "                          embedding_dim=self.embedding_dim, \n",
    "                          num_heads=self.num_heads, \n",
    "                          num_layers=self.num_layers, \n",
    "                          factor=self.factor)\n",
    "\n",
    "        self.linear = nn.Sequential(\n",
    "            nn.Linear(self.embedding_dim, self.latent_dim),\n",
    "            nn.ReLU(),\n",
    "            nn.Linear(self.latent_dim, 1),\n",
    "        )\n",
    "\n",
    "        self.sigmoid = nn.Sigmoid()\n",
    "\n",
    "    def forward(self, x):\n",
    "        encoded = self.encoder(x)\n",
    "        mean_encoded = torch.mean(encoded, dim=1)\n",
    "        linear = self.linear(mean_encoded)\n",
    "        return self.sigmoid(linear)\n",
    "\n"
   ]
  },
  {
   "cell_type": "code",
   "execution_count": 27,
   "metadata": {},
   "outputs": [],
   "source": [
    "# Instanciate basic paramters\n",
    "learning_rate = 0.001\n",
    "model = SpamClassifier(embedding_dim=256,\n",
    "                       latent_dim=64,\n",
    "                       vocab_size=vocab_size, \n",
    "                       num_heads=4, \n",
    "                       num_layers=3, \n",
    "                       factor=2\n",
    "                    )\n",
    "\n",
    "loss_fn = nn.BCELoss()\n",
    "optimizer = torch.optim.Adam(model.parameters(), lr=learning_rate)\n",
    "nb_epochs = 15\n",
    "batch_size = 64"
   ]
  },
  {
   "cell_type": "code",
   "execution_count": 28,
   "metadata": {},
   "outputs": [],
   "source": [
    "train_loader = DataLoader(dataset_train, batch_size=batch_size, shuffle=False)\n",
    "val_loader = DataLoader(dataset_val, batch_size=batch_size, shuffle=False)\n",
    "test_loader = DataLoader(dataset_test, batch_size=batch_size, shuffle=False)"
   ]
  },
  {
   "cell_type": "code",
   "execution_count": 29,
   "metadata": {},
   "outputs": [],
   "source": [
    "def train(dataloader, model, loss_fn, optimizer):    \n",
    "    size = len(dataloader.dataset)\n",
    "    model.train()\n",
    "    for batch, (X, y) in enumerate(dataloader):\n",
    "        # Compute prediction and loss\n",
    "        pred = model(X)\n",
    "        #pred = torch.tensor([elem[0] for elem in pred], requires_grad=True)\n",
    "        loss = loss_fn(pred, y.float().unsqueeze(1))\n",
    "\n",
    "        # Backpropagation\n",
    "        # Backpropagate the prediction loss with a call to loss.backward(). \n",
    "        # PyTorch deposits the gradients of the loss w.r.t. each parameter.\n",
    "        loss.backward()\n",
    "        # Once we have our gradients, we call optimizer.step() to adjust the parameters \n",
    "        # by the gradients collected in the backward pass.\n",
    "        optimizer.step()\n",
    "        # Call optimizer.zero_grad() to reset the gradients of model parameters. \n",
    "        # Gradients by default add up; to prevent double-counting, we explicitly zero them at each iteration.\n",
    "        optimizer.zero_grad()\n",
    "\n",
    "        if batch % 10 == 0:\n",
    "            loss, current = loss.item(), (batch + 1) * len(X)\n",
    "            print(f\"loss: {loss:>7f}  [{current:>5d}/{size:>5d}]\")"
   ]
  },
  {
   "cell_type": "code",
   "execution_count": 30,
   "metadata": {},
   "outputs": [],
   "source": [
    "def eval(dataloader, model, loss_fn):\n",
    "    model.eval()\n",
    "    size = len(dataloader.dataset)\n",
    "    num_batches = len(dataloader)\n",
    "    test_loss, pr_aucs = 0, []\n",
    "    y_true = []\n",
    "    y_pred = []\n",
    "    with torch.no_grad():\n",
    "        for batch, (X, y) in enumerate(dataloader):\n",
    "            pred = model(X)\n",
    "            # Compute the the prediction error (loss) and convert it to numpy\n",
    "            test_loss += loss_fn(pred, y.float().unsqueeze(1)).item()\n",
    "            # Sum of correct predictions\n",
    "            pr_aucs.append(average_precision_score(y.numpy(), pred.numpy()))\n",
    "            y_true += y.numpy().tolist()\n",
    "            y_pred += pred.numpy().tolist()\n",
    "            \n",
    "    test_loss /= num_batches\n",
    "    pr_auc = np.mean(pr_aucs)\n",
    "    print(f\"Test Error: Avg loss: {test_loss:>8f} and pr auc: {pr_auc} \\n\")\n",
    "    return test_loss, y_true, y_pred"
   ]
  },
  {
   "cell_type": "code",
   "execution_count": 31,
   "metadata": {},
   "outputs": [],
   "source": [
    "#device = (\n",
    "#    \"cuda\"\n",
    "#    if torch.cuda.is_available()\n",
    "#    else \"mps\"\n",
    "#    if torch.backends.mps.is_available()\n",
    "#    else \"cpu\"\n",
    "#)"
   ]
  },
  {
   "cell_type": "code",
   "execution_count": 32,
   "metadata": {},
   "outputs": [
    {
     "name": "stdout",
     "output_type": "stream",
     "text": [
      "Epoch 1\n",
      "-------------------------------\n",
      "loss: 0.675759  [   64/ 3565]\n",
      "loss: 0.337517  [  704/ 3565]\n",
      "loss: 0.435348  [ 1344/ 3565]\n",
      "loss: 0.460968  [ 1984/ 3565]\n",
      "loss: 0.371320  [ 2624/ 3565]\n",
      "loss: 0.397296  [ 3264/ 3565]\n",
      "Test Error: Avg loss: 0.283714 and pr auc: 0.535563397740192 \n",
      "\n",
      "EarlyStopping Counter: 0 out of 3\n",
      "Epoch 2\n",
      "-------------------------------\n",
      "loss: 0.163386  [   64/ 3565]\n",
      "loss: 0.270978  [  704/ 3565]\n",
      "loss: 0.275881  [ 1344/ 3565]\n",
      "loss: 0.261082  [ 1984/ 3565]\n",
      "loss: 0.300599  [ 2624/ 3565]\n",
      "loss: 0.322180  [ 3264/ 3565]\n",
      "Test Error: Avg loss: 0.244212 and pr auc: 0.4900301331436712 \n",
      "\n",
      "EarlyStopping Counter: 0 out of 3\n",
      "Epoch 3\n",
      "-------------------------------\n",
      "loss: 0.109767  [   64/ 3565]\n",
      "loss: 0.245081  [  704/ 3565]\n",
      "loss: 0.267253  [ 1344/ 3565]\n",
      "loss: 0.255206  [ 1984/ 3565]\n",
      "loss: 0.284781  [ 2624/ 3565]\n",
      "loss: 0.277842  [ 3264/ 3565]\n",
      "Test Error: Avg loss: 0.278525 and pr auc: 0.47253661973895467 \n",
      "\n",
      "EarlyStopping Counter: 1 out of 3\n",
      "Epoch 4\n",
      "-------------------------------\n",
      "loss: 0.090837  [   64/ 3565]\n",
      "loss: 0.230474  [  704/ 3565]\n",
      "loss: 0.230051  [ 1344/ 3565]\n",
      "loss: 0.198321  [ 1984/ 3565]\n",
      "loss: 0.282675  [ 2624/ 3565]\n",
      "loss: 0.144192  [ 3264/ 3565]\n",
      "Test Error: Avg loss: 0.211061 and pr auc: 0.6973135909976895 \n",
      "\n",
      "EarlyStopping Counter: 0 out of 3\n",
      "Epoch 5\n",
      "-------------------------------\n",
      "loss: 0.064814  [   64/ 3565]\n",
      "loss: 0.183406  [  704/ 3565]\n",
      "loss: 0.219306  [ 1344/ 3565]\n",
      "loss: 0.147897  [ 1984/ 3565]\n",
      "loss: 0.245699  [ 2624/ 3565]\n",
      "loss: 0.129840  [ 3264/ 3565]\n",
      "Test Error: Avg loss: 0.400515 and pr auc: 0.3846896191338951 \n",
      "\n",
      "EarlyStopping Counter: 1 out of 3\n",
      "Epoch 6\n",
      "-------------------------------\n",
      "loss: 0.111603  [   64/ 3565]\n",
      "loss: 0.088002  [  704/ 3565]\n",
      "loss: 0.200546  [ 1344/ 3565]\n",
      "loss: 0.114284  [ 1984/ 3565]\n",
      "loss: 0.213790  [ 2624/ 3565]\n",
      "loss: 0.119548  [ 3264/ 3565]\n",
      "Test Error: Avg loss: 0.405181 and pr auc: 0.5101644927062908 \n",
      "\n",
      "EarlyStopping Counter: 2 out of 3\n",
      "Epoch 7\n",
      "-------------------------------\n",
      "loss: 0.105809  [   64/ 3565]\n",
      "loss: 0.098445  [  704/ 3565]\n",
      "loss: 0.087720  [ 1344/ 3565]\n",
      "loss: 0.097434  [ 1984/ 3565]\n",
      "loss: 0.138892  [ 2624/ 3565]\n",
      "loss: 0.105272  [ 3264/ 3565]\n",
      "Test Error: Avg loss: 0.049882 and pr auc: 0.9871164189000806 \n",
      "\n",
      "EarlyStopping Counter: 0 out of 3\n",
      "Epoch 8\n",
      "-------------------------------\n",
      "loss: 0.014389  [   64/ 3565]\n",
      "loss: 0.076742  [  704/ 3565]\n",
      "loss: 0.011908  [ 1344/ 3565]\n",
      "loss: 0.047429  [ 1984/ 3565]\n",
      "loss: 0.099951  [ 2624/ 3565]\n",
      "loss: 0.039145  [ 3264/ 3565]\n",
      "Test Error: Avg loss: 0.040937 and pr auc: 0.9885652266604648 \n",
      "\n",
      "EarlyStopping Counter: 0 out of 3\n",
      "Epoch 9\n",
      "-------------------------------\n",
      "loss: 0.002568  [   64/ 3565]\n",
      "loss: 0.013741  [  704/ 3565]\n",
      "loss: 0.015464  [ 1344/ 3565]\n",
      "loss: 0.039719  [ 1984/ 3565]\n",
      "loss: 0.037620  [ 2624/ 3565]\n",
      "loss: 0.019182  [ 3264/ 3565]\n",
      "Test Error: Avg loss: 0.053282 and pr auc: 0.9833033533926391 \n",
      "\n",
      "EarlyStopping Counter: 1 out of 3\n",
      "Epoch 10\n",
      "-------------------------------\n",
      "loss: 0.001836  [   64/ 3565]\n",
      "loss: 0.021952  [  704/ 3565]\n",
      "loss: 0.005975  [ 1344/ 3565]\n",
      "loss: 0.020881  [ 1984/ 3565]\n",
      "loss: 0.023929  [ 2624/ 3565]\n",
      "loss: 0.027085  [ 3264/ 3565]\n",
      "Test Error: Avg loss: 0.058078 and pr auc: 0.9808714398939963 \n",
      "\n",
      "EarlyStopping Counter: 2 out of 3\n",
      "Epoch 11\n",
      "-------------------------------\n",
      "loss: 0.003491  [   64/ 3565]\n",
      "loss: 0.008168  [  704/ 3565]\n",
      "loss: 0.001705  [ 1344/ 3565]\n",
      "loss: 0.021605  [ 1984/ 3565]\n",
      "loss: 0.008028  [ 2624/ 3565]\n",
      "loss: 0.006890  [ 3264/ 3565]\n",
      "Test Error: Avg loss: 0.060529 and pr auc: 0.9813947876447877 \n",
      "\n",
      "EarlyStopping Counter: 3 out of 3\n",
      "Early stopping\n",
      "Done!\n"
     ]
    }
   ],
   "source": [
    "epochs = 15\n",
    "early_stopping = EarlyStopping(patience=3, verbose=True)\n",
    "\n",
    "for t in range(epochs):\n",
    "    print(f\"Epoch {t+1}\\n-------------------------------\")\n",
    "    train(train_loader, model, loss_fn, optimizer)\n",
    "    val_loss, _, _ = eval(val_loader, model, loss_fn)\n",
    "    \n",
    "    # Check for early stopping\n",
    "    early_stopping(val_loss, model)\n",
    "    \n",
    "    if early_stopping.early_stop:\n",
    "        print(\"Early stopping\")\n",
    "        break\n",
    "\n",
    "print(\"Done!\")"
   ]
  },
  {
   "cell_type": "code",
   "execution_count": 281,
   "metadata": {},
   "outputs": [
    {
     "name": "stdout",
     "output_type": "stream",
     "text": [
      "Epoch 1\n",
      "-------------------------------\n",
      "loss: 0.672037  [   64/ 3565]\n",
      "loss: 0.657527  [  704/ 3565]\n",
      "loss: 0.649479  [ 1344/ 3565]\n",
      "loss: 0.642694  [ 1984/ 3565]\n",
      "loss: 0.622694  [ 2624/ 3565]\n",
      "loss: 0.626600  [ 3264/ 3565]\n",
      "Test Error: Avg loss: 0.568660 and pr auc: 0.48754765139183565 \n",
      "\n",
      "EarlyStopping Counter: 0 out of 3\n",
      "Epoch 2\n",
      "-------------------------------\n",
      "loss: 0.576001  [   64/ 3565]\n",
      "loss: 0.579938  [  704/ 3565]\n",
      "loss: 0.589280  [ 1344/ 3565]\n",
      "loss: 0.592276  [ 1984/ 3565]\n",
      "loss: 0.566333  [ 2624/ 3565]\n",
      "loss: 0.585260  [ 3264/ 3565]\n",
      "Test Error: Avg loss: 0.495582 and pr auc: 0.52185731287319 \n",
      "\n",
      "EarlyStopping Counter: 0 out of 3\n",
      "Epoch 3\n",
      "-------------------------------\n",
      "loss: 0.502517  [   64/ 3565]\n",
      "loss: 0.520765  [  704/ 3565]\n",
      "loss: 0.543668  [ 1344/ 3565]\n",
      "loss: 0.554541  [ 1984/ 3565]\n",
      "loss: 0.521868  [ 2624/ 3565]\n",
      "loss: 0.553464  [ 3264/ 3565]\n",
      "Test Error: Avg loss: 0.446019 and pr auc: 0.5226220862329568 \n",
      "\n",
      "EarlyStopping Counter: 0 out of 3\n",
      "Epoch 4\n",
      "-------------------------------\n",
      "loss: 0.439226  [   64/ 3565]\n",
      "loss: 0.471552  [  704/ 3565]\n",
      "loss: 0.507617  [ 1344/ 3565]\n",
      "loss: 0.524717  [ 1984/ 3565]\n",
      "loss: 0.485236  [ 2624/ 3565]\n",
      "loss: 0.531293  [ 3264/ 3565]\n",
      "Test Error: Avg loss: 0.415080 and pr auc: 0.5191090107949073 \n",
      "\n",
      "EarlyStopping Counter: 0 out of 3\n",
      "Epoch 5\n",
      "-------------------------------\n",
      "loss: 0.386550  [   64/ 3565]\n",
      "loss: 0.431293  [  704/ 3565]\n",
      "loss: 0.480327  [ 1344/ 3565]\n",
      "loss: 0.504349  [ 1984/ 3565]\n",
      "loss: 0.458351  [ 2624/ 3565]\n",
      "loss: 0.515491  [ 3264/ 3565]\n",
      "Test Error: Avg loss: 0.398540 and pr auc: 0.515045573791676 \n",
      "\n",
      "EarlyStopping Counter: 0 out of 3\n",
      "Epoch 6\n",
      "-------------------------------\n",
      "loss: 0.344339  [   64/ 3565]\n",
      "loss: 0.401088  [  704/ 3565]\n",
      "loss: 0.460495  [ 1344/ 3565]\n",
      "loss: 0.491774  [ 1984/ 3565]\n",
      "loss: 0.440649  [ 2624/ 3565]\n",
      "loss: 0.507079  [ 3264/ 3565]\n",
      "Test Error: Avg loss: 0.391886 and pr auc: 0.5152587903266712 \n",
      "\n",
      "EarlyStopping Counter: 0 out of 3\n",
      "Epoch 7\n",
      "-------------------------------\n",
      "loss: 0.311303  [   64/ 3565]\n",
      "loss: 0.379308  [  704/ 3565]\n",
      "loss: 0.448312  [ 1344/ 3565]\n",
      "loss: 0.484747  [ 1984/ 3565]\n",
      "loss: 0.427130  [ 2624/ 3565]\n",
      "loss: 0.500956  [ 3264/ 3565]\n",
      "Test Error: Avg loss: 0.391316 and pr auc: 0.518937955906191 \n",
      "\n",
      "EarlyStopping Counter: 0 out of 3\n",
      "Epoch 8\n",
      "-------------------------------\n",
      "loss: 0.286854  [   64/ 3565]\n",
      "loss: 0.362202  [  704/ 3565]\n",
      "loss: 0.440838  [ 1344/ 3565]\n",
      "loss: 0.480408  [ 1984/ 3565]\n",
      "loss: 0.418834  [ 2624/ 3565]\n",
      "loss: 0.500417  [ 3264/ 3565]\n",
      "Test Error: Avg loss: 0.394102 and pr auc: 0.5196094234605307 \n",
      "\n",
      "EarlyStopping Counter: 1 out of 3\n",
      "Epoch 9\n",
      "-------------------------------\n",
      "loss: 0.266409  [   64/ 3565]\n",
      "loss: 0.350356  [  704/ 3565]\n",
      "loss: 0.435623  [ 1344/ 3565]\n",
      "loss: 0.478822  [ 1984/ 3565]\n",
      "loss: 0.413562  [ 2624/ 3565]\n",
      "loss: 0.502021  [ 3264/ 3565]\n",
      "Test Error: Avg loss: 0.398452 and pr auc: 0.5195801552810676 \n",
      "\n",
      "EarlyStopping Counter: 2 out of 3\n",
      "Epoch 10\n",
      "-------------------------------\n",
      "loss: 0.251848  [   64/ 3565]\n",
      "loss: 0.341732  [  704/ 3565]\n",
      "loss: 0.432459  [ 1344/ 3565]\n",
      "loss: 0.478835  [ 1984/ 3565]\n",
      "loss: 0.409129  [ 2624/ 3565]\n",
      "loss: 0.501611  [ 3264/ 3565]\n",
      "Test Error: Avg loss: 0.403312 and pr auc: 0.5184245648397628 \n",
      "\n",
      "EarlyStopping Counter: 3 out of 3\n",
      "Early stopping\n",
      "Done!\n"
     ]
    }
   ],
   "source": [
    "epochs = 15\n",
    "early_stopping = EarlyStopping(patience=3, verbose=True)\n",
    "\n",
    "for t in range(epochs):\n",
    "    print(f\"Epoch {t+1}\\n-------------------------------\")\n",
    "    train(train_loader, model, loss_fn, optimizer)\n",
    "    val_loss, _, _ = eval(val_loader, model, loss_fn)\n",
    "    \n",
    "    # Check for early stopping\n",
    "    early_stopping(val_loss, model)\n",
    "    \n",
    "    if early_stopping.early_stop:\n",
    "        print(\"Early stopping\")\n",
    "        break\n",
    "\n",
    "print(\"Done!\")"
   ]
  },
  {
   "cell_type": "code",
   "execution_count": 33,
   "metadata": {},
   "outputs": [
    {
     "name": "stdout",
     "output_type": "stream",
     "text": [
      "Test Error: Avg loss: 0.095430 and pr auc: 0.9794781228110675 \n",
      "\n"
     ]
    }
   ],
   "source": [
    "test_loss, y_true, y_pred = eval(test_loader, model, loss_fn)"
   ]
  },
  {
   "cell_type": "code",
   "execution_count": 34,
   "metadata": {},
   "outputs": [
    {
     "data": {
      "image/png": "[encoded data removed]",
      "text/plain": [
       "<Figure size 800x600 with 1 Axes>"
      ]
     },
     "metadata": {},
     "output_type": "display_data"
    }
   ],
   "source": [
    "# Compute precision and recall\n",
    "precision, recall, _ = precision_recall_curve(y_true, y_pred)\n",
    "average_precision = average_precision_score(y_true, y_pred)\n",
    "\n",
    "# Plot precision-recall curve using Seaborn\n",
    "plt.figure(figsize=(8, 6))\n",
    "sns.lineplot(x=precision, y=recall, label=f'Precision-Recall Curve (AP = {average_precision:.2f})')\n",
    "plt.xlabel('Recall')\n",
    "plt.ylabel('Precision')\n",
    "plt.title('Precision-Recall Curve')\n",
    "plt.legend()\n",
    "plt.show()"
   ]
  },
  {
   "cell_type": "code",
   "execution_count": 35,
   "metadata": {},
   "outputs": [],
   "source": [
    "y_true_pred = pd.DataFrame({'y_true': y_true, 'y_pred': [x[0] for x in y_pred]})"
   ]
  },
  {
   "cell_type": "code",
   "execution_count": 36,
   "metadata": {},
   "outputs": [
    {
     "ename": "NameError",
     "evalue": "name 'X' is not defined",
     "output_type": "error",
     "traceback": [
      "\u001b[0;31m---------------------------------------------------------------------------\u001b[0m",
      "\u001b[0;31mNameError\u001b[0m                                 Traceback (most recent call last)",
      "Cell \u001b[0;32mIn[36], line 1\u001b[0m\n\u001b[0;32m----> 1\u001b[0m X\n",
      "\u001b[0;31mNameError\u001b[0m: name 'X' is not defined"
     ]
    }
   ],
   "source": [
    "X"
   ]
  },
  {
   "cell_type": "code",
   "execution_count": 37,
   "metadata": {},
   "outputs": [
    {
     "data": {
      "image/png": "[encoded data removed]",
      "text/plain": [
       "<Figure size 1200x600 with 2 Axes>"
      ]
     },
     "metadata": {},
     "output_type": "display_data"
    }
   ],
   "source": [
    "# Set up the figure with two subplots\n",
    "fig, axes = plt.subplots(1, 2, figsize=(12, 6), sharey=True)\n",
    "\n",
    "# Plot the histograms side by side using Seaborn\n",
    "sns.histplot(y_true_pred[y_true_pred['y_true'] == 1]['y_pred'], bins=30, ax=axes[0], color='blue', label='Spam')\n",
    "sns.histplot(y_true_pred[y_true_pred['y_true'] == 0]['y_pred'], bins=30, ax=axes[1], color='orange', label='Non Spam')\n",
    "\n",
    "# Add legend\n",
    "axes[0].legend()\n",
    "axes[1].legend()\n",
    "\n",
    "# Show the plot\n",
    "plt.show()"
   ]
  },
  {
   "cell_type": "code",
   "execution_count": null,
   "metadata": {},
   "outputs": [],
   "source": []
  }
 ],
 "metadata": {
  "kernelspec": {
   "display_name": "transformers-implementation-xd7zxmCX-py3.10",
   "language": "python",
   "name": "python3"
  },
  "language_info": {
   "codemirror_mode": {
    "name": "ipython",
    "version": 3
   },
   "file_extension": ".py",
   "mimetype": "text/x-python",
   "name": "python",
   "nbconvert_exporter": "python",
   "pygments_lexer": "ipython3",
   "version": "3.10.9"
  },
  "orig_nbformat": 4
 },
 "nbformat": 4,
 "nbformat_minor": 2
}
