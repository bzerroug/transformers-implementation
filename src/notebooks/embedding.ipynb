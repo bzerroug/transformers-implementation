{
 "cells": [
  {
   "cell_type": "code",
   "execution_count": 5,
   "metadata": {},
   "outputs": [],
   "source": [
    "from tokenize import tokenize\n",
    "from torch import nn\n",
    "import torch\n",
    "import math\n",
    "\n",
    "sentences =[\"Hello my name is Bachir\", \"How are you ?\"]\n",
    "\n",
    "#lut = Embeddings(vocab_size, d_model) # look-up table (lut)\n"
   ]
  },
  {
   "cell_type": "markdown",
   "metadata": {},
   "source": [
    "# Embedding"
   ]
  },
  {
   "cell_type": "code",
   "execution_count": 6,
   "metadata": {},
   "outputs": [
    {
     "data": {
      "text/plain": [
       "[['Hello', 'my', 'name', 'is', 'Bachir'], ['How', 'are', 'you', '?']]"
      ]
     },
     "execution_count": 6,
     "metadata": {},
     "output_type": "execute_result"
    }
   ],
   "source": [
    "tokenized_sequences = [seq.split(' ') for seq in sentences]\n",
    "tokenized_sequences"
   ]
  },
  {
   "attachments": {},
   "cell_type": "markdown",
   "metadata": {},
   "source": [
    "The output of nn.Embedding in PyTorch is calculated through a simple lookup operation. The layer acts as a table or a dictionary, mapping integer indices to dense vectors.  \n",
    "During training, these embedding vectors are adjusted through backpropagation, and the model learns to represent words in a way that captures meaningful relationships between them."
   ]
  },
  {
   "cell_type": "code",
   "execution_count": 7,
   "metadata": {},
   "outputs": [],
   "source": [
    "class Embedding(nn.Module):\n",
    "    def __init__(self, vocab_size, dimension):\n",
    "        super(Embedding, self).__init__()\n",
    "        self.word_embedding = nn.Embedding(vocab_size, dimension)\n",
    "        \n",
    "    def forward(self, x):\n",
    "        return self.word_embedding(x)"
   ]
  },
  {
   "attachments": {},
   "cell_type": "markdown",
   "metadata": {},
   "source": [
    "## Manual preprocess"
   ]
  },
  {
   "cell_type": "code",
   "execution_count": 10,
   "metadata": {},
   "outputs": [],
   "source": [
    "import nltk\n",
    "from collections import Counter\n",
    "#nltk.download('punkt')\n",
    "\n",
    "from nltk.tokenize import word_tokenize\n",
    "# Tokenize text\n",
    "text_list = [\"Hello, how are you doing today again?\", \"I have to go to work\", \" the cat is so cute\"]\n",
    "tokenized_test_list = [word_tokenize(text.lower()) for text in text_list]\n",
    "all_tokens = [word for sentence_tokens in tokenized_test_list for word in sentence_tokens]\n",
    "\n",
    "# Create a vocabulary\n",
    "# Create a vocabulary mapping each unique word to a numerical index. \n",
    "# You can use Python's collections.Counter to count word frequencies and assign indices based on the frequency.\n",
    "word_counts = Counter(all_tokens)\n",
    "#sorted_words = sorted(word_counts, key=word_counts.get, reverse=True)\n",
    "word_to_idx = {word: idx for idx, word in enumerate(word_counts.keys())}\n",
    "\n",
    "# Convert Text to Indices:\n",
    "# Map each word in your text to its corresponding index in the vocabulary.\n",
    "text_indices = [[word_to_idx[word] for word in tokens] for tokens in tokenized_test_list]\n",
    "\n",
    "#Use embedding\n",
    "vocab_size = len(word_to_idx)\n",
    "embedding_dim = 50\n",
    "embedding_layer = Embedding(vocab_size, embedding_dim)\n",
    "\n",
    "# apply to text_indices\n",
    "embeddings = [embedding_layer(torch.tensor(x)) for x in text_indices]\n"
   ]
  },
  {
   "cell_type": "code",
   "execution_count": 11,
   "metadata": {},
   "outputs": [
    {
     "name": "stdout",
     "output_type": "stream",
     "text": [
      "torch.Size([9, 50])\n",
      "torch.Size([6, 50])\n",
      "torch.Size([5, 50])\n"
     ]
    }
   ],
   "source": [
    "for embed in embeddings:\n",
    "    print(embed.size())"
   ]
  },
  {
   "cell_type": "markdown",
   "metadata": {},
   "source": [
    "## Automated preprocess"
   ]
  },
  {
   "cell_type": "code",
   "execution_count": 26,
   "metadata": {},
   "outputs": [],
   "source": [
    "from transformers import AutoTokenizer\n",
    "\n",
    "tokenizer = AutoTokenizer.from_pretrained(\"bert-base-cased\")"
   ]
  },
  {
   "cell_type": "code",
   "execution_count": 27,
   "metadata": {},
   "outputs": [
    {
     "data": {
      "text/plain": [
       "torch.Size([6, 21])"
      ]
     },
     "execution_count": 27,
     "metadata": {},
     "output_type": "execute_result"
    }
   ],
   "source": [
    "batch_sentences = [\n",
    "    \"But what about second breakfast?\",\n",
    "    \"Don't think he knows about second breakfast, Pip.\",\n",
    "    \"What about elevensies?\",\n",
    "    \"In a cold and gray Chicago morning, a poor little baby child is born in the ghetto\",\n",
    "    \"I'll be there for you and the rain starts to pour\",\n",
    "    \"I like big butts and I cannot lie\",\n",
    "]\n",
    "\n",
    "encoded_input = tokenizer(batch_sentences, padding=True, return_tensors=\"pt\")\n",
    "\n",
    "\n",
    "encoded_input.input_ids.size()\n"
   ]
  },
  {
   "cell_type": "code",
   "execution_count": 30,
   "metadata": {},
   "outputs": [
    {
     "data": {
      "text/plain": [
       "28996"
      ]
     },
     "execution_count": 30,
     "metadata": {},
     "output_type": "execute_result"
    }
   ],
   "source": [
    "tokenizer.vocab_size"
   ]
  },
  {
   "cell_type": "code",
   "execution_count": 28,
   "metadata": {},
   "outputs": [
    {
     "data": {
      "text/plain": [
       "'[CLS] In a cold and gray Chicago morning, a poor little baby child is born in the ghetto [SEP]'"
      ]
     },
     "execution_count": 28,
     "metadata": {},
     "output_type": "execute_result"
    }
   ],
   "source": [
    "tokenizer.decode(encoded_input[\"input_ids\"][3])"
   ]
  },
  {
   "cell_type": "markdown",
   "metadata": {},
   "source": [
    "# Positional embedding"
   ]
  },
  {
   "attachments": {},
   "cell_type": "markdown",
   "metadata": {},
   "source": [
    "### register_buffer\n",
    "In PyTorch, register_buffer is a method used in the definition of a custom neural network module (subclass of nn.Module). This method is used to register a tensor as a persistent buffer, meaning that the tensor will be part of the module's state, but it won't be considered as a model parameter.  \n",
    "\n",
    "- Buffers registered with register_buffer are not treated as parameters that require optimization through gradient descent. They are typically used for constants or auxiliary variables that don't need gradients.\n",
    "\n",
    "- If you assign a tensor directly to self, it won't be automatically excluded from gradient computation. You would need to manage its gradient properties manually if you don't want it to be optimized."
   ]
  },
  {
   "attachments": {},
   "cell_type": "markdown",
   "metadata": {},
   "source": [
    "## Positional encoding intuition\n",
    "\n",
    "Positional encoding is introduced to provide the model with information about the order or position of words in a sequence, as Transformers don't have an inherent sense of order.\n",
    "\n",
    "The positional encoding is added to the input embeddings before feeding them into the Transformer model. It allows the model to differentiate between the positions of tokens in the sequence."
   ]
  },
  {
   "cell_type": "code",
   "execution_count": 1,
   "metadata": {},
   "outputs": [
    {
     "data": {
      "image/png": "[encoded data removed]",
      "text/plain": [
       "<Figure size 1000x800 with 2 Axes>"
      ]
     },
     "metadata": {},
     "output_type": "display_data"
    }
   ],
   "source": [
    "import matplotlib.pyplot as plt\n",
    "import numpy as np\n",
    "\n",
    "def positional_encoding(pos, i, d_model):\n",
    "    angle_rates = 1 / np.power(10000, (2 * (i // 2)) / np.float32(d_model))\n",
    "    return pos * angle_rates\n",
    "\n",
    "def get_positional_encoding(position, d_model):\n",
    "    angle_rads = positional_encoding(np.arange(position)[:, np.newaxis], np.arange(d_model)[np.newaxis, :], d_model)\n",
    "\n",
    "    # Apply sin to even indices in the array; 2i\n",
    "    angle_rads[:, 0::2] = np.sin(angle_rads[:, 0::2])\n",
    "\n",
    "    # Apply cos to odd indices in the array; 2i+1\n",
    "    angle_rads[:, 1::2] = np.cos(angle_rads[:, 1::2])\n",
    "\n",
    "    return angle_rads\n",
    "\n",
    "position = 512\n",
    "d_model = 8\n",
    "\n",
    "pos_enc = get_positional_encoding(position, d_model)\n",
    "\n",
    "plt.figure(figsize=(10, 8))\n",
    "plt.pcolormesh(pos_enc, cmap='viridis')\n",
    "plt.xlabel('Embedding Dimensions')\n",
    "plt.ylabel('Position')\n",
    "plt.colorbar(label='Value')\n",
    "plt.title('Positional Encoding Matrix')\n",
    "plt.show()"
   ]
  },
  {
   "attachments": {},
   "cell_type": "markdown",
   "metadata": {},
   "source": [
    "This is a heatmap where each row corresponds to the positional encoding for a specific position in the sequence, and each column corresponds to a dimension in the model's hidden representation.  \n",
    "\n",
    "Interpretation\n",
    "\n",
    "- Each row in the heatmap represents the positional encoding vector for a specific position in the sequence.\n",
    "- Different positions have different encoding patterns, allowing the model to distinguish between them.\n",
    "- Each dimension in the model's hidden representation contributes to capturing different aspects of the position information.\n",
    "\n",
    "This positional encoding matrix is added to the input embeddings, providing the Transformer model with information about the position of tokens in the sequence. It helps the model capture sequential relationships in the absence of explicit order information."
   ]
  },
  {
   "cell_type": "code",
   "execution_count": null,
   "metadata": {},
   "outputs": [],
   "source": [
    "class PositionalEmbedding(nn.Module):\n",
    "    def __init__(self, dimension, max_seq_length=2000):\n",
    "        super(PositionalEmbedding, self).__init__()\n",
    "\n",
    "        positional_encoding = torch.zeros(max_seq_length, dimension)    \n",
    "        for pos in range(max_seq_length):\n",
    "            for i in range(dimension):\n",
    "                if i%2 == 0:\n",
    "                    pe = math.sin(pos / 1000**(2*i/dimension))\n",
    "                else:\n",
    "                    pe = math.cos(pos / 1000**(2*i/dimension))\n",
    "                positional_encoding[pos, i] = pe\n",
    "\n",
    "        self.register_buffer('positional_encoding', positional_encoding)\n",
    "        \n",
    "    def forward(self, x):\n",
    "        return x + self.positional_encoding[:x.size(1), :]"
   ]
  }
 ],
 "metadata": {
  "kernelspec": {
   "display_name": "transformers-implementation-env",
   "language": "python",
   "name": "python3"
  },
  "language_info": {
   "codemirror_mode": {
    "name": "ipython",
    "version": 3
   },
   "file_extension": ".py",
   "mimetype": "text/x-python",
   "name": "python",
   "nbconvert_exporter": "python",
   "pygments_lexer": "ipython3",
   "version": "3.10.9"
  }
 },
 "nbformat": 4,
 "nbformat_minor": 2
}
