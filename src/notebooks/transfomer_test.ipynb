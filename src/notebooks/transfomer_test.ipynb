{
 "cells": [
  {
   "cell_type": "code",
   "execution_count": 1,
   "metadata": {},
   "outputs": [
    {
     "name": "stderr",
     "output_type": "stream",
     "text": [
      "/Users/bachirzerroug/Library/Caches/pypoetry/virtualenvs/transformers-implementation-xd7zxmCX-py3.10/lib/python3.10/site-packages/tqdm/auto.py:21: TqdmWarning: IProgress not found. Please update jupyter and ipywidgets. See https://ipywidgets.readthedocs.io/en/stable/user_install.html\n",
      "  from .autonotebook import tqdm as notebook_tqdm\n"
     ]
    }
   ],
   "source": [
    "import torch\n",
    "import matplotlib.pyplot as plt\n",
    "import seaborn as sns\n",
    "import pandas as pd\n",
    "import numpy as np\n",
    "import math\n",
    "from transformers import AutoTokenizer\n",
    "from torch.utils.data import Dataset, DataLoader\n",
    "from torch import nn\n",
    "from sklearn.model_selection import train_test_split\n",
    "from sklearn.metrics import average_precision_score, precision_recall_curve"
   ]
  },
  {
   "cell_type": "markdown",
   "metadata": {},
   "source": [
    "## Multi Head Attention"
   ]
  },
  {
   "cell_type": "code",
   "execution_count": 2,
   "metadata": {},
   "outputs": [],
   "source": [
    "class OneHeadSelfAttentionQKV(nn.Module):\n",
    "    def __init__(self, k, low_dim):\n",
    "        super().__init__()\n",
    "        # Check if input is divisible by number of heads\n",
    "        self.k = k    \n",
    "        self.low_dim = low_dim \n",
    "        # 1. Define linear transformations to reduce dimensionnalité of input\n",
    "        # biais = False because we want only weights\n",
    "        self.to_reduce_dim = nn.Linear(k, low_dim, bias=False)\n",
    "        # 2. Define linear transformations to key, queries and values\n",
    "        # biais = False because we want only weights\n",
    "        self.to_queries = nn.Linear(low_dim, low_dim, bias=False)\n",
    "        self.to_keys    = nn.Linear(low_dim, low_dim, bias=False) \n",
    "        self.to_values  = nn.Linear(low_dim, low_dim, bias=False)\n",
    "\n",
    "    def forward(self, Q, K, V, mask):\n",
    "        # 3. Reduce dimensionnalité of input\n",
    "        low_dim_Q = self.to_reduce_dim(Q)\n",
    "        low_dim_K = self.to_reduce_dim(K)\n",
    "        low_dim_V = self.to_reduce_dim(V)\n",
    "\n",
    "        \n",
    "        # 4. Apply the linear transformation associated to every input to obtain the key, query and value\n",
    "        query = self.to_queries(low_dim_Q) \n",
    "        key = self.to_keys(low_dim_K)\n",
    "        value = self.to_values(low_dim_V)\n",
    "\n",
    "        # 5. Compute the raw weights w′ij=𝐪iT𝐤j and normalize them\n",
    "        weights_raw = torch.bmm(query, key.transpose(1, 2))\n",
    "        \n",
    "        # 5.a apply mask\n",
    "        if mask is not None:\n",
    "            weights_raw = weights_raw.masked_fill_(mask.logical_not(), float(\"-1e20\"))\n",
    "\n",
    "        weights_raw_normalized = torch.div(weights_raw, torch.sqrt(torch.tensor(self.low_dim)))\n",
    "\n",
    "        # 6. We apply the Softmax function to the similarity dimension (batch dim x input dim x sim dim)\n",
    "        weights = nn.Softmax(dim=2)(weights_raw_normalized)\n",
    "\n",
    "        # 7. Multiply weights of self attention to the values\n",
    "        return torch.bmm(weights, value)\n",
    "    \n",
    "\n",
    "class MultiHeadSelfAttentionQKV(nn.Module):\n",
    "    # 8.Define a head number that is divisible from the input \n",
    "    def __init__(self, k, heads=4):\n",
    "        super().__init__()\n",
    "        # Check if input is divisible by number of heads\n",
    "        assert k % heads == 0\n",
    "\n",
    "        self.k = k\n",
    "        self.heads = heads  \n",
    "\n",
    "        # 9. Instantiate OneHeadSelfAttention multiple times to have MultiHeadSelfAttention\n",
    "        self.list_heads = []\n",
    "        for head in range(self.heads):\n",
    "            self.list_heads.append(OneHeadSelfAttentionQKV(k, k//heads))\n",
    "\n",
    "        # This will be applied after the multi-head self-attention operation.\n",
    "        self.unifyheads = nn.Linear(k, k)\n",
    "    \n",
    "    def forward(self, Q, K, V, mask=None):\n",
    "        # 10. Get all heads elements \n",
    "        list_to_concat = []\n",
    "        for one_head in self.list_heads:\n",
    "            list_to_concat.append((one_head(Q, K, V, mask),))\n",
    "\n",
    "        # 11. Concatenate all the heads\n",
    "        multi_heads = sum(list_to_concat, ())        \n",
    "        concatenated = torch.cat(multi_heads, dim=2)\n",
    "\n",
    "        # 12. Linear transformation\n",
    "        return self.unifyheads(concatenated)\n"
   ]
  },
  {
   "cell_type": "code",
   "execution_count": 3,
   "metadata": {},
   "outputs": [
    {
     "data": {
      "text/plain": [
       "torch.Size([12, 100, 256])"
      ]
     },
     "execution_count": 3,
     "metadata": {},
     "output_type": "execute_result"
    }
   ],
   "source": [
    "X = torch.rand(12, 100, 256)\n",
    "mask  = torch.tril(torch.ones((100, 100)), diagonal=1).bool()\n",
    "M = MultiHeadSelfAttentionQKV(256, 4)\n",
    "M(X, X, X, mask=mask).size()"
   ]
  },
  {
   "cell_type": "markdown",
   "metadata": {},
   "source": [
    "## Embeddings"
   ]
  },
  {
   "cell_type": "code",
   "execution_count": 4,
   "metadata": {},
   "outputs": [],
   "source": [
    "class Embedding(nn.Module):\n",
    "    def __init__(self, vocab_size, dimension):\n",
    "        super(Embedding, self).__init__()\n",
    "        self.word_embedding = nn.Embedding(vocab_size, dimension)\n",
    "        \n",
    "    def forward(self, x):\n",
    "        return self.word_embedding(x)"
   ]
  },
  {
   "cell_type": "code",
   "execution_count": 5,
   "metadata": {},
   "outputs": [],
   "source": [
    "class PositionalEmbedding(nn.Module):\n",
    "    def __init__(self, dimension, max_seq_length=2000):\n",
    "        super(PositionalEmbedding, self).__init__()\n",
    "\n",
    "        positional_encoding = torch.zeros(max_seq_length, dimension)    \n",
    "        for pos in range(max_seq_length):\n",
    "            for i in range(dimension):\n",
    "                if i%2 == 0:\n",
    "                    pe = math.sin(pos / 1000**(2*i/dimension))\n",
    "                else:\n",
    "                    pe = math.cos(pos / 1000**(2*i/dimension))\n",
    "                positional_encoding[pos, i] = pe\n",
    "\n",
    "        self.register_buffer('positional_encoding', positional_encoding)\n",
    "        \n",
    "    def forward(self, x):\n",
    "        return x + self.positional_encoding[:x.size(1), :]"
   ]
  },
  {
   "cell_type": "markdown",
   "metadata": {},
   "source": [
    "## Feed Forward"
   ]
  },
  {
   "cell_type": "code",
   "execution_count": 6,
   "metadata": {},
   "outputs": [],
   "source": [
    "class FeedForward(nn.Module):\n",
    "    def __init__(self, embed_dim, factor=2):\n",
    "        super(FeedForward, self).__init__()\n",
    "        self.feed_forward = nn.Sequential(\n",
    "            nn.Linear(embed_dim, factor*embed_dim),\n",
    "            nn.ReLU(),\n",
    "            nn.Linear(factor*embed_dim, embed_dim)\n",
    "        )  \n",
    "    \n",
    "    def forward(self, x):\n",
    "        return self.feed_forward(x)"
   ]
  },
  {
   "cell_type": "markdown",
   "metadata": {},
   "source": [
    "<img src=\"../images/encoder.png\" alt=\"drawing\" width=\"200\"/>"
   ]
  },
  {
   "cell_type": "code",
   "execution_count": 7,
   "metadata": {},
   "outputs": [],
   "source": [
    "class TransformerEncodingBloc(nn.Module):\n",
    "    def __init__(self, embedding_dim, num_heads, factor):\n",
    "        super(TransformerEncodingBloc, self).__init__()\n",
    "        # Mutli Head Attention with its notmalization and its dropout\n",
    "        self.attention = MultiHeadSelfAttentionQKV(embedding_dim, num_heads)\n",
    "        self.normalization_mha = nn.LayerNorm(embedding_dim)\n",
    "        self.dropout_mha = nn.Dropout(0.2)\n",
    "\n",
    "        # Feed Forward with its notmalization and its dropout\n",
    "        self.feed_forward = FeedForward(embedding_dim, factor)\n",
    "        self.normalization_ff = nn.LayerNorm(embedding_dim)\n",
    "        self.dropout_ff = nn.Dropout(0.2)\n",
    "        \n",
    "\n",
    "    def forward(self, query, key, value):\n",
    "        # Multi Head Attention\n",
    "        mha = self.attention(query, key, value)\n",
    "        mha_residuals = mha + value\n",
    "        mha_residuals_norm = self.normalization_mha(mha_residuals)\n",
    "        mha_residuals_norm_dropout = self.dropout_mha(mha_residuals_norm)\n",
    "\n",
    "        # Feed Forward\n",
    "        ff = self.feed_forward(mha_residuals_norm_dropout)\n",
    "        ff_residuals = ff + mha_residuals_norm_dropout\n",
    "        ff_residuals_norm = self.normalization_ff(ff_residuals)\n",
    "        ff_residuals_norm_dropout = self.dropout_ff(ff_residuals_norm)\n",
    "\n",
    "        return ff_residuals_norm_dropout\n"
   ]
  },
  {
   "cell_type": "code",
   "execution_count": 8,
   "metadata": {},
   "outputs": [],
   "source": [
    "class Encoder(nn.Module):\n",
    "    def __init__(self, vocab_size, embedding_dim, num_heads, num_layers, factor):\n",
    "        super(Encoder, self).__init__()\n",
    "        self.embedding = Embedding(vocab_size, embedding_dim)\n",
    "        self.positional_embedding = PositionalEmbedding(embedding_dim)\n",
    "        self.transformer_layers = nn.ModuleList([TransformerEncodingBloc(embedding_dim, num_heads, factor) for i in range(num_layers)])\n",
    "\n",
    "    def forward(self, X):\n",
    "        encoded = self.embedding(X)\n",
    "        output = self.positional_embedding(encoded)\n",
    "        for transformer_layer in self.transformer_layers:\n",
    "            output = transformer_layer(output, output, output)\n",
    "        \n",
    "        return output\n",
    "        "
   ]
  },
  {
   "cell_type": "code",
   "execution_count": 9,
   "metadata": {},
   "outputs": [],
   "source": [
    "X = torch.randint(low=0, high=100, size=(10, 100))\n",
    "\n",
    "encoder = Encoder(vocab_size=5000, \n",
    "                  embedding_dim=256, \n",
    "                  num_heads=4,\n",
    "                  #dropout=0.2,\n",
    "                  num_layers=5,\n",
    "                  factor=2\n",
    "                  )\n",
    "\n",
    "Y = encoder(X)"
   ]
  },
  {
   "cell_type": "code",
   "execution_count": 10,
   "metadata": {},
   "outputs": [
    {
     "data": {
      "text/plain": [
       "torch.Size([6, 21])"
      ]
     },
     "execution_count": 10,
     "metadata": {},
     "output_type": "execute_result"
    }
   ],
   "source": [
    "tokenizer = AutoTokenizer.from_pretrained(\"bert-base-cased\")\n",
    "\n",
    "batch_sentences = [\n",
    "    \"But what about second breakfast?\",\n",
    "    \"Don't think he knows about second breakfast, Pip.\",\n",
    "    \"What about elevensies?\",\n",
    "    \"In a cold and gray Chicago morning, a poor little baby child is born in the ghetto\",\n",
    "    \"I'll be there for you and the rain starts to pour\",\n",
    "    \"I like big butts and I cannot lie\",\n",
    "]\n",
    "\n",
    "encoded_input = tokenizer(batch_sentences, padding=True, return_tensors=\"pt\")\n",
    "\n",
    "\n",
    "encoded_input.input_ids.size()"
   ]
  },
  {
   "cell_type": "code",
   "execution_count": 11,
   "metadata": {},
   "outputs": [
    {
     "data": {
      "text/plain": [
       "tensor([[[ 6.7944e-01,  2.8338e-01, -3.7313e-01,  ...,  0.0000e+00,\n",
       "          -1.0727e+00, -3.1629e-01],\n",
       "         [-2.3392e+00,  5.0566e-01, -1.3224e-01,  ...,  1.1924e-02,\n",
       "          -0.0000e+00,  6.5399e-02],\n",
       "         [ 1.4677e+00, -4.3367e+00, -0.0000e+00,  ..., -8.7870e-01,\n",
       "          -5.6033e+00, -3.4865e-01],\n",
       "         ...,\n",
       "         [-6.3084e-02,  4.8442e-01, -3.2037e-01,  ...,  4.1424e-01,\n",
       "          -2.0410e-01, -0.0000e+00],\n",
       "         [ 5.8662e-01,  1.2720e-01, -0.0000e+00,  ...,  2.9111e-01,\n",
       "           2.3979e-01, -2.2068e-01],\n",
       "         [-6.1205e-02, -2.1769e-01, -0.0000e+00,  ...,  1.4815e-01,\n",
       "          -5.1326e-02, -1.4213e-02]],\n",
       "\n",
       "        [[-0.0000e+00,  3.2570e-01,  0.0000e+00,  ...,  8.2373e-02,\n",
       "          -4.1571e-02,  2.7427e-01],\n",
       "         [-1.7784e+00,  1.1714e+00,  7.8142e-01,  ..., -4.0248e-01,\n",
       "          -2.3180e-01,  8.7191e-03],\n",
       "         [-3.0134e-01,  6.6591e-02,  1.7326e+00,  ...,  3.5466e-01,\n",
       "          -0.0000e+00, -7.6266e-01],\n",
       "         ...,\n",
       "         [ 3.7141e-01, -0.0000e+00, -0.0000e+00,  ..., -9.7708e-01,\n",
       "           7.5023e-02, -2.1047e-01],\n",
       "         [ 6.2847e-01,  8.4333e-02, -0.0000e+00,  ...,  1.7118e-01,\n",
       "          -2.2377e-01, -5.0678e-02],\n",
       "         [ 0.0000e+00, -4.0028e-02,  6.0311e-01,  ...,  0.0000e+00,\n",
       "          -1.0417e-01,  6.2403e-01]],\n",
       "\n",
       "        [[-3.0877e-01, -2.9449e-01,  5.5141e-01,  ...,  0.0000e+00,\n",
       "          -0.0000e+00, -1.7695e-01],\n",
       "         [ 3.7432e-01,  4.1009e-01,  2.7156e-01,  ..., -5.7016e-01,\n",
       "          -8.0062e-01,  1.1711e+00],\n",
       "         [ 0.0000e+00, -1.2122e-01,  1.6937e-01,  ..., -2.0185e-01,\n",
       "          -6.9851e-01, -1.3628e-01],\n",
       "         ...,\n",
       "         [ 2.5496e-01, -1.4974e+00, -3.4361e-01,  ..., -3.0362e-02,\n",
       "           0.0000e+00,  5.0832e-01],\n",
       "         [-3.0078e-01,  2.4243e-01, -7.0987e-01,  ..., -8.3288e-02,\n",
       "          -0.0000e+00, -0.0000e+00],\n",
       "         [-0.0000e+00,  8.6365e-02,  0.0000e+00,  ..., -7.2704e-01,\n",
       "          -0.0000e+00,  2.9494e-01]],\n",
       "\n",
       "        [[ 0.0000e+00,  3.3153e-01,  6.1756e-02,  ..., -9.9741e-01,\n",
       "          -5.6595e-01, -3.0146e-01],\n",
       "         [ 6.9801e-01,  3.7784e-01,  6.4372e-01,  ...,  0.0000e+00,\n",
       "          -0.0000e+00,  2.6387e+00],\n",
       "         [-1.5227e+00,  0.0000e+00, -2.3171e+00,  ..., -4.4877e-02,\n",
       "          -5.8759e-01, -1.6657e-01],\n",
       "         ...,\n",
       "         [ 1.7192e-01,  3.1290e-01,  2.9604e-01,  ...,  5.7890e-01,\n",
       "           1.2021e+00, -2.3389e-02],\n",
       "         [ 4.6242e-02,  1.6565e-03, -3.0297e-01,  ...,  0.0000e+00,\n",
       "          -0.0000e+00, -7.2254e-01],\n",
       "         [-1.7352e-01,  2.4592e-02,  1.5947e-01,  ..., -7.0896e-01,\n",
       "          -4.4661e-01, -2.3423e-02]],\n",
       "\n",
       "        [[ 5.3049e-01,  8.4853e-01, -5.1844e+00,  ...,  2.5670e-01,\n",
       "          -0.0000e+00,  2.7982e-01],\n",
       "         [ 1.8408e+00, -0.0000e+00, -8.3434e-02,  ..., -0.0000e+00,\n",
       "           3.6781e-01,  1.3448e-01],\n",
       "         [-3.7605e-01, -2.8666e-01,  1.2767e-01,  ..., -1.9511e+00,\n",
       "          -8.7717e-02, -1.3174e-01],\n",
       "         ...,\n",
       "         [ 3.5591e-01,  0.0000e+00, -3.3985e-01,  ...,  2.1311e-01,\n",
       "           5.8671e+00, -1.8279e+00],\n",
       "         [-4.1769e-01,  1.5400e+00,  4.4923e-03,  ...,  6.0757e-01,\n",
       "          -1.5616e-02, -6.3327e-01],\n",
       "         [-2.5248e-01, -6.3811e-02, -3.6825e-01,  ..., -1.1800e+00,\n",
       "          -2.8743e-01, -5.2808e-01]],\n",
       "\n",
       "        [[-0.0000e+00,  6.2652e-02,  7.5714e-02,  ...,  0.0000e+00,\n",
       "          -0.0000e+00,  0.0000e+00],\n",
       "         [ 7.5931e-01,  0.0000e+00, -1.4512e-01,  ..., -3.0975e-01,\n",
       "          -5.7823e-01, -0.0000e+00],\n",
       "         [ 6.4719e+00,  0.0000e+00, -0.0000e+00,  ..., -4.8221e-02,\n",
       "          -0.0000e+00,  0.0000e+00],\n",
       "         ...,\n",
       "         [ 0.0000e+00, -7.6488e-01,  0.0000e+00,  ..., -9.9685e-01,\n",
       "           3.0855e-01,  3.4217e-01],\n",
       "         [ 1.5000e+00, -7.5515e-01,  1.7347e+00,  ..., -1.0647e-01,\n",
       "           3.6495e-01,  0.0000e+00],\n",
       "         [-1.0090e-01,  8.2171e-02,  0.0000e+00,  ...,  6.9750e-02,\n",
       "           6.5023e-01, -0.0000e+00]]], grad_fn=<MulBackward0>)"
      ]
     },
     "execution_count": 11,
     "metadata": {},
     "output_type": "execute_result"
    }
   ],
   "source": [
    "encoder = Encoder(vocab_size=tokenizer.vocab_size, \n",
    "                  embedding_dim=256, \n",
    "                  num_heads=4,\n",
    "                  num_layers=5,\n",
    "                  factor=2\n",
    "                  )\n",
    "\n",
    "encoder(encoded_input.input_ids)"
   ]
  },
  {
   "cell_type": "markdown",
   "metadata": {},
   "source": [
    "<img src=\"../images/decoder.png\" alt=\"drawing\" width=\"200\"/>"
   ]
  },
  {
   "cell_type": "code",
   "execution_count": 12,
   "metadata": {},
   "outputs": [],
   "source": [
    "class TransformerDecodingBloc(nn.Module):\n",
    "    def __init__(self, embedding_dim, num_heads, factor):\n",
    "        super(TransformerDecodingBloc, self).__init__()\n",
    "        # Mutli Head Self Attention with its notmalization and its dropout\n",
    "        self.self_attention = MultiHeadSelfAttentionQKV(embedding_dim, num_heads)\n",
    "        self.normalization_mhsa = nn.LayerNorm(embedding_dim)\n",
    "        self.dropout_mhsa = nn.Dropout(0.2)\n",
    "\n",
    "        # Mutli Head cross Attention with its notmalization and its dropout\n",
    "        self.cross_attention = MultiHeadSelfAttentionQKV(embedding_dim, num_heads)\n",
    "        self.normalization_mhca = nn.LayerNorm(embedding_dim)\n",
    "        self.dropout_mhca = nn.Dropout(0.2)\n",
    "\n",
    "        # Feed Forward with its notmalization and its dropout\n",
    "        self.feed_forward = FeedForward(embedding_dim, factor)\n",
    "        self.normalization_ff = nn.LayerNorm(embedding_dim)\n",
    "        self.dropout_ff = nn.Dropout(0.2)\n",
    "        \n",
    "\n",
    "    def forward(self, x, encoder, mask):\n",
    "        # Mutli Head Self Attention\n",
    "        mhsa = self.self_attention(x, x, x, mask)\n",
    "        mhsa_residuals = mhsa + x\n",
    "        mhsa_residuals_norm = self.normalization_mhsa(mhsa_residuals)\n",
    "        mhsa_residuals_norm_dropout = self.dropout_mhsa(mhsa_residuals_norm)\n",
    "\n",
    "        # Mutli Head Cross Attention\n",
    "        query = mhsa_residuals_norm_dropout\n",
    "        mhca = self.cross_attention(query, encoder, encoder) # Query belongs to self attention and Key and Value from encoder\n",
    "        mhca_residuals = mhca + query\n",
    "        mhca_residuals_norm = self.normalization_mhca(mhca_residuals)\n",
    "        mhca_residuals_norm_dropout = self.dropout_mhca(mhca_residuals_norm)\n",
    "\n",
    "         # Feed Forward with its notmalization and its dropout\n",
    "        ff = self.feed_forward(mhca_residuals_norm_dropout)\n",
    "        ff_residuals = ff + mhca_residuals_norm_dropout\n",
    "        ff_residuals_norm = self.normalization_ff(ff_residuals)\n",
    "        ff_residuals_norm_dropout = self.dropout_ff(ff_residuals_norm)\n",
    "\n",
    "        return ff_residuals_norm_dropout\n"
   ]
  },
  {
   "cell_type": "code",
   "execution_count": 13,
   "metadata": {},
   "outputs": [],
   "source": [
    "class Decoder(nn.Module):\n",
    "    def __init__(self, vocab_size, embedding_dim, num_heads, num_layers, factor=1):\n",
    "        super(Decoder, self).__init__()\n",
    "        self.embedding = Embedding(vocab_size, embedding_dim)\n",
    "        self.positional_embedding = PositionalEmbedding(embedding_dim)\n",
    "        self.transformer_layers = nn.ModuleList([TransformerDecodingBloc(embedding_dim, num_heads, factor) for i in range(num_layers)])\n",
    "        self.linear_out = nn.Linear(embedding_dim, vocab_size)\n",
    "        self.dropout = nn.Dropout(0.2)\n",
    "\n",
    "\n",
    "    def forward(self, x, encoder_out, mask=None):\n",
    "        encoded = self.embedding(x)\n",
    "        output = self.positional_embedding(encoded)\n",
    "        output = self.dropout(output)\n",
    "        for transformer_layer in self.transformer_layers:\n",
    "            output = transformer_layer(output, encoder_out, mask)\n",
    "            \n",
    "        output = self.linear_out(output)\n",
    "        \n",
    "        return nn.Softmax(dim=2)(output)\n",
    "        "
   ]
  },
  {
   "cell_type": "code",
   "execution_count": 14,
   "metadata": {},
   "outputs": [],
   "source": [
    "class Transformer(nn.Module):\n",
    "    def __init__(self, input_vocab_size, output_vocab_size, embedding_dim, num_heads, num_layers, factor=2):\n",
    "        super(Transformer, self).__init__()\n",
    "\n",
    "        self.encoder = Encoder(input_vocab_size, embedding_dim, num_heads, num_layers, factor)\n",
    "        self.decoder = Decoder(output_vocab_size, embedding_dim, num_heads, num_layers, factor)\n",
    "\n",
    "    def get_mask_output(self, output):\n",
    "        _, output_len = output.size()\n",
    "        return torch.tril(torch.ones((output_len, output_len)), diagonal=1).bool()\n",
    "    \n",
    "\n",
    "    def forward(self, input, output):\n",
    "        encoder = self.encoder(input) \n",
    "        mask = self.get_mask_output(output)\n",
    "        return self.decoder(output, encoder, mask=mask) \n"
   ]
  },
  {
   "cell_type": "code",
   "execution_count": 15,
   "metadata": {},
   "outputs": [
    {
     "name": "stdout",
     "output_type": "stream",
     "text": [
      "torch.Size([6, 21])\n",
      "torch.Size([6, 36])\n"
     ]
    }
   ],
   "source": [
    "batch_input = [\n",
    "    \"But what about second breakfast?\",\n",
    "    \"Don't think he knows about second breakfast, Pip.\",\n",
    "    \"What about elevensies?\",\n",
    "    \"In a cold and gray Chicago morning, a poor little baby child is born in the ghetto\",\n",
    "    \"I'll be there for you and the rain starts to pour\",\n",
    "    \"I like big butts and I cannot lie\",\n",
    "]\n",
    "\n",
    "batch_output = [\n",
    "    \"Pourquoi pas\",\n",
    "    \"Je ne pense pas\",\n",
    "    \"Je ne sais pas\",\n",
    "    \"J'ai passé la bague à Chikita, deux mois après je l'ai déjà quitté\",\n",
    "    \"H et Kaamelot sont les séries françaises les plus marrantes\",\n",
    "    \"j'entends des bruits sur mon téléphone sans fil\",\n",
    "]\n",
    "\n",
    "tokenizer_input = AutoTokenizer.from_pretrained(\"bert-base-cased\")\n",
    "tokenizer_output = AutoTokenizer.from_pretrained(\"bert-base-cased\")\n",
    "\n",
    "encoded_input = tokenizer_input(batch_input, padding=True, return_tensors=\"pt\")\n",
    "print(encoded_input.input_ids.size())\n",
    "\n",
    "encoded_output = tokenizer_output(batch_output, padding=True, return_tensors=\"pt\")\n",
    "print(encoded_output.input_ids.size())\n"
   ]
  },
  {
   "cell_type": "code",
   "execution_count": 16,
   "metadata": {},
   "outputs": [
    {
     "data": {
      "text/plain": [
       "28996"
      ]
     },
     "execution_count": 16,
     "metadata": {},
     "output_type": "execute_result"
    }
   ],
   "source": [
    "tokenizer_output.vocab_size"
   ]
  },
  {
   "cell_type": "code",
   "execution_count": 17,
   "metadata": {},
   "outputs": [],
   "source": [
    "transformer = Transformer(input_vocab_size=tokenizer_input.vocab_size,\n",
    "                          output_vocab_size=tokenizer_output.vocab_size,\n",
    "                          embedding_dim=256, \n",
    "                          num_heads=4, \n",
    "                          num_layers=5, \n",
    "                          factor=2\n",
    "                          )"
   ]
  },
  {
   "cell_type": "code",
   "execution_count": 18,
   "metadata": {},
   "outputs": [],
   "source": [
    "a = transformer(encoded_input.input_ids, encoded_output.input_ids)"
   ]
  },
  {
   "cell_type": "code",
   "execution_count": 19,
   "metadata": {},
   "outputs": [
    {
     "data": {
      "text/plain": [
       "torch.Size([6, 36])"
      ]
     },
     "execution_count": 19,
     "metadata": {},
     "output_type": "execute_result"
    }
   ],
   "source": [
    "encoded_output.input_ids.size()"
   ]
  },
  {
   "cell_type": "code",
   "execution_count": 20,
   "metadata": {},
   "outputs": [
    {
     "data": {
      "text/plain": [
       "torch.Size([6, 36, 28996])"
      ]
     },
     "execution_count": 20,
     "metadata": {},
     "output_type": "execute_result"
    }
   ],
   "source": [
    "a.size()"
   ]
  },
  {
   "cell_type": "code",
   "execution_count": 21,
   "metadata": {},
   "outputs": [
    {
     "data": {
      "text/plain": [
       "<function Tensor.size>"
      ]
     },
     "execution_count": 21,
     "metadata": {},
     "output_type": "execute_result"
    }
   ],
   "source": [
    "encoded_input.input_ids.size"
   ]
  },
  {
   "cell_type": "code",
   "execution_count": 22,
   "metadata": {},
   "outputs": [],
   "source": [
    "A = Encoder(vocab_size=tokenizer_input.vocab_size, \n",
    "            embedding_dim=256, \n",
    "            num_heads=8, \n",
    "            num_layers=3, \n",
    "            factor=2)"
   ]
  },
  {
   "cell_type": "code",
   "execution_count": 23,
   "metadata": {},
   "outputs": [],
   "source": [
    "B = A(encoded_input.input_ids)"
   ]
  },
  {
   "cell_type": "code",
   "execution_count": 24,
   "metadata": {},
   "outputs": [
    {
     "data": {
      "text/plain": [
       "torch.Size([6, 21, 256])"
      ]
     },
     "execution_count": 24,
     "metadata": {},
     "output_type": "execute_result"
    }
   ],
   "source": [
    "B.size()"
   ]
  },
  {
   "attachments": {},
   "cell_type": "markdown",
   "metadata": {},
   "source": [
    "# Use transformerencoder for classification"
   ]
  },
  {
   "cell_type": "code",
   "execution_count": 2,
   "metadata": {},
   "outputs": [],
   "source": [
    "# Import data\n",
    "emails_raw = pd.read_csv('../data/spam.csv')"
   ]
  },
  {
   "cell_type": "code",
   "execution_count": 26,
   "metadata": {},
   "outputs": [
    {
     "name": "stdout",
     "output_type": "stream",
     "text": [
      "URGENT! You have won a 1 week FREE membership in our £100,000 Prize Jackpot! Txt the word: CLAIM to No: 81010 T&C www.dbuk.net LCCLTD POBOX 4403LDNW1A7RW18\n",
      "Go until jurong point, crazy.. Available only in bugis n great world la e buffet... Cine there got amore wat...\n",
      "Do you know what Mallika Sherawat did yesterday? Find out now @  &lt;URL&gt;\n",
      "K..u also dont msg or reply to his msg..\n"
     ]
    }
   ],
   "source": [
    "# Look at some examples\n",
    "print(emails_raw['Message'].iloc[12])\n",
    "print(emails_raw['Message'].iloc[0])\n",
    "print(emails_raw['Message'].iloc[55])\n",
    "print(emails_raw['Message'].iloc[700])"
   ]
  },
  {
   "cell_type": "code",
   "execution_count": 27,
   "metadata": {},
   "outputs": [
    {
     "name": "stdout",
     "output_type": "stream",
     "text": [
      "shape of the dataset: (5572, 2)\n",
      "Number unique classes 2\n",
      "Proportions of classes: \n",
      "            Message\n",
      "Category          \n",
      "ham       0.865937\n",
      "spam      0.134063\n",
      "Number of distinct emails: 5157\n"
     ]
    }
   ],
   "source": [
    "# Get some basic stats\n",
    "print(f'shape of the dataset: {emails_raw.shape}')\n",
    "\n",
    "# Number of classes\n",
    "nb_classes = emails_raw['Category'].nunique()\n",
    "print(f'Number unique classes {nb_classes}')\n",
    "\n",
    "# Proportion of classes\n",
    "proportions_classes = emails_raw.groupby('Category').count()/len(emails_raw)\n",
    "print(f'Proportions of classes: \\n {proportions_classes}')\n",
    "# Number of distinct emails\n",
    "print(f'Number of distinct emails: {emails_raw.Message.nunique()}')\n"
   ]
  },
  {
   "attachments": {},
   "cell_type": "markdown",
   "metadata": {},
   "source": [
    "The dataset is unbalanced.  \n",
    "However the positive class is big enough to avoid (under/over) sampling or even classweights.\n",
    "\n",
    "We have 5157 unique emails and 5572 raws in the dataset. Let's check if they have the same class and can be deleted."
   ]
  },
  {
   "cell_type": "code",
   "execution_count": 28,
   "metadata": {},
   "outputs": [],
   "source": [
    "message_count = emails_raw.groupby('Message').count()\n",
    "message_count.columns = ['nb_messages']\n",
    "message_count = message_count[message_count['nb_messages']>1]"
   ]
  },
  {
   "cell_type": "code",
   "execution_count": 29,
   "metadata": {},
   "outputs": [
    {
     "data": {
      "text/html": [
       "<div>\n",
       "<style scoped>\n",
       "    .dataframe tbody tr th:only-of-type {\n",
       "        vertical-align: middle;\n",
       "    }\n",
       "\n",
       "    .dataframe tbody tr th {\n",
       "        vertical-align: top;\n",
       "    }\n",
       "\n",
       "    .dataframe thead th {\n",
       "        text-align: right;\n",
       "    }\n",
       "</style>\n",
       "<table border=\"1\" class=\"dataframe\">\n",
       "  <thead>\n",
       "    <tr style=\"text-align: right;\">\n",
       "      <th></th>\n",
       "      <th>nb_messages</th>\n",
       "    </tr>\n",
       "    <tr>\n",
       "      <th>Message</th>\n",
       "      <th></th>\n",
       "    </tr>\n",
       "  </thead>\n",
       "  <tbody>\n",
       "    <tr>\n",
       "      <th>Mila, age23, blonde, new in UK. I look sex with UK guys. if u like fun with me. Text MTALK to 69866.18 . 30pp/txt 1st 5free. £1.50 increments. Help08718728876</th>\n",
       "      <td>2</td>\n",
       "    </tr>\n",
       "    <tr>\n",
       "      <th>Ok lor.</th>\n",
       "      <td>2</td>\n",
       "    </tr>\n",
       "    <tr>\n",
       "      <th>Ok thanx...</th>\n",
       "      <td>2</td>\n",
       "    </tr>\n",
       "    <tr>\n",
       "      <th>Ok then i will come to ur home after half an hour</th>\n",
       "      <td>2</td>\n",
       "    </tr>\n",
       "    <tr>\n",
       "      <th>PRIVATE! Your 2004 Account Statement for 07742676969 shows 786 unredeemed Bonus Points. To claim call 08719180248 Identifier Code: 45239 Expires</th>\n",
       "      <td>2</td>\n",
       "    </tr>\n",
       "    <tr>\n",
       "      <th>...</th>\n",
       "      <td>...</td>\n",
       "    </tr>\n",
       "    <tr>\n",
       "      <th>Say this slowly.? GOD,I LOVE YOU &amp;amp; I NEED YOU,CLEAN MY HEART WITH YOUR BLOOD.Send this to Ten special people &amp;amp; u c miracle tomorrow, do it,pls,pls do it...</th>\n",
       "      <td>4</td>\n",
       "    </tr>\n",
       "    <tr>\n",
       "      <th>7 wonders in My WORLD 7th You 6th Ur style 5th Ur smile 4th Ur Personality 3rd Ur Nature 2nd Ur SMS and 1st \"Ur Lovely Friendship\"... good morning dear</th>\n",
       "      <td>4</td>\n",
       "    </tr>\n",
       "    <tr>\n",
       "      <th>Ok...</th>\n",
       "      <td>10</td>\n",
       "    </tr>\n",
       "    <tr>\n",
       "      <th>I cant pick the phone right now. Pls send a message</th>\n",
       "      <td>12</td>\n",
       "    </tr>\n",
       "    <tr>\n",
       "      <th>Sorry, I'll call later</th>\n",
       "      <td>30</td>\n",
       "    </tr>\n",
       "  </tbody>\n",
       "</table>\n",
       "<p>289 rows × 1 columns</p>\n",
       "</div>"
      ],
      "text/plain": [
       "                                                    nb_messages\n",
       "Message                                                        \n",
       "Mila, age23, blonde, new in UK. I look sex with...            2\n",
       "Ok lor.                                                       2\n",
       "Ok thanx...                                                   2\n",
       "Ok then i will come to ur home after half an hour             2\n",
       "PRIVATE! Your 2004 Account Statement for 077426...            2\n",
       "...                                                         ...\n",
       "Say this slowly.? GOD,I LOVE YOU &amp; I NEED Y...            4\n",
       "7 wonders in My WORLD 7th You 6th Ur style 5th ...            4\n",
       "Ok...                                                        10\n",
       "I cant pick the phone right now. Pls send a mes...           12\n",
       "Sorry, I'll call later                                       30\n",
       "\n",
       "[289 rows x 1 columns]"
      ]
     },
     "execution_count": 29,
     "metadata": {},
     "output_type": "execute_result"
    }
   ],
   "source": [
    "message_count.sort_values(by='nb_messages')"
   ]
  },
  {
   "attachments": {},
   "cell_type": "markdown",
   "metadata": {},
   "source": [
    "We see that repeated emails are\n",
    "1. emails with basic answers like 'OK'\n",
    "2. emails we can send automatically when someone call us \"Sorry, I'll call later\"\n",
    "3. emails considered as chain \"Send this to Ten special people\"\n",
    "4. spams received by multiple accounts  \n",
    "...  \n",
    "\n",
    "Let's check if they belong to the same class at least"
   ]
  },
  {
   "cell_type": "code",
   "execution_count": 30,
   "metadata": {},
   "outputs": [],
   "source": [
    "def check_all_msg_same_class(message):\n",
    "    list_similar_emails = emails_raw[emails_raw['Message'] == message]['Category']\n",
    "    class_email = list_similar_emails.iloc[0]\n",
    "    return list_similar_emails.tolist() == [class_email]*len(list_similar_emails)"
   ]
  },
  {
   "cell_type": "code",
   "execution_count": 31,
   "metadata": {},
   "outputs": [],
   "source": [
    "for message in message_count.index:\n",
    "    if not check_all_msg_same_class(message):\n",
    "        print('There are similar emails that have at least 2 different classes')"
   ]
  },
  {
   "attachments": {},
   "cell_type": "markdown",
   "metadata": {},
   "source": [
    "Distinct messages have the same class in the dataset.  \n",
    "Which means that there is not incoherence in the dataset information carried by these emails.  \n",
    "The decision concerning these emails depend on how the dataset is built.\n",
    "1. If the dataset is a sample of real emails received by a representative group of persons, then we can keep them. Indeed by keeping them we give them more weight which is logical as they appear multiple times.\n",
    "2. If these emails are selectionned, it doesn't make sense to give more weight to specific emails, except if there is a idea behind.  \n",
    "\n",
    "As we don't have information, we suppose that these emails are a sample of real emails"
   ]
  },
  {
   "attachments": {},
   "cell_type": "markdown",
   "metadata": {},
   "source": [
    "# Transform dataframe to a pytorch Dataclass"
   ]
  },
  {
   "cell_type": "code",
   "execution_count": 32,
   "metadata": {},
   "outputs": [
    {
     "data": {
      "text/plain": [
       "0       0\n",
       "1       0\n",
       "2       1\n",
       "3       0\n",
       "4       0\n",
       "       ..\n",
       "5567    1\n",
       "5568    0\n",
       "5569    0\n",
       "5570    0\n",
       "5571    0\n",
       "Name: category_binary, Length: 5572, dtype: int64"
      ]
     },
     "execution_count": 32,
     "metadata": {},
     "output_type": "execute_result"
    }
   ],
   "source": [
    "emails_raw['category_binary'] = [0 if msg == 'ham' else 1 for msg in emails_raw['Category']]\n",
    "emails_raw['category_binary']"
   ]
  },
  {
   "cell_type": "code",
   "execution_count": 33,
   "metadata": {},
   "outputs": [],
   "source": [
    "tokenizer_input = AutoTokenizer.from_pretrained(\"bert-base-cased\")\n",
    "\n",
    "encoded_input = tokenizer_input(emails_raw['Message'].tolist(), padding=True, return_tensors=\"pt\")"
   ]
  },
  {
   "cell_type": "code",
   "execution_count": 34,
   "metadata": {},
   "outputs": [
    {
     "data": {
      "text/plain": [
       "torch.Size([5572, 293])"
      ]
     },
     "execution_count": 34,
     "metadata": {},
     "output_type": "execute_result"
    }
   ],
   "source": [
    "encoded_input.input_ids.shape"
   ]
  },
  {
   "cell_type": "code",
   "execution_count": 37,
   "metadata": {},
   "outputs": [],
   "source": [
    "x_train_val, x_test, y_train_val, y_test = train_test_split(encoded_input.input_ids, \n",
    "                                                            torch.tensor(emails_raw['category_binary'], \n",
    "                                                                         dtype=torch.float32), \n",
    "                                                            train_size=0.8, \n",
    "                                                            shuffle=True,\n",
    "                                                            stratify=torch.tensor(emails_raw['category_binary'], \n",
    "                                                                     dtype=torch.float32),\n",
    "                                                            random_state=12)\n",
    "\n",
    "x_train, x_val, y_train, y_val = train_test_split(x_train_val,\n",
    "                                                  y_train_val,\n",
    "                                                  train_size=0.8, \n",
    "                                                  shuffle=True,\n",
    "                                                  stratify=y_train_val,\n",
    "                                                  random_state=56)"
   ]
  },
  {
   "cell_type": "code",
   "execution_count": 38,
   "metadata": {},
   "outputs": [
    {
     "name": "stdout",
     "output_type": "stream",
     "text": [
      "Shapes of x_train: 3565 and y_train: 3565\n",
      "Shapes of x_val: 892 and y_val: 892\n",
      "Shapes of x_test: 1115 and y_test: 1115\n",
      "proportion of spam in train: 0.13408134877681732, in validation: 0.13452914357185364, and in test: 0.13363228738307953\n"
     ]
    }
   ],
   "source": [
    "print(f'Shapes of x_train: {len(x_train)} and y_train: {len(y_train)}')\n",
    "print(f'Shapes of x_val: {len(x_val)} and y_val: {len(y_val)}')\n",
    "print(f'Shapes of x_test: {len(x_test)} and y_test: {len(y_test)}')\n",
    "print(f'proportion of spam in train: {y_train.sum()/len(y_train)}, in validation: {y_val.sum()/len(y_val)}, and in test: {y_test.sum()/len(y_test)}')"
   ]
  },
  {
   "cell_type": "code",
   "execution_count": 39,
   "metadata": {},
   "outputs": [],
   "source": [
    "class dataset(Dataset):\n",
    "    def __init__(self, x, y):\n",
    "        self.x = x\n",
    "        self.y = y\n",
    "        self.length = self.x.shape[0]\n",
    "\n",
    "    def __getitem__(self, idx):\n",
    "        return self.x[idx],self.y[idx]\n",
    "\n",
    "    def __len__(self):\n",
    "        return self.length"
   ]
  },
  {
   "cell_type": "code",
   "execution_count": 40,
   "metadata": {},
   "outputs": [],
   "source": [
    "train_set = dataset(x_train, y_train)\n",
    "val_set = dataset(x_val, y_val)\n",
    "test_set = dataset(x_test, y_test)"
   ]
  },
  {
   "cell_type": "code",
   "execution_count": 41,
   "metadata": {},
   "outputs": [],
   "source": [
    "#DataLoader\n",
    "batch_size = 64\n",
    "train_loader = DataLoader(train_set, batch_size=batch_size, shuffle=False)\n",
    "val_loader = DataLoader(val_set, batch_size=batch_size, shuffle=False)\n",
    "test_loader = DataLoader(test_set, batch_size=batch_size, shuffle=False)"
   ]
  },
  {
   "cell_type": "markdown",
   "metadata": {},
   "source": [
    "# Build model"
   ]
  },
  {
   "cell_type": "code",
   "execution_count": 42,
   "metadata": {},
   "outputs": [],
   "source": [
    "class EarlyStopping:\n",
    "    def __init__(self, patience=5, delta=0, verbose=False):\n",
    "        \"\"\"\n",
    "        Args:\n",
    "            patience (int): How long to wait after the last time the validation loss improved.\n",
    "                            Default: 5\n",
    "            delta (float): Minimum change in the monitored quantity to qualify as an improvement.\n",
    "                           Default: 0\n",
    "            verbose (bool): If True, prints a message for each validation loss improvement.\n",
    "                            Default: False\n",
    "            path (str): Path to save the model checkpoint when the validation loss improves.\n",
    "                        Default: 'checkpoint.pt'\n",
    "        \"\"\"\n",
    "        self.patience = patience\n",
    "        self.delta = delta\n",
    "        self.verbose = verbose\n",
    "        self.counter = 0\n",
    "        self.best_score = None\n",
    "        self.early_stop = False\n",
    "\n",
    "    def __call__(self, val_loss, model):\n",
    "        \"\"\"\n",
    "        Args:\n",
    "            val_loss (float): Validation loss to monitor.\n",
    "            model (nn.Module): PyTorch model to save when the validation loss improves.\n",
    "        \"\"\"\n",
    "        if self.best_score is None:\n",
    "            self.best_score = val_loss\n",
    "        elif val_loss < self.best_score - self.delta:\n",
    "            self.best_score = val_loss\n",
    "            self.counter = 0\n",
    "        else:\n",
    "            self.counter += 1\n",
    "            if self.counter >= self.patience:\n",
    "                self.early_stop = True\n",
    "\n",
    "        if self.verbose:\n",
    "            print(f'EarlyStopping Counter: {self.counter} out of {self.patience}')"
   ]
  },
  {
   "cell_type": "code",
   "execution_count": 43,
   "metadata": {},
   "outputs": [],
   "source": [
    "class SpamClassifier(nn.Module):\n",
    "    def __init__(self, \n",
    "                 embedding_dim,\n",
    "                 vocab_size=tokenizer_input.vocab_size, \n",
    "                 num_heads=4, \n",
    "                 num_layers=3, \n",
    "                 factor=2,\n",
    "                 latent_1=64):\n",
    "        super().__init__()\n",
    "\n",
    "        self.sigmoid = nn.Sigmoid()\n",
    "        self.encoder = Encoder(\n",
    "            vocab_size=vocab_size, \n",
    "            embedding_dim=embedding_dim, \n",
    "            num_heads=num_heads, \n",
    "            num_layers=num_layers, \n",
    "            factor=factor\n",
    "        )\n",
    "        self.linear = nn.Sequential(\n",
    "            nn.Linear(embedding_dim, latent_1),\n",
    "            nn.ReLU(),\n",
    "            nn.Linear(latent_1, 1),\n",
    "        )\n",
    "\n",
    "    def forward(self, x):\n",
    "        encoder = self.encoder(x)\n",
    "        encoder_reshaped = encoder.mean(dim=1)\n",
    "        out = self.linear(encoder_reshaped)\n",
    "        return self.sigmoid(out)"
   ]
  },
  {
   "cell_type": "code",
   "execution_count": 44,
   "metadata": {},
   "outputs": [],
   "source": [
    "def train(dataloader, model, loss_fn, optimizer):\n",
    "    size = len(dataloader.dataset)\n",
    "    model.train()\n",
    "    for batch, (X, y) in enumerate(dataloader):\n",
    "        # Compute prediction and loss\n",
    "        pred = model(X)\n",
    "        loss = loss_fn(pred, y.unsqueeze(1))\n",
    "\n",
    "        # Backpropagation\n",
    "        # Backpropagate the prediction loss with a call to loss.backward(). \n",
    "        # PyTorch deposits the gradients of the loss w.r.t. each parameter.\n",
    "        loss.backward()\n",
    "        # Once we have our gradients, we call optimizer.step() to adjust the parameters \n",
    "        # by the gradients collected in the backward pass.\n",
    "        optimizer.step()\n",
    "        # Call optimizer.zero_grad() to reset the gradients of model parameters. \n",
    "        # Gradients by default add up; to prevent double-counting, we explicitly zero them at each iteration.\n",
    "        optimizer.zero_grad()\n",
    "\n",
    "        if batch % 10 == 0:\n",
    "            loss, current = loss.item(), (batch + 1) * len(X)\n",
    "            print(f\"loss: {loss:>7f}  [{current:>5d}/{size:>5d}]\")"
   ]
  },
  {
   "cell_type": "code",
   "execution_count": 45,
   "metadata": {},
   "outputs": [],
   "source": [
    "def eval(dataloader, model, loss_fn):\n",
    "    # Set the model to evaluation mode - important for batch normalization and dropout layers\n",
    "    # Unnecessary in this situation but added for best practices\n",
    "    model.eval()\n",
    "    num_batches = len(dataloader)\n",
    "    test_loss, pr_aucs = 0, []\n",
    "    y_true = []\n",
    "    y_pred = []\n",
    "    # Evaluating the model with torch.no_grad() ensures that no gradients are computed during test mode\n",
    "    # also serves to reduce unnecessary gradient computations and memory usage for tensors with requires_grad=True\n",
    "    with torch.no_grad():\n",
    "        for X, y in dataloader:\n",
    "            # Perform predict\n",
    "            pred = model(X)\n",
    "            # Compute the the prediction error (loss) and convert it to numpy\n",
    "            test_loss += loss_fn(pred, y.unsqueeze(1)).item()\n",
    "            # Sum of correct predictions\n",
    "            pr_aucs.append(average_precision_score(y.numpy(), pred.numpy()))\n",
    "            y_true += y.numpy().tolist()\n",
    "            y_pred += pred.numpy().tolist()\n",
    "\n",
    "    test_loss /= num_batches\n",
    "    pr_auc = np.mean(pr_aucs)\n",
    "    print(f\"Test Error: Avg loss: {test_loss:>8f} and pr auc: {pr_auc} \\n\")\n",
    "    return test_loss, y_true, y_pred"
   ]
  },
  {
   "cell_type": "code",
   "execution_count": 50,
   "metadata": {},
   "outputs": [],
   "source": [
    "#hyper parameters\n",
    "learning_rate = 0.001\n",
    "epochs = 10\n",
    "embedding_dim = 256\n",
    "# Model , Optimizer, Loss\n",
    "model = SpamClassifier(embedding_dim=embedding_dim)\n",
    "optimizer = torch.optim.Adam(model.parameters(), lr=0.001)\n",
    "loss_fn = nn.BCELoss()\n"
   ]
  },
  {
   "cell_type": "code",
   "execution_count": 51,
   "metadata": {},
   "outputs": [
    {
     "name": "stdout",
     "output_type": "stream",
     "text": [
      "Epoch 1\n",
      "-------------------------------\n",
      "loss: 0.625748  [   64/ 3565]\n",
      "loss: 0.397953  [  704/ 3565]\n",
      "loss: 0.435655  [ 1344/ 3565]\n",
      "loss: 0.398657  [ 1984/ 3565]\n",
      "loss: 0.295726  [ 2624/ 3565]\n",
      "loss: 0.293966  [ 3264/ 3565]\n",
      "Test Error: Avg loss: 0.264266 and pr auc: 0.626284843384567 \n",
      "\n",
      "EarlyStopping Counter: 0 out of 3\n",
      "Epoch 2\n",
      "-------------------------------\n",
      "loss: 0.283406  [   64/ 3565]\n",
      "loss: 0.240218  [  704/ 3565]\n",
      "loss: 0.385211  [ 1344/ 3565]\n",
      "loss: 0.332299  [ 1984/ 3565]\n",
      "loss: 0.218402  [ 2624/ 3565]\n",
      "loss: 0.210103  [ 3264/ 3565]\n",
      "Test Error: Avg loss: 0.229136 and pr auc: 0.7138833195194734 \n",
      "\n",
      "EarlyStopping Counter: 0 out of 3\n",
      "Epoch 3\n",
      "-------------------------------\n",
      "loss: 0.203358  [   64/ 3565]\n",
      "loss: 0.176023  [  704/ 3565]\n",
      "loss: 0.265041  [ 1344/ 3565]\n",
      "loss: 0.189610  [ 1984/ 3565]\n",
      "loss: 0.195706  [ 2624/ 3565]\n",
      "loss: 0.140894  [ 3264/ 3565]\n",
      "Test Error: Avg loss: 0.178549 and pr auc: 0.8375465164676716 \n",
      "\n",
      "EarlyStopping Counter: 0 out of 3\n",
      "Epoch 4\n",
      "-------------------------------\n",
      "loss: 0.161442  [   64/ 3565]\n",
      "loss: 0.107301  [  704/ 3565]\n",
      "loss: 0.233217  [ 1344/ 3565]\n",
      "loss: 0.072308  [ 1984/ 3565]\n",
      "loss: 0.087755  [ 2624/ 3565]\n",
      "loss: 0.073072  [ 3264/ 3565]\n",
      "Test Error: Avg loss: 0.267812 and pr auc: 0.9595617486124886 \n",
      "\n",
      "EarlyStopping Counter: 1 out of 3\n",
      "Epoch 5\n",
      "-------------------------------\n",
      "loss: 0.131180  [   64/ 3565]\n",
      "loss: 0.035049  [  704/ 3565]\n",
      "loss: 0.095834  [ 1344/ 3565]\n",
      "loss: 0.068091  [ 1984/ 3565]\n",
      "loss: 0.080903  [ 2624/ 3565]\n",
      "loss: 0.022650  [ 3264/ 3565]\n",
      "Test Error: Avg loss: 0.097825 and pr auc: 0.969115340444122 \n",
      "\n",
      "EarlyStopping Counter: 0 out of 3\n",
      "Epoch 6\n",
      "-------------------------------\n",
      "loss: 0.018336  [   64/ 3565]\n",
      "loss: 0.036892  [  704/ 3565]\n",
      "loss: 0.074066  [ 1344/ 3565]\n",
      "loss: 0.025916  [ 1984/ 3565]\n",
      "loss: 0.023209  [ 2624/ 3565]\n",
      "loss: 0.007488  [ 3264/ 3565]\n",
      "Test Error: Avg loss: 0.092337 and pr auc: 0.9782147903834323 \n",
      "\n",
      "EarlyStopping Counter: 0 out of 3\n",
      "Epoch 7\n",
      "-------------------------------\n",
      "loss: 0.005623  [   64/ 3565]\n",
      "loss: 0.039142  [  704/ 3565]\n",
      "loss: 0.053939  [ 1344/ 3565]\n",
      "loss: 0.025976  [ 1984/ 3565]\n",
      "loss: 0.014972  [ 2624/ 3565]\n",
      "loss: 0.010973  [ 3264/ 3565]\n",
      "Test Error: Avg loss: 0.100648 and pr auc: 0.9789746334299805 \n",
      "\n",
      "EarlyStopping Counter: 1 out of 3\n",
      "Epoch 8\n",
      "-------------------------------\n",
      "loss: 0.003028  [   64/ 3565]\n",
      "loss: 0.003539  [  704/ 3565]\n",
      "loss: 0.006090  [ 1344/ 3565]\n",
      "loss: 0.015497  [ 1984/ 3565]\n",
      "loss: 0.006574  [ 2624/ 3565]\n",
      "loss: 0.002725  [ 3264/ 3565]\n",
      "Test Error: Avg loss: 0.118593 and pr auc: 0.9791923832976683 \n",
      "\n",
      "EarlyStopping Counter: 2 out of 3\n",
      "Epoch 9\n",
      "-------------------------------\n",
      "loss: 0.000973  [   64/ 3565]\n",
      "loss: 0.004719  [  704/ 3565]\n",
      "loss: 0.022827  [ 1344/ 3565]\n",
      "loss: 0.006136  [ 1984/ 3565]\n",
      "loss: 0.001244  [ 2624/ 3565]\n",
      "loss: 0.000566  [ 3264/ 3565]\n",
      "Test Error: Avg loss: 0.094389 and pr auc: 0.9826062051007909 \n",
      "\n",
      "EarlyStopping Counter: 3 out of 3\n",
      "Early stopping\n",
      "Done!\n"
     ]
    }
   ],
   "source": [
    "epochs = 15\n",
    "early_stopping = EarlyStopping(patience=3, verbose=True)\n",
    "\n",
    "for t in range(epochs):\n",
    "    print(f\"Epoch {t+1}\\n-------------------------------\")\n",
    "    train(train_loader, model, loss_fn, optimizer)\n",
    "    val_loss, _, _ = eval(val_loader, model, loss_fn)\n",
    "    \n",
    "    # Check for early stopping\n",
    "    early_stopping(val_loss, model)\n",
    "    \n",
    "    if early_stopping.early_stop:\n",
    "        print(\"Early stopping\")\n",
    "        break\n",
    "\n",
    "print(\"Done!\")"
   ]
  },
  {
   "cell_type": "code",
   "execution_count": 53,
   "metadata": {},
   "outputs": [
    {
     "name": "stdout",
     "output_type": "stream",
     "text": [
      "Test Error: Avg loss: 0.067687 and pr auc: 0.9868463642233011 \n",
      "\n"
     ]
    }
   ],
   "source": [
    "test_loss, y_true, y_pred = eval(test_loader, model, loss_fn)"
   ]
  },
  {
   "cell_type": "code",
   "execution_count": 55,
   "metadata": {},
   "outputs": [
    {
     "data": {
      "image/png": "[encoded data removed]",
      "text/plain": [
       "<Figure size 800x600 with 1 Axes>"
      ]
     },
     "metadata": {},
     "output_type": "display_data"
    }
   ],
   "source": [
    "# Compute precision and recall\n",
    "precision, recall, _ = precision_recall_curve(y_true, y_pred)\n",
    "average_precision = average_precision_score(y_true, y_pred)\n",
    "\n",
    "# Plot precision-recall curve using Seaborn\n",
    "plt.figure(figsize=(8, 6))\n",
    "sns.lineplot(x=precision, y=recall, label=f'Precision-Recall Curve (AP = {average_precision:.2f})')\n",
    "plt.xlabel('Recall')\n",
    "plt.ylabel('Precision')\n",
    "plt.title('Precision-Recall Curve')\n",
    "plt.legend()\n",
    "plt.show()"
   ]
  },
  {
   "cell_type": "code",
   "execution_count": 56,
   "metadata": {},
   "outputs": [],
   "source": [
    "y_true_pred = pd.DataFrame({'y_true': y_true, 'y_pred': [x[0] for x in y_pred]})"
   ]
  },
  {
   "cell_type": "code",
   "execution_count": 57,
   "metadata": {},
   "outputs": [
    {
     "data": {
      "text/html": [
       "<div>\n",
       "<style scoped>\n",
       "    .dataframe tbody tr th:only-of-type {\n",
       "        vertical-align: middle;\n",
       "    }\n",
       "\n",
       "    .dataframe tbody tr th {\n",
       "        vertical-align: top;\n",
       "    }\n",
       "\n",
       "    .dataframe thead th {\n",
       "        text-align: right;\n",
       "    }\n",
       "</style>\n",
       "<table border=\"1\" class=\"dataframe\">\n",
       "  <thead>\n",
       "    <tr style=\"text-align: right;\">\n",
       "      <th></th>\n",
       "      <th>y_true</th>\n",
       "      <th>y_pred</th>\n",
       "    </tr>\n",
       "  </thead>\n",
       "  <tbody>\n",
       "    <tr>\n",
       "      <th>0</th>\n",
       "      <td>0.0</td>\n",
       "      <td>0.000021</td>\n",
       "    </tr>\n",
       "    <tr>\n",
       "      <th>1</th>\n",
       "      <td>0.0</td>\n",
       "      <td>0.000146</td>\n",
       "    </tr>\n",
       "    <tr>\n",
       "      <th>2</th>\n",
       "      <td>0.0</td>\n",
       "      <td>0.000018</td>\n",
       "    </tr>\n",
       "    <tr>\n",
       "      <th>3</th>\n",
       "      <td>1.0</td>\n",
       "      <td>0.999184</td>\n",
       "    </tr>\n",
       "    <tr>\n",
       "      <th>4</th>\n",
       "      <td>1.0</td>\n",
       "      <td>0.999231</td>\n",
       "    </tr>\n",
       "    <tr>\n",
       "      <th>...</th>\n",
       "      <td>...</td>\n",
       "      <td>...</td>\n",
       "    </tr>\n",
       "    <tr>\n",
       "      <th>1110</th>\n",
       "      <td>1.0</td>\n",
       "      <td>0.999254</td>\n",
       "    </tr>\n",
       "    <tr>\n",
       "      <th>1111</th>\n",
       "      <td>0.0</td>\n",
       "      <td>0.000025</td>\n",
       "    </tr>\n",
       "    <tr>\n",
       "      <th>1112</th>\n",
       "      <td>0.0</td>\n",
       "      <td>0.000049</td>\n",
       "    </tr>\n",
       "    <tr>\n",
       "      <th>1113</th>\n",
       "      <td>0.0</td>\n",
       "      <td>0.000021</td>\n",
       "    </tr>\n",
       "    <tr>\n",
       "      <th>1114</th>\n",
       "      <td>0.0</td>\n",
       "      <td>0.000019</td>\n",
       "    </tr>\n",
       "  </tbody>\n",
       "</table>\n",
       "<p>1115 rows × 2 columns</p>\n",
       "</div>"
      ],
      "text/plain": [
       "      y_true    y_pred\n",
       "0        0.0  0.000021\n",
       "1        0.0  0.000146\n",
       "2        0.0  0.000018\n",
       "3        1.0  0.999184\n",
       "4        1.0  0.999231\n",
       "...      ...       ...\n",
       "1110     1.0  0.999254\n",
       "1111     0.0  0.000025\n",
       "1112     0.0  0.000049\n",
       "1113     0.0  0.000021\n",
       "1114     0.0  0.000019\n",
       "\n",
       "[1115 rows x 2 columns]"
      ]
     },
     "execution_count": 57,
     "metadata": {},
     "output_type": "execute_result"
    }
   ],
   "source": [
    "y_true_pred"
   ]
  },
  {
   "cell_type": "code",
   "execution_count": 58,
   "metadata": {},
   "outputs": [
    {
     "data": {
      "image/png": "[encoded data removed]",
      "text/plain": [
       "<Figure size 1200x600 with 2 Axes>"
      ]
     },
     "metadata": {},
     "output_type": "display_data"
    }
   ],
   "source": [
    "# Set up the figure with two subplots\n",
    "fig, axes = plt.subplots(1, 2, figsize=(12, 6), sharey=True)\n",
    "\n",
    "# Plot the histograms side by side using Seaborn\n",
    "sns.histplot(y_true_pred[y_true_pred['y_true'] == 1]['y_pred'], bins=30, ax=axes[0], color='blue', label='Spam')\n",
    "sns.histplot(y_true_pred[y_true_pred['y_true'] == 0]['y_pred'], bins=30, ax=axes[1], color='orange', label='Non Spam')\n",
    "\n",
    "# Add legend\n",
    "axes[0].legend()\n",
    "axes[1].legend()\n",
    "\n",
    "# Show the plot\n",
    "plt.show()"
   ]
  },
  {
   "cell_type": "code",
   "execution_count": 59,
   "metadata": {},
   "outputs": [
    {
     "data": {
      "text/plain": [
       "0.1336322869955157"
      ]
     },
     "execution_count": 59,
     "metadata": {},
     "output_type": "execute_result"
    }
   ],
   "source": [
    "len(y_true_pred[y_true_pred['y_pred'] > 0.5])/len(y_true_pred)"
   ]
  },
  {
   "cell_type": "code",
   "execution_count": null,
   "metadata": {},
   "outputs": [],
   "source": []
  }
 ],
 "metadata": {
  "kernelspec": {
   "display_name": "transformers-implementation-env",
   "language": "python",
   "name": "python3"
  },
  "language_info": {
   "codemirror_mode": {
    "name": "ipython",
    "version": 3
   },
   "file_extension": ".py",
   "mimetype": "text/x-python",
   "name": "python",
   "nbconvert_exporter": "python",
   "pygments_lexer": "ipython3",
   "version": "3.10.9"
  }
 },
 "nbformat": 4,
 "nbformat_minor": 2
}
